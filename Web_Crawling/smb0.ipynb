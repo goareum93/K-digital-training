{
  "nbformat": 4,
  "nbformat_minor": 5,
  "metadata": {
    "kernelspec": {
      "display_name": "Python 3",
      "language": "python",
      "name": "python3"
    },
    "language_info": {
      "codemirror_mode": {
        "name": "ipython",
        "version": 3
      },
      "file_extension": ".py",
      "mimetype": "text/x-python",
      "name": "python",
      "nbconvert_exporter": "python",
      "pygments_lexer": "ipython3",
      "version": "3.7.6"
    },
    "colab": {
      "name": "smb0.ipynb",
      "provenance": [],
      "include_colab_link": true
    }
  },
  "cells": [
    {
      "cell_type": "markdown",
      "metadata": {
        "id": "view-in-github",
        "colab_type": "text"
      },
      "source": [
        "<a href=\"https://colab.research.google.com/github/goareum93/K-digital-training/blob/master/Web_Crawling/smb0.ipynb\" target=\"_parent\"><img src=\"https://colab.research.google.com/assets/colab-badge.svg\" alt=\"Open In Colab\"/></a>"
      ]
    },
    {
      "cell_type": "code",
      "metadata": {
        "id": "naughty-spare"
      },
      "source": [
        ""
      ],
      "id": "naughty-spare",
      "execution_count": null,
      "outputs": []
    },
    {
      "cell_type": "code",
      "metadata": {
        "id": "extended-insurance"
      },
      "source": [
        "# 소상공인 상가업소 정보 서비스 \n",
        "# https://www.data.go.kr/iim/api/selectAPIAcountView.do"
      ],
      "id": "extended-insurance",
      "execution_count": null,
      "outputs": []
    },
    {
      "cell_type": "code",
      "metadata": {
        "id": "boring-destruction"
      },
      "source": [
        "api_key = 'gHnLIGXAw7cOgxHCgYjmWusGl29WbYzDvkd3%2FdQkK0QwkE9uY2lKiDh8wrWy4Y8GykLF7iZra4Fck8%2FNxkPxSw%3D%3D'"
      ],
      "id": "boring-destruction",
      "execution_count": null,
      "outputs": []
    },
    {
      "cell_type": "code",
      "metadata": {
        "id": "parliamentary-aggregate"
      },
      "source": [
        "import urllib.request"
      ],
      "id": "parliamentary-aggregate",
      "execution_count": null,
      "outputs": []
    },
    {
      "cell_type": "code",
      "metadata": {
        "id": "BSEgFwGPgQf8"
      },
      "source": [
        "url00 = 'http://apis.data.go.kr/B553077/api/open/sdsc/storeListInDong?divId=ctprvnCd&key=11&ServiceKey=gHnLIGXAw7cOgxHCgYjmWusGl29WbYzDvkd3%2FdQkK0QwkE9uY2lKiDh8wrWy4Y8GykLF7iZra4Fck8%2FNxkPxSw%3D%3D&type=json'"
      ],
      "id": "BSEgFwGPgQf8",
      "execution_count": null,
      "outputs": []
    },
    {
      "cell_type": "code",
      "metadata": {
        "id": "m-bZKvZShFea"
      },
      "source": [
        "# 지정 상권조회(storeZoneOne) \n",
        "url01 = 'http://apis.data.go.kr/B553077/api/open/sdsc/storeZoneOne?key=573&ServiceKey=gHnLIGXAw7cOgxHCgYjmWusGl29WbYzDvkd3%2FdQkK0QwkE9uY2lKiDh8wrWy4Y8GykLF7iZra4Fck8%2FNxkPxSw%3D%3D'"
      ],
      "id": "m-bZKvZShFea",
      "execution_count": null,
      "outputs": []
    },
    {
      "cell_type": "code",
      "metadata": {
        "id": "PoJ9_lg9hlTR"
      },
      "source": [
        "# 반경내 상권조회(storeZoneInRadius) \n",
        "url02 = 'http://apis.data.go.kr/B553077/api/open/sdsc/storeZoneInRadius?radius=500&cx=127.004528&cy=37.567538&ServiceKey=gHnLIGXAw7cOgxHCgYjmWusGl29WbYzDvkd3%2FdQkK0QwkE9uY2lKiDh8wrWy4Y8GykLF7iZra4Fck8%2FNxkPxSw%3D%3D'"
      ],
      "id": "PoJ9_lg9hlTR",
      "execution_count": null,
      "outputs": []
    },
    {
      "cell_type": "code",
      "metadata": {
        "id": "functioning-squad"
      },
      "source": [
        "#-*- coding:utf-8 -*-\n",
        "url = 'http://apis.data.go.kr/B553077/api/open/sdsc/storeListInDong?divId=ctprvnCd&key=11&ServiceKey='+api_key+'&type=json'"
      ],
      "id": "functioning-squad",
      "execution_count": null,
      "outputs": []
    },
    {
      "cell_type": "code",
      "metadata": {
        "id": "round-cooperative",
        "colab": {
          "base_uri": "https://localhost:8080/",
          "height": 34
        },
        "outputId": "f007ceff-11ff-4bfc-cebf-dc43aa26632f"
      },
      "source": [
        "url"
      ],
      "id": "round-cooperative",
      "execution_count": null,
      "outputs": [
        {
          "output_type": "execute_result",
          "data": {
            "application/vnd.google.colaboratory.intrinsic+json": {
              "type": "string"
            },
            "text/plain": [
              "'http://apis.data.go.kr/B553077/api/open/sdsc/storeListInDong?divId=ctprvnCd&key=11&ServiceKey=gHnLIGXAw7cOgxHCgYjmWusGl29WbYzDvkd3%2FdQkK0QwkE9uY2lKiDh8wrWy4Y8GykLF7iZra4Fck8%2FNxkPxSw%3D%3D&type=json'"
            ]
          },
          "metadata": {
            "tags": []
          },
          "execution_count": 4
        }
      ]
    },
    {
      "cell_type": "code",
      "metadata": {
        "id": "verbal-mediterranean"
      },
      "source": [
        "response = urllib.request.urlopen(url)"
      ],
      "id": "verbal-mediterranean",
      "execution_count": null,
      "outputs": []
    },
    {
      "cell_type": "code",
      "metadata": {
        "id": "flush-elimination",
        "colab": {
          "base_uri": "https://localhost:8080/"
        },
        "outputId": "25e035d7-fc06-4f65-b253-259e0df1909d"
      },
      "source": [
        "response"
      ],
      "id": "flush-elimination",
      "execution_count": null,
      "outputs": [
        {
          "output_type": "execute_result",
          "data": {
            "text/plain": [
              "<http.client.HTTPResponse at 0x7fa7c47de790>"
            ]
          },
          "metadata": {
            "tags": []
          },
          "execution_count": 6
        }
      ]
    },
    {
      "cell_type": "code",
      "metadata": {
        "id": "fossil-exception"
      },
      "source": [
        "json_str = response.read().decode(\"utf-8\")"
      ],
      "id": "fossil-exception",
      "execution_count": null,
      "outputs": []
    },
    {
      "cell_type": "code",
      "metadata": {
        "id": "organizational-literature"
      },
      "source": [
        "#json_str"
      ],
      "id": "organizational-literature",
      "execution_count": null,
      "outputs": []
    },
    {
      "cell_type": "code",
      "metadata": {
        "id": "surface-english"
      },
      "source": [
        "# json을 import 하여 문자열 -> json으로 변환"
      ],
      "id": "surface-english",
      "execution_count": null,
      "outputs": []
    },
    {
      "cell_type": "code",
      "metadata": {
        "id": "southeast-coupon"
      },
      "source": [
        "import json\n",
        "json_object = json.loads(json_str)"
      ],
      "id": "southeast-coupon",
      "execution_count": null,
      "outputs": []
    },
    {
      "cell_type": "code",
      "metadata": {
        "id": "entitled-applicant"
      },
      "source": [
        "# json_object"
      ],
      "id": "entitled-applicant",
      "execution_count": null,
      "outputs": []
    },
    {
      "cell_type": "code",
      "metadata": {
        "id": "covered-gardening"
      },
      "source": [
        "# pandas를 이용해 json을 DataFrame 형태로\n",
        "# 데이터를 보면 header와 body가 나뉜다. 우리가 필요한 정보는 body이니 그쪽 정보를 로드해서 pandas로 변형"
      ],
      "id": "covered-gardening",
      "execution_count": null,
      "outputs": []
    },
    {
      "cell_type": "code",
      "metadata": {
        "id": "outer-grade"
      },
      "source": [
        "import pandas as pd\n",
        "from pandas.io.json import json_normalize"
      ],
      "id": "outer-grade",
      "execution_count": null,
      "outputs": []
    },
    {
      "cell_type": "code",
      "metadata": {
        "id": "matched-teacher"
      },
      "source": [
        "body = [json_object['body']['items']]"
      ],
      "id": "matched-teacher",
      "execution_count": null,
      "outputs": []
    },
    {
      "cell_type": "code",
      "metadata": {
        "id": "suited-script"
      },
      "source": [
        "# body"
      ],
      "id": "suited-script",
      "execution_count": null,
      "outputs": []
    },
    {
      "cell_type": "code",
      "metadata": {
        "id": "unlike-therapist",
        "colab": {
          "base_uri": "https://localhost:8080/"
        },
        "outputId": "329bb1b5-cd19-4f51-ee5b-00801ef78e63"
      },
      "source": [
        "type(body)"
      ],
      "id": "unlike-therapist",
      "execution_count": null,
      "outputs": [
        {
          "output_type": "execute_result",
          "data": {
            "text/plain": [
              "list"
            ]
          },
          "metadata": {
            "tags": []
          },
          "execution_count": 14
        }
      ]
    },
    {
      "cell_type": "code",
      "metadata": {
        "id": "bBmXcIJsj-Iw"
      },
      "source": [
        "df = pd.DataFrame(body)"
      ],
      "id": "bBmXcIJsj-Iw",
      "execution_count": null,
      "outputs": []
    },
    {
      "cell_type": "code",
      "metadata": {
        "colab": {
          "base_uri": "https://localhost:8080/",
          "height": 146
        },
        "id": "2qGCTyTtkHt1",
        "outputId": "c1a25b04-2f26-40ee-adca-f15fb3d1a4db"
      },
      "source": [
        "df"
      ],
      "id": "2qGCTyTtkHt1",
      "execution_count": null,
      "outputs": [
        {
          "output_type": "execute_result",
          "data": {
            "text/html": [
              "<div>\n",
              "<style scoped>\n",
              "    .dataframe tbody tr th:only-of-type {\n",
              "        vertical-align: middle;\n",
              "    }\n",
              "\n",
              "    .dataframe tbody tr th {\n",
              "        vertical-align: top;\n",
              "    }\n",
              "\n",
              "    .dataframe thead th {\n",
              "        text-align: right;\n",
              "    }\n",
              "</style>\n",
              "<table border=\"1\" class=\"dataframe\">\n",
              "  <thead>\n",
              "    <tr style=\"text-align: right;\">\n",
              "      <th></th>\n",
              "      <th>0</th>\n",
              "      <th>1</th>\n",
              "      <th>2</th>\n",
              "      <th>3</th>\n",
              "      <th>4</th>\n",
              "      <th>5</th>\n",
              "      <th>6</th>\n",
              "      <th>7</th>\n",
              "      <th>8</th>\n",
              "      <th>9</th>\n",
              "      <th>10</th>\n",
              "      <th>11</th>\n",
              "      <th>12</th>\n",
              "      <th>13</th>\n",
              "      <th>14</th>\n",
              "      <th>15</th>\n",
              "      <th>16</th>\n",
              "      <th>17</th>\n",
              "      <th>18</th>\n",
              "      <th>19</th>\n",
              "    </tr>\n",
              "  </thead>\n",
              "  <tbody>\n",
              "    <tr>\n",
              "      <th>0</th>\n",
              "      <td>{'bizesId': '10004623', 'bizesNm': '이철헤어커커', '...</td>\n",
              "      <td>{'bizesId': '10004646', 'bizesNm': '이철헤어커커', '...</td>\n",
              "      <td>{'bizesId': '10025887', 'bizesNm': '잠뱅이', 'brc...</td>\n",
              "      <td>{'bizesId': '10030788', 'bizesNm': '장안순대국밥', '...</td>\n",
              "      <td>{'bizesId': '10031349', 'bizesNm': '장어야', 'brc...</td>\n",
              "      <td>{'bizesId': '10031436', 'bizesNm': '장어천국', 'br...</td>\n",
              "      <td>{'bizesId': '10034303', 'bizesNm': '재건공조', 'br...</td>\n",
              "      <td>{'bizesId': '10038561', 'bizesNm': '전자랜드', 'br...</td>\n",
              "      <td>{'bizesId': '10041487', 'bizesNm': '정관장', 'brc...</td>\n",
              "      <td>{'bizesId': '10041503', 'bizesNm': '정관장', 'brc...</td>\n",
              "      <td>{'bizesId': '10041535', 'bizesNm': '정관장', 'brc...</td>\n",
              "      <td>{'bizesId': '10050747', 'bizesNm': '제시카키친', 'b...</td>\n",
              "      <td>{'bizesId': '10056742', 'bizesNm': '제일전기조명', '...</td>\n",
              "      <td>{'bizesId': '10065677', 'bizesNm': '종가집설렁탕', '...</td>\n",
              "      <td>{'bizesId': '10075124', 'bizesNm': '준오헤어돈암2호점'...</td>\n",
              "      <td>{'bizesId': '10080606', 'bizesNm': '중화공인중개사사무소...</td>\n",
              "      <td>{'bizesId': '10082162', 'bizesNm': '즐거운짜장', 'b...</td>\n",
              "      <td>{'bizesId': '10085207', 'bizesNm': 'GS25', 'br...</td>\n",
              "      <td>{'bizesId': '10086312', 'bizesNm': '지우미용실신월점',...</td>\n",
              "      <td>{'bizesId': '10088738', 'bizesNm': '지혜수산', 'br...</td>\n",
              "    </tr>\n",
              "  </tbody>\n",
              "</table>\n",
              "</div>"
            ],
            "text/plain": [
              "                                                  0   ...                                                 19\n",
              "0  {'bizesId': '10004623', 'bizesNm': '이철헤어커커', '...  ...  {'bizesId': '10088738', 'bizesNm': '지혜수산', 'br...\n",
              "\n",
              "[1 rows x 20 columns]"
            ]
          },
          "metadata": {
            "tags": []
          },
          "execution_count": 16
        }
      ]
    },
    {
      "cell_type": "code",
      "metadata": {
        "id": "88mffbrekKV1"
      },
      "source": [
        "df.to_csv('smb.csv')"
      ],
      "id": "88mffbrekKV1",
      "execution_count": null,
      "outputs": []
    },
    {
      "cell_type": "code",
      "metadata": {
        "colab": {
          "base_uri": "https://localhost:8080/",
          "height": 183
        },
        "id": "MBV5RLhYlUYI",
        "outputId": "b3dc2283-7f99-4dde-d322-6fa49814ff98"
      },
      "source": [
        "df.head()"
      ],
      "id": "MBV5RLhYlUYI",
      "execution_count": null,
      "outputs": [
        {
          "output_type": "execute_result",
          "data": {
            "text/html": [
              "<div>\n",
              "<style scoped>\n",
              "    .dataframe tbody tr th:only-of-type {\n",
              "        vertical-align: middle;\n",
              "    }\n",
              "\n",
              "    .dataframe tbody tr th {\n",
              "        vertical-align: top;\n",
              "    }\n",
              "\n",
              "    .dataframe thead th {\n",
              "        text-align: right;\n",
              "    }\n",
              "</style>\n",
              "<table border=\"1\" class=\"dataframe\">\n",
              "  <thead>\n",
              "    <tr style=\"text-align: right;\">\n",
              "      <th></th>\n",
              "      <th>0</th>\n",
              "      <th>1</th>\n",
              "      <th>2</th>\n",
              "      <th>3</th>\n",
              "      <th>4</th>\n",
              "      <th>5</th>\n",
              "      <th>6</th>\n",
              "      <th>7</th>\n",
              "      <th>8</th>\n",
              "      <th>9</th>\n",
              "      <th>10</th>\n",
              "      <th>11</th>\n",
              "      <th>12</th>\n",
              "      <th>13</th>\n",
              "      <th>14</th>\n",
              "      <th>15</th>\n",
              "      <th>16</th>\n",
              "      <th>17</th>\n",
              "      <th>18</th>\n",
              "      <th>19</th>\n",
              "    </tr>\n",
              "  </thead>\n",
              "  <tbody>\n",
              "    <tr>\n",
              "      <th>0</th>\n",
              "      <td>{'bizesId': '10004623', 'bizesNm': '이철헤어커커', '...</td>\n",
              "      <td>{'bizesId': '10004646', 'bizesNm': '이철헤어커커', '...</td>\n",
              "      <td>{'bizesId': '10025887', 'bizesNm': '잠뱅이', 'brc...</td>\n",
              "      <td>{'bizesId': '10030788', 'bizesNm': '장안순대국밥', '...</td>\n",
              "      <td>{'bizesId': '10031349', 'bizesNm': '장어야', 'brc...</td>\n",
              "      <td>{'bizesId': '10031436', 'bizesNm': '장어천국', 'br...</td>\n",
              "      <td>{'bizesId': '10034303', 'bizesNm': '재건공조', 'br...</td>\n",
              "      <td>{'bizesId': '10038561', 'bizesNm': '전자랜드', 'br...</td>\n",
              "      <td>{'bizesId': '10041487', 'bizesNm': '정관장', 'brc...</td>\n",
              "      <td>{'bizesId': '10041503', 'bizesNm': '정관장', 'brc...</td>\n",
              "      <td>{'bizesId': '10041535', 'bizesNm': '정관장', 'brc...</td>\n",
              "      <td>{'bizesId': '10050747', 'bizesNm': '제시카키친', 'b...</td>\n",
              "      <td>{'bizesId': '10056742', 'bizesNm': '제일전기조명', '...</td>\n",
              "      <td>{'bizesId': '10065677', 'bizesNm': '종가집설렁탕', '...</td>\n",
              "      <td>{'bizesId': '10075124', 'bizesNm': '준오헤어돈암2호점'...</td>\n",
              "      <td>{'bizesId': '10080606', 'bizesNm': '중화공인중개사사무소...</td>\n",
              "      <td>{'bizesId': '10082162', 'bizesNm': '즐거운짜장', 'b...</td>\n",
              "      <td>{'bizesId': '10085207', 'bizesNm': 'GS25', 'br...</td>\n",
              "      <td>{'bizesId': '10086312', 'bizesNm': '지우미용실신월점',...</td>\n",
              "      <td>{'bizesId': '10088738', 'bizesNm': '지혜수산', 'br...</td>\n",
              "    </tr>\n",
              "  </tbody>\n",
              "</table>\n",
              "</div>"
            ],
            "text/plain": [
              "                                                  0   ...                                                 19\n",
              "0  {'bizesId': '10004623', 'bizesNm': '이철헤어커커', '...  ...  {'bizesId': '10088738', 'bizesNm': '지혜수산', 'br...\n",
              "\n",
              "[1 rows x 20 columns]"
            ]
          },
          "metadata": {
            "tags": []
          },
          "execution_count": 18
        }
      ]
    },
    {
      "cell_type": "code",
      "metadata": {
        "id": "918StgNfl4lf"
      },
      "source": [
        "url10 = 'http://apis.data.go.kr/B553077/api/open/sdsc/storeListInDong?divId=adongCd&key=1168051000&indsLclsCd=Q&indsMclsCd=Q06&indsSclsCd=Q06A08&ServiceKey='+api_key+'&type=json'"
      ],
      "id": "918StgNfl4lf",
      "execution_count": null,
      "outputs": []
    },
    {
      "cell_type": "code",
      "metadata": {
        "colab": {
          "base_uri": "https://localhost:8080/",
          "height": 52
        },
        "id": "5Aha2_RBmJtO",
        "outputId": "0e9fbeb0-960a-48b7-e9f5-728b0332a63a"
      },
      "source": [
        "url10"
      ],
      "id": "5Aha2_RBmJtO",
      "execution_count": null,
      "outputs": [
        {
          "output_type": "execute_result",
          "data": {
            "application/vnd.google.colaboratory.intrinsic+json": {
              "type": "string"
            },
            "text/plain": [
              "'http://apis.data.go.kr/B553077/api/open/sdsc/storeListInDong?divId=adongCd&key=1168051000&indsLclsCd=Q&indsMclsCd=Q06&indsSclsCd=Q06A08&ServiceKey=gHnLIGXAw7cOgxHCgYjmWusGl29WbYzDvkd3%2FdQkK0QwkE9uY2lKiDh8wrWy4Y8GykLF7iZra4Fck8%2FNxkPxSw%3D%3D&type=json'"
            ]
          },
          "metadata": {
            "tags": []
          },
          "execution_count": 20
        }
      ]
    },
    {
      "cell_type": "code",
      "metadata": {
        "id": "d1qN6nhLm8XL"
      },
      "source": [
        "response = urllib.request.urlopen(url10)"
      ],
      "id": "d1qN6nhLm8XL",
      "execution_count": null,
      "outputs": []
    },
    {
      "cell_type": "code",
      "metadata": {
        "colab": {
          "base_uri": "https://localhost:8080/"
        },
        "id": "6Nzx3gtUnEaQ",
        "outputId": "fc68072a-888b-4281-99c5-39392256e5b6"
      },
      "source": [
        "response"
      ],
      "id": "6Nzx3gtUnEaQ",
      "execution_count": null,
      "outputs": [
        {
          "output_type": "execute_result",
          "data": {
            "text/plain": [
              "<http.client.HTTPResponse at 0x7fa7bff8ba90>"
            ]
          },
          "metadata": {
            "tags": []
          },
          "execution_count": 23
        }
      ]
    },
    {
      "cell_type": "code",
      "metadata": {
        "id": "EnmdcmJBnGpR"
      },
      "source": [
        "json_str = response.read().decode(\"utf-8\")"
      ],
      "id": "EnmdcmJBnGpR",
      "execution_count": null,
      "outputs": []
    },
    {
      "cell_type": "code",
      "metadata": {
        "colab": {
          "base_uri": "https://localhost:8080/",
          "height": 160
        },
        "id": "3r7YkU9tnJaK",
        "outputId": "ed70b3b0-3263-4d4e-f8f9-51f547b0ec15"
      },
      "source": [
        "json_str"
      ],
      "id": "3r7YkU9tnJaK",
      "execution_count": null,
      "outputs": [
        {
          "output_type": "execute_result",
          "data": {
            "application/vnd.google.colaboratory.intrinsic+json": {
              "type": "string"
            },
            "text/plain": [
              "'{\\n\\t\"header\" : {\\n\\t\\t\"description\" : \"소상공인시장진흥공단 행정동별 상가업소정보\"\\n\\t\\t,\"columns\" : [\"상가업소번호\",\"상호명\",\"지점명\",\"상권업종대분류코드\",\"상권업종대분류명\",\"상권업종중분류코드\",\"상권업종중분류명\",\"상권업종소분류코드\",\"상권업종소분류명\",\"표준산업분류코드\",\"표준산업분류명\",\"시도코드\",\"시도명\",\"시군구코드\",\"시군구명\",\"행정동코드\",\"행정동명\",\"법정동코드\",\"법정동명\",\"PNU코드\",\"대지구분코드\",\"대지구분명\",\"지번본번지\",\"지번부번지\",\"지번주소\",\"도로명코드\",\"도로명\",\"건물본번지\",\"건물부번지\",\"건물관리번호\",\"건물명\",\"도로명주소\",\"구우편번호\",\"신우편번호\",\"동정보\",\"층정보\",\"호정보\",\"경도\",\"위도\"]\\n\\t\\t,\"stdrYm\" : \"202103\"\\n\\t\\t,\"resultCode\" : \"00\"\\n\\t\\t,\"resultMsg\" : \"NORMAL SERVICE\"\\n\\t},\\n\\t\"body\" : {\\n\\t\\t\\t\"items\" : [\\n\\t\\t\\t\\t{\\n\\t\\t\\t\\t\"bizesId\" : \"25907324\"\\n\\t\\t\\t\\t,\"bizesNm\" : \"콜라보그릴\"\\n\\t\\t\\t\\t,\"brchNm\" : \"\"\\n\\t\\t\\t\\t,\"indsLclsCd\" : \"Q\"\\n\\t\\t\\t\\t,\"indsLclsNm\" : \"음식\"\\n\\t\\t\\t\\t,\"indsMclsCd\" : \"Q06\"\\n\\t\\t\\t\\t,\"indsMclsNm\" : \"양식\"\\n\\t\\t\\t\\t,\"indsSclsCd\" : \"Q06A08\"\\n\\t\\t\\t\\t,\"indsSclsNm\" : \"스테이크전문점\"\\n\\t\\t\\t\\t,\"ksicCd\" : \"I56114\"\\n\\t\\t\\t\\t,\"ksicNm\" : \"서양식 음식점업\"\\n\\t\\t\\t\\t,\"ctprvnCd\" : \"11\"\\n\\t\\t\\t\\t,\"ctprvnNm\" : \"서울특별시\"\\n\\t\\t\\t\\t,\"signguCd\" : \"11680\"\\n\\t\\t\\t\\t,\"signguNm\" : \"강남구\"\\n\\t\\t\\t\\t,\"adongCd\" : \"1168051000\"\\n\\t\\t\\t\\t,\"adongNm\" : \"신사동\"\\n\\t\\t\\t\\t,\"ldongCd\" : \"1168010700\"\\n\\t\\t\\t\\t,\"ldongNm\" : \"신사동\"\\n\\t\\t\\t\\t,\"lnoCd\" : \"1168010700205500009\"\\n\\t\\t\\t\\t,\"plotSctCd\" : \"1\"\\n\\t\\t\\t\\t,\"plotSctNm\" : \"대지\"\\n\\t\\t\\t\\t,\"lnoMnno\" : 550\\n\\t\\t\\t\\t,\"lnoSlno\" : 9\\n\\t\\t\\t\\t,\"lnoAdr\" : \"서울특별시 강남구 신사동 550-9\"\\n\\t\\t\\t\\t,\"rdnmCd\" : \"116804166161\"\\n\\t\\t\\t\\t,\"rdnm\" : \"서울특별시 강남구 논현로175길\"\\n\\t\\t\\t\\t,\"bldMnno\" : 61\\n\\t\\t\\t\\t,\"bldSlno\" : \"\"\\n\\t\\t\\t\\t,\"bldMngNo\" : \"1168010700105500009010411\"\\n\\t\\t\\t\\t,\"bldNm\" : \"\"\\n\\t\\t\\t\\t,\"rdnmAdr\" : \"서울특별시 강남구 논현로175길 61\"\\n\\t\\t\\t\\t,\"oldZipcd\" : \"135890\"\\n\\t\\t\\t\\t,\"newZipcd\" : \"06029\"\\n\\t\\t\\t\\t,\"dongNo\" : \"\"\\n\\t\\t\\t\\t,\"flrNo\" : \"2\"\\n\\t\\t\\t\\t,\"hoNo\" : \"\"\\n\\t\\t\\t\\t,\"lon\" : 127.024060446349\\n\\t\\t\\t\\t,\"lat\" : 37.5241414133908\\n\\t\\t\\t\\t}\\n\\t\\t\\t\\t,{\\n\\t\\t\\t\\t\"bizesId\" : \"16308848\"\\n\\t\\t\\t\\t,\"bizesNm\" : \"SOOT\"\\n\\t\\t\\t\\t,\"brchNm\" : \"\"\\n\\t\\t\\t\\t,\"indsLclsCd\" : \"Q\"\\n\\t\\t\\t\\t,\"indsLclsNm\" : \"음식\"\\n\\t\\t\\t\\t,\"indsMclsCd\" : \"Q06\"\\n\\t\\t\\t\\t,\"indsMclsNm\" : \"양식\"\\n\\t\\t\\t\\t,\"indsSclsCd\" : \"Q06A08\"\\n\\t\\t\\t\\t,\"indsSclsNm\" : \"스테이크전문점\"\\n\\t\\t\\t\\t,\"ksicCd\" : \"I56114\"\\n\\t\\t\\t\\t,\"ksicNm\" : \"서양식 음식점업\"\\n\\t\\t\\t\\t,\"ctprvnCd\" : \"11\"\\n\\t\\t\\t\\t,\"ctprvnNm\" : \"서울특별시\"\\n\\t\\t\\t\\t,\"signguCd\" : \"11680\"\\n\\t\\t\\t\\t,\"signguNm\" : \"강남구\"\\n\\t\\t\\t\\t,\"adongCd\" : \"1168051000\"\\n\\t\\t\\t\\t,\"adongNm\" : \"신사동\"\\n\\t\\t\\t\\t,\"ldongCd\" : \"1168010700\"\\n\\t\\t\\t\\t,\"ldongNm\" : \"신사동\"\\n\\t\\t\\t\\t,\"lnoCd\" : \"1168010700205610035\"\\n\\t\\t\\t\\t,\"plotSctCd\" : \"1\"\\n\\t\\t\\t\\t,\"plotSctNm\" : \"대지\"\\n\\t\\t\\t\\t,\"lnoMnno\" : 561\\n\\t\\t\\t\\t,\"lnoSlno\" : 35\\n\\t\\t\\t\\t,\"lnoAdr\" : \"서울특별시 강남구 신사동 561-35\"\\n\\t\\t\\t\\t,\"rdnmCd\" : \"116804166265\"\\n\\t\\t\\t\\t,\"rdnm\" : \"서울특별시 강남구 도산대로23길\"\\n\\t\\t\\t\\t,\"bldMnno\" : 7\\n\\t\\t\\t\\t,\"bldSlno\" : \"\"\\n\\t\\t\\t\\t,\"bldMngNo\" : \"1168010700105610035011702\"\\n\\t\\t\\t\\t,\"bldNm\" : \"\"\\n\\t\\t\\t\\t,\"rdnmAdr\" : \"서울특별시 강남구 도산대로23길 7\"\\n\\t\\t\\t\\t,\"oldZipcd\" : \"135890\"\\n\\t\\t\\t\\t,\"newZipcd\" : \"06037\"\\n\\t\\t\\t\\t,\"dongNo\" : \"\"\\n\\t\\t\\t\\t,\"flrNo\" : \"4\"\\n\\t\\t\\t\\t,\"hoNo\" : \"\"\\n\\t\\t\\t\\t,\"lon\" : 127.025929285433\\n\\t\\t\\t\\t,\"lat\" : 37.5196245526939\\n\\t\\t\\t\\t}\\n\\t\\t\\t]\\n,\\n\\t\\t\"numOfRows\" : 20,\\n\\t\\t\"pageNo\" : 1,\\n\\t\\t\"totalCount\" : 2\\t}\\n}\\n'"
            ]
          },
          "metadata": {
            "tags": []
          },
          "execution_count": 26
        }
      ]
    },
    {
      "cell_type": "code",
      "metadata": {
        "id": "DAWHz27LnMUJ"
      },
      "source": [
        "import json\n",
        "json_object = json.loads(json_str)"
      ],
      "id": "DAWHz27LnMUJ",
      "execution_count": null,
      "outputs": []
    },
    {
      "cell_type": "code",
      "metadata": {
        "colab": {
          "base_uri": "https://localhost:8080/"
        },
        "id": "2On4NTTsnQZj",
        "outputId": "39a191cb-d975-4c2e-c9a3-6fd65c696040"
      },
      "source": [
        "json_object"
      ],
      "id": "2On4NTTsnQZj",
      "execution_count": null,
      "outputs": [
        {
          "output_type": "execute_result",
          "data": {
            "text/plain": [
              "{'body': {'items': [{'adongCd': '1168051000',\n",
              "    'adongNm': '신사동',\n",
              "    'bizesId': '25907324',\n",
              "    'bizesNm': '콜라보그릴',\n",
              "    'bldMngNo': '1168010700105500009010411',\n",
              "    'bldMnno': 61,\n",
              "    'bldNm': '',\n",
              "    'bldSlno': '',\n",
              "    'brchNm': '',\n",
              "    'ctprvnCd': '11',\n",
              "    'ctprvnNm': '서울특별시',\n",
              "    'dongNo': '',\n",
              "    'flrNo': '2',\n",
              "    'hoNo': '',\n",
              "    'indsLclsCd': 'Q',\n",
              "    'indsLclsNm': '음식',\n",
              "    'indsMclsCd': 'Q06',\n",
              "    'indsMclsNm': '양식',\n",
              "    'indsSclsCd': 'Q06A08',\n",
              "    'indsSclsNm': '스테이크전문점',\n",
              "    'ksicCd': 'I56114',\n",
              "    'ksicNm': '서양식 음식점업',\n",
              "    'lat': 37.5241414133908,\n",
              "    'ldongCd': '1168010700',\n",
              "    'ldongNm': '신사동',\n",
              "    'lnoAdr': '서울특별시 강남구 신사동 550-9',\n",
              "    'lnoCd': '1168010700205500009',\n",
              "    'lnoMnno': 550,\n",
              "    'lnoSlno': 9,\n",
              "    'lon': 127.024060446349,\n",
              "    'newZipcd': '06029',\n",
              "    'oldZipcd': '135890',\n",
              "    'plotSctCd': '1',\n",
              "    'plotSctNm': '대지',\n",
              "    'rdnm': '서울특별시 강남구 논현로175길',\n",
              "    'rdnmAdr': '서울특별시 강남구 논현로175길 61',\n",
              "    'rdnmCd': '116804166161',\n",
              "    'signguCd': '11680',\n",
              "    'signguNm': '강남구'},\n",
              "   {'adongCd': '1168051000',\n",
              "    'adongNm': '신사동',\n",
              "    'bizesId': '16308848',\n",
              "    'bizesNm': 'SOOT',\n",
              "    'bldMngNo': '1168010700105610035011702',\n",
              "    'bldMnno': 7,\n",
              "    'bldNm': '',\n",
              "    'bldSlno': '',\n",
              "    'brchNm': '',\n",
              "    'ctprvnCd': '11',\n",
              "    'ctprvnNm': '서울특별시',\n",
              "    'dongNo': '',\n",
              "    'flrNo': '4',\n",
              "    'hoNo': '',\n",
              "    'indsLclsCd': 'Q',\n",
              "    'indsLclsNm': '음식',\n",
              "    'indsMclsCd': 'Q06',\n",
              "    'indsMclsNm': '양식',\n",
              "    'indsSclsCd': 'Q06A08',\n",
              "    'indsSclsNm': '스테이크전문점',\n",
              "    'ksicCd': 'I56114',\n",
              "    'ksicNm': '서양식 음식점업',\n",
              "    'lat': 37.5196245526939,\n",
              "    'ldongCd': '1168010700',\n",
              "    'ldongNm': '신사동',\n",
              "    'lnoAdr': '서울특별시 강남구 신사동 561-35',\n",
              "    'lnoCd': '1168010700205610035',\n",
              "    'lnoMnno': 561,\n",
              "    'lnoSlno': 35,\n",
              "    'lon': 127.025929285433,\n",
              "    'newZipcd': '06037',\n",
              "    'oldZipcd': '135890',\n",
              "    'plotSctCd': '1',\n",
              "    'plotSctNm': '대지',\n",
              "    'rdnm': '서울특별시 강남구 도산대로23길',\n",
              "    'rdnmAdr': '서울특별시 강남구 도산대로23길 7',\n",
              "    'rdnmCd': '116804166265',\n",
              "    'signguCd': '11680',\n",
              "    'signguNm': '강남구'}],\n",
              "  'numOfRows': 20,\n",
              "  'pageNo': 1,\n",
              "  'totalCount': 2},\n",
              " 'header': {'columns': ['상가업소번호',\n",
              "   '상호명',\n",
              "   '지점명',\n",
              "   '상권업종대분류코드',\n",
              "   '상권업종대분류명',\n",
              "   '상권업종중분류코드',\n",
              "   '상권업종중분류명',\n",
              "   '상권업종소분류코드',\n",
              "   '상권업종소분류명',\n",
              "   '표준산업분류코드',\n",
              "   '표준산업분류명',\n",
              "   '시도코드',\n",
              "   '시도명',\n",
              "   '시군구코드',\n",
              "   '시군구명',\n",
              "   '행정동코드',\n",
              "   '행정동명',\n",
              "   '법정동코드',\n",
              "   '법정동명',\n",
              "   'PNU코드',\n",
              "   '대지구분코드',\n",
              "   '대지구분명',\n",
              "   '지번본번지',\n",
              "   '지번부번지',\n",
              "   '지번주소',\n",
              "   '도로명코드',\n",
              "   '도로명',\n",
              "   '건물본번지',\n",
              "   '건물부번지',\n",
              "   '건물관리번호',\n",
              "   '건물명',\n",
              "   '도로명주소',\n",
              "   '구우편번호',\n",
              "   '신우편번호',\n",
              "   '동정보',\n",
              "   '층정보',\n",
              "   '호정보',\n",
              "   '경도',\n",
              "   '위도'],\n",
              "  'description': '소상공인시장진흥공단 행정동별 상가업소정보',\n",
              "  'resultCode': '00',\n",
              "  'resultMsg': 'NORMAL SERVICE',\n",
              "  'stdrYm': '202103'}}"
            ]
          },
          "metadata": {
            "tags": []
          },
          "execution_count": 28
        }
      ]
    },
    {
      "cell_type": "code",
      "metadata": {
        "id": "GprXaHnHnawf"
      },
      "source": [
        "import pandas as pd\n",
        "from pandas.io.json import json_normalize"
      ],
      "id": "GprXaHnHnawf",
      "execution_count": null,
      "outputs": []
    },
    {
      "cell_type": "code",
      "metadata": {
        "id": "oc74Em5wncOI"
      },
      "source": [
        "body = [json_object['body']['items']]"
      ],
      "id": "oc74Em5wncOI",
      "execution_count": null,
      "outputs": []
    },
    {
      "cell_type": "code",
      "metadata": {
        "colab": {
          "base_uri": "https://localhost:8080/"
        },
        "id": "IhoL2ESznhaL",
        "outputId": "46e279ea-6426-4d2b-970e-899e8951c801"
      },
      "source": [
        "body"
      ],
      "id": "IhoL2ESznhaL",
      "execution_count": null,
      "outputs": [
        {
          "output_type": "execute_result",
          "data": {
            "text/plain": [
              "[[{'adongCd': '1168051000',\n",
              "   'adongNm': '신사동',\n",
              "   'bizesId': '25907324',\n",
              "   'bizesNm': '콜라보그릴',\n",
              "   'bldMngNo': '1168010700105500009010411',\n",
              "   'bldMnno': 61,\n",
              "   'bldNm': '',\n",
              "   'bldSlno': '',\n",
              "   'brchNm': '',\n",
              "   'ctprvnCd': '11',\n",
              "   'ctprvnNm': '서울특별시',\n",
              "   'dongNo': '',\n",
              "   'flrNo': '2',\n",
              "   'hoNo': '',\n",
              "   'indsLclsCd': 'Q',\n",
              "   'indsLclsNm': '음식',\n",
              "   'indsMclsCd': 'Q06',\n",
              "   'indsMclsNm': '양식',\n",
              "   'indsSclsCd': 'Q06A08',\n",
              "   'indsSclsNm': '스테이크전문점',\n",
              "   'ksicCd': 'I56114',\n",
              "   'ksicNm': '서양식 음식점업',\n",
              "   'lat': 37.5241414133908,\n",
              "   'ldongCd': '1168010700',\n",
              "   'ldongNm': '신사동',\n",
              "   'lnoAdr': '서울특별시 강남구 신사동 550-9',\n",
              "   'lnoCd': '1168010700205500009',\n",
              "   'lnoMnno': 550,\n",
              "   'lnoSlno': 9,\n",
              "   'lon': 127.024060446349,\n",
              "   'newZipcd': '06029',\n",
              "   'oldZipcd': '135890',\n",
              "   'plotSctCd': '1',\n",
              "   'plotSctNm': '대지',\n",
              "   'rdnm': '서울특별시 강남구 논현로175길',\n",
              "   'rdnmAdr': '서울특별시 강남구 논현로175길 61',\n",
              "   'rdnmCd': '116804166161',\n",
              "   'signguCd': '11680',\n",
              "   'signguNm': '강남구'},\n",
              "  {'adongCd': '1168051000',\n",
              "   'adongNm': '신사동',\n",
              "   'bizesId': '16308848',\n",
              "   'bizesNm': 'SOOT',\n",
              "   'bldMngNo': '1168010700105610035011702',\n",
              "   'bldMnno': 7,\n",
              "   'bldNm': '',\n",
              "   'bldSlno': '',\n",
              "   'brchNm': '',\n",
              "   'ctprvnCd': '11',\n",
              "   'ctprvnNm': '서울특별시',\n",
              "   'dongNo': '',\n",
              "   'flrNo': '4',\n",
              "   'hoNo': '',\n",
              "   'indsLclsCd': 'Q',\n",
              "   'indsLclsNm': '음식',\n",
              "   'indsMclsCd': 'Q06',\n",
              "   'indsMclsNm': '양식',\n",
              "   'indsSclsCd': 'Q06A08',\n",
              "   'indsSclsNm': '스테이크전문점',\n",
              "   'ksicCd': 'I56114',\n",
              "   'ksicNm': '서양식 음식점업',\n",
              "   'lat': 37.5196245526939,\n",
              "   'ldongCd': '1168010700',\n",
              "   'ldongNm': '신사동',\n",
              "   'lnoAdr': '서울특별시 강남구 신사동 561-35',\n",
              "   'lnoCd': '1168010700205610035',\n",
              "   'lnoMnno': 561,\n",
              "   'lnoSlno': 35,\n",
              "   'lon': 127.025929285433,\n",
              "   'newZipcd': '06037',\n",
              "   'oldZipcd': '135890',\n",
              "   'plotSctCd': '1',\n",
              "   'plotSctNm': '대지',\n",
              "   'rdnm': '서울특별시 강남구 도산대로23길',\n",
              "   'rdnmAdr': '서울특별시 강남구 도산대로23길 7',\n",
              "   'rdnmCd': '116804166265',\n",
              "   'signguCd': '11680',\n",
              "   'signguNm': '강남구'}]]"
            ]
          },
          "metadata": {
            "tags": []
          },
          "execution_count": 31
        }
      ]
    },
    {
      "cell_type": "code",
      "metadata": {
        "colab": {
          "base_uri": "https://localhost:8080/",
          "height": 79
        },
        "id": "IiBX5Rzpnn2n",
        "outputId": "c1d6f211-75c1-4bab-8a17-d117e6f10a8c"
      },
      "source": [
        "df_10 = pd.DataFrame(body)\n",
        "df_10"
      ],
      "id": "IiBX5Rzpnn2n",
      "execution_count": null,
      "outputs": [
        {
          "output_type": "execute_result",
          "data": {
            "text/html": [
              "<div>\n",
              "<style scoped>\n",
              "    .dataframe tbody tr th:only-of-type {\n",
              "        vertical-align: middle;\n",
              "    }\n",
              "\n",
              "    .dataframe tbody tr th {\n",
              "        vertical-align: top;\n",
              "    }\n",
              "\n",
              "    .dataframe thead th {\n",
              "        text-align: right;\n",
              "    }\n",
              "</style>\n",
              "<table border=\"1\" class=\"dataframe\">\n",
              "  <thead>\n",
              "    <tr style=\"text-align: right;\">\n",
              "      <th></th>\n",
              "      <th>0</th>\n",
              "      <th>1</th>\n",
              "    </tr>\n",
              "  </thead>\n",
              "  <tbody>\n",
              "    <tr>\n",
              "      <th>0</th>\n",
              "      <td>{'bizesId': '25907324', 'bizesNm': '콜라보그릴', 'b...</td>\n",
              "      <td>{'bizesId': '16308848', 'bizesNm': 'SOOT', 'br...</td>\n",
              "    </tr>\n",
              "  </tbody>\n",
              "</table>\n",
              "</div>"
            ],
            "text/plain": [
              "                                                   0                                                  1\n",
              "0  {'bizesId': '25907324', 'bizesNm': '콜라보그릴', 'b...  {'bizesId': '16308848', 'bizesNm': 'SOOT', 'br..."
            ]
          },
          "metadata": {
            "tags": []
          },
          "execution_count": 33
        }
      ]
    },
    {
      "cell_type": "code",
      "metadata": {
        "id": "wyl8QdYKntBr"
      },
      "source": [
        "df_10.to_csv('smb_10.csv')"
      ],
      "id": "wyl8QdYKntBr",
      "execution_count": null,
      "outputs": []
    }
  ]
}