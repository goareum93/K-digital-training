{
  "nbformat": 4,
  "nbformat_minor": 5,
  "metadata": {
    "kernelspec": {
      "display_name": "Python 3",
      "language": "python",
      "name": "python3"
    },
    "language_info": {
      "codemirror_mode": {
        "name": "ipython",
        "version": 3
      },
      "file_extension": ".py",
      "mimetype": "text/x-python",
      "name": "python",
      "nbconvert_exporter": "python",
      "pygments_lexer": "ipython3",
      "version": "3.7.6"
    },
    "colab": {
      "name": "smb0.ipynb",
      "provenance": []
    }
  },
  "cells": [
    {
      "cell_type": "code",
      "metadata": {
        "id": "naughty-spare"
      },
      "source": [
        ""
      ],
      "id": "naughty-spare",
      "execution_count": null,
      "outputs": []
    },
    {
      "cell_type": "code",
      "metadata": {
        "id": "extended-insurance"
      },
      "source": [
        "# 소상공인 상가업소 정보 서비스 \n",
        "# https://www.data.go.kr/iim/api/selectAPIAcountView.do"
      ],
      "id": "extended-insurance",
      "execution_count": null,
      "outputs": []
    },
    {
      "cell_type": "code",
      "metadata": {
        "id": "boring-destruction"
      },
      "source": [
        "api_key = 'gHnLIGXAw7cOgxHCgYjmWusGl29WbYzDvkd3%2FdQkK0QwkE9uY2lKiDh8wrWy4Y8GykLF7iZra4Fck8%2FNxkPxSw%3D%3D'"
      ],
      "id": "boring-destruction",
      "execution_count": null,
      "outputs": []
    },
    {
      "cell_type": "code",
      "metadata": {
        "id": "parliamentary-aggregate"
      },
      "source": [
        "import urllib.request"
      ],
      "id": "parliamentary-aggregate",
      "execution_count": null,
      "outputs": []
    },
    {
      "cell_type": "code",
      "metadata": {
        "id": "functioning-squad"
      },
      "source": [
        "#-*- coding:utf-8 -*-\n",
        "url = 'http://apis.data.go.kr/B553077/api/open/sdsc/storeListInDong?divId=ctprvnCd&key=11&ServiceKey='+api_key+'&type=json'"
      ],
      "id": "functioning-squad",
      "execution_count": null,
      "outputs": []
    },
    {
      "cell_type": "code",
      "metadata": {
        "id": "round-cooperative"
      },
      "source": [
        "url"
      ],
      "id": "round-cooperative",
      "execution_count": null,
      "outputs": []
    },
    {
      "cell_type": "code",
      "metadata": {
        "id": "verbal-mediterranean"
      },
      "source": [
        "response = urllib.request.urlopen(url)"
      ],
      "id": "verbal-mediterranean",
      "execution_count": null,
      "outputs": []
    },
    {
      "cell_type": "code",
      "metadata": {
        "id": "flush-elimination"
      },
      "source": [
        "response"
      ],
      "id": "flush-elimination",
      "execution_count": null,
      "outputs": []
    },
    {
      "cell_type": "code",
      "metadata": {
        "id": "fossil-exception"
      },
      "source": [
        "json_str = response.read().decode(\"utf-8\")"
      ],
      "id": "fossil-exception",
      "execution_count": null,
      "outputs": []
    },
    {
      "cell_type": "code",
      "metadata": {
        "id": "organizational-literature"
      },
      "source": [
        "#json_str"
      ],
      "id": "organizational-literature",
      "execution_count": null,
      "outputs": []
    },
    {
      "cell_type": "code",
      "metadata": {
        "id": "surface-english"
      },
      "source": [
        "# json을 import 하여 문자열 -> json으로 변환"
      ],
      "id": "surface-english",
      "execution_count": null,
      "outputs": []
    },
    {
      "cell_type": "code",
      "metadata": {
        "id": "southeast-coupon"
      },
      "source": [
        "import json\n",
        "json_object = json.loads(json_str)"
      ],
      "id": "southeast-coupon",
      "execution_count": null,
      "outputs": []
    },
    {
      "cell_type": "code",
      "metadata": {
        "id": "entitled-applicant"
      },
      "source": [
        "#json_object"
      ],
      "id": "entitled-applicant",
      "execution_count": null,
      "outputs": []
    },
    {
      "cell_type": "code",
      "metadata": {
        "id": "covered-gardening"
      },
      "source": [
        "# pandas를 이용해 json을 DataFrame 형태로\n",
        "# 데이터를 보면 header와 body가 나뉜다. 우리가 필요한 정보는 body이니 그쪽 정보를 로드해서 pandas로 변형"
      ],
      "id": "covered-gardening",
      "execution_count": null,
      "outputs": []
    },
    {
      "cell_type": "code",
      "metadata": {
        "id": "outer-grade"
      },
      "source": [
        "import pandas as pd\n",
        "from pandas.io.json import json_normalize"
      ],
      "id": "outer-grade",
      "execution_count": null,
      "outputs": []
    },
    {
      "cell_type": "code",
      "metadata": {
        "id": "matched-teacher"
      },
      "source": [
        "body = [json_object['body']['items']]"
      ],
      "id": "matched-teacher",
      "execution_count": null,
      "outputs": []
    },
    {
      "cell_type": "code",
      "metadata": {
        "id": "suited-script"
      },
      "source": [
        "#body"
      ],
      "id": "suited-script",
      "execution_count": null,
      "outputs": []
    },
    {
      "cell_type": "code",
      "metadata": {
        "id": "unlike-therapist"
      },
      "source": [
        ""
      ],
      "id": "unlike-therapist",
      "execution_count": null,
      "outputs": []
    }
  ]
}