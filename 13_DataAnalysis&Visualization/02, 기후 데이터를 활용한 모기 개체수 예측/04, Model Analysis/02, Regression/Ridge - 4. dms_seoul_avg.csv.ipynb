{
 "cells": [
  {
   "cell_type": "code",
   "execution_count": 11,
   "id": "aabc6ac3",
   "metadata": {},
   "outputs": [],
   "source": [
    "import pandas as pd\n",
    "import numpy as np\n",
    "from sklearn.linear_model import Ridge\n",
    "from sklearn.model_selection import cross_val_score"
   ]
  },
  {
   "cell_type": "code",
   "execution_count": 12,
   "id": "212bc46f",
   "metadata": {},
   "outputs": [
    {
     "data": {
      "text/html": [
       "<div>\n",
       "<style scoped>\n",
       "    .dataframe tbody tr th:only-of-type {\n",
       "        vertical-align: middle;\n",
       "    }\n",
       "\n",
       "    .dataframe tbody tr th {\n",
       "        vertical-align: top;\n",
       "    }\n",
       "\n",
       "    .dataframe thead th {\n",
       "        text-align: right;\n",
       "    }\n",
       "</style>\n",
       "<table border=\"1\" class=\"dataframe\">\n",
       "  <thead>\n",
       "    <tr style=\"text-align: right;\">\n",
       "      <th></th>\n",
       "      <th>date</th>\n",
       "      <th>mosquito</th>\n",
       "      <th>temp</th>\n",
       "      <th>rain_per_day</th>\n",
       "      <th>accum_rain</th>\n",
       "      <th>wind</th>\n",
       "      <th>humidity</th>\n",
       "      <th>sunshine</th>\n",
       "    </tr>\n",
       "  </thead>\n",
       "  <tbody>\n",
       "    <tr>\n",
       "      <th>0</th>\n",
       "      <td>2015-04-06</td>\n",
       "      <td>199</td>\n",
       "      <td>12.214286</td>\n",
       "      <td>5.285714</td>\n",
       "      <td>0</td>\n",
       "      <td>3.371429</td>\n",
       "      <td>68.757143</td>\n",
       "      <td>8.880000</td>\n",
       "    </tr>\n",
       "    <tr>\n",
       "      <th>1</th>\n",
       "      <td>2015-04-07</td>\n",
       "      <td>146</td>\n",
       "      <td>11.571429</td>\n",
       "      <td>4.928571</td>\n",
       "      <td>0</td>\n",
       "      <td>3.428571</td>\n",
       "      <td>65.742857</td>\n",
       "      <td>9.891429</td>\n",
       "    </tr>\n",
       "    <tr>\n",
       "      <th>2</th>\n",
       "      <td>2015-04-08</td>\n",
       "      <td>90</td>\n",
       "      <td>10.914286</td>\n",
       "      <td>4.571429</td>\n",
       "      <td>0</td>\n",
       "      <td>3.257143</td>\n",
       "      <td>63.542857</td>\n",
       "      <td>9.927143</td>\n",
       "    </tr>\n",
       "    <tr>\n",
       "      <th>3</th>\n",
       "      <td>2015-04-09</td>\n",
       "      <td>172</td>\n",
       "      <td>10.171429</td>\n",
       "      <td>0.571429</td>\n",
       "      <td>0</td>\n",
       "      <td>2.871429</td>\n",
       "      <td>59.614286</td>\n",
       "      <td>10.884286</td>\n",
       "    </tr>\n",
       "    <tr>\n",
       "      <th>4</th>\n",
       "      <td>2015-04-10</td>\n",
       "      <td>249</td>\n",
       "      <td>10.314286</td>\n",
       "      <td>0.071429</td>\n",
       "      <td>0</td>\n",
       "      <td>2.871429</td>\n",
       "      <td>53.485714</td>\n",
       "      <td>12.777143</td>\n",
       "    </tr>\n",
       "  </tbody>\n",
       "</table>\n",
       "</div>"
      ],
      "text/plain": [
       "         date  mosquito       temp  rain_per_day  accum_rain      wind  \\\n",
       "0  2015-04-06       199  12.214286      5.285714           0  3.371429   \n",
       "1  2015-04-07       146  11.571429      4.928571           0  3.428571   \n",
       "2  2015-04-08        90  10.914286      4.571429           0  3.257143   \n",
       "3  2015-04-09       172  10.171429      0.571429           0  2.871429   \n",
       "4  2015-04-10       249  10.314286      0.071429           0  2.871429   \n",
       "\n",
       "    humidity   sunshine  \n",
       "0  68.757143   8.880000  \n",
       "1  65.742857   9.891429  \n",
       "2  63.542857   9.927143  \n",
       "3  59.614286  10.884286  \n",
       "4  53.485714  12.777143  "
      ]
     },
     "execution_count": 12,
     "metadata": {},
     "output_type": "execute_result"
    }
   ],
   "source": [
    "df = pd.read_csv(\"E:/21KDT-Project-master/4. dms_seoul_avg.csv\")\n",
    "df.head()"
   ]
  },
  {
   "cell_type": "code",
   "execution_count": 13,
   "id": "97e32601",
   "metadata": {},
   "outputs": [
    {
     "data": {
      "text/plain": [
       "pandas.core.frame.DataFrame"
      ]
     },
     "execution_count": 13,
     "metadata": {},
     "output_type": "execute_result"
    }
   ],
   "source": [
    "type(df)"
   ]
  },
  {
   "cell_type": "code",
   "execution_count": 14,
   "id": "cb4412dc",
   "metadata": {},
   "outputs": [],
   "source": [
    "y = df['mosquito'].values \n",
    "X = df.drop(['mosquito','date'], axis=1).values "
   ]
  },
  {
   "cell_type": "code",
   "execution_count": 15,
   "id": "5cf0a931",
   "metadata": {},
   "outputs": [
    {
     "name": "stdout",
     "output_type": "stream",
     "text": [
      "5 folds 의 개별 Negative MSE scores:  [ -5675803.227 -13212243.255  -2220877.513  -3368844.086  -2198043.067]\n",
      "5 folds 의 개별 RMSE scores:  [2382.394 3634.865 1490.261 1835.441 1482.58 ]\n",
      "5 folds 의 평균 RMSE : 2165.108 \n"
     ]
    }
   ],
   "source": [
    "ridge = Ridge(alpha = 10)\n",
    "neg_mse_scores = cross_val_score(ridge, X, y, scoring = 'neg_mean_squared_error',cv=5)\n",
    "rmse_scores = np.sqrt(-1 * neg_mse_scores)\n",
    "avg_rmse = np.mean(rmse_scores)\n",
    "\n",
    "print('5 folds 의 개별 Negative MSE scores: ', np.round(neg_mse_scores, 3))\n",
    "print('5 folds 의 개별 RMSE scores: ', np.round(rmse_scores, 3))\n",
    "print('5 folds 의 평균 RMSE : {0:.3f} '.format(avg_rmse))"
   ]
  },
  {
   "cell_type": "code",
   "execution_count": 26,
   "id": "8c410468",
   "metadata": {},
   "outputs": [
    {
     "name": "stdout",
     "output_type": "stream",
     "text": [
      "alpha 0 일 때 5 folds 의 평균 RMSE : 2167.338\n",
      "alpha 0.1 일 때 5 folds 의 평균 RMSE : 2167.314\n",
      "alpha 1 일 때 5 folds 의 평균 RMSE : 2167.099\n",
      "alpha 10 일 때 5 folds 의 평균 RMSE : 2165.108\n",
      "alpha 100 일 때 5 folds 의 평균 RMSE : 2153.845\n"
     ]
    }
   ],
   "source": [
    "alphas = [0, 0.1, 1, 10, 100]\n",
    "\n",
    "for alpha in alphas:\n",
    "    ridge = Ridge(alpha = alpha)\n",
    "    \n",
    "    neg_mse_scores = cross_val_score(ridge, X, y, scoring = 'neg_mean_squared_error',cv=5)\n",
    "    avg_rmse = np.mean(np.sqrt(-1 * neg_mse_scores))\n",
    "    \n",
    "    print('alpha {0} 일 때 5 folds 의 평균 RMSE : {1:.3f}'.format(alpha,avg_rmse))\n",
    "    "
   ]
  },
  {
   "cell_type": "code",
   "execution_count": 38,
   "id": "b83f9c88",
   "metadata": {},
   "outputs": [
    {
     "data": {
      "image/png": "[encoded data removed]",
      "text/plain": [
       "<Figure size 1296x432 with 5 Axes>"
      ]
     },
     "metadata": {
      "needs_background": "light"
     },
     "output_type": "display_data"
    }
   ],
   "source": [
    "# alpha값에 따른 coefficient 회귀계수 시각화\n",
    "import matplotlib.pyplot as plt\n",
    "import seaborn as sns\n",
    "\n",
    "fig, axs = plt.subplots(figsize=(18,6), nrows=1, ncols=5)\n",
    "coeff_df = pd.DataFrame()\n",
    "\n",
    "for rid, alpha in enumerate(alphas):\n",
    "    ridge = Ridge(alpha = alpha)\n",
    "    ridge.fit(X, y)\n",
    "    coeff = pd.Series(data=ridge.coef_, index= ['temp', 'rain_per_day', 'accum_rain', 'wind', 'humidity', 'sunshine'])\n",
    "    colname = 'alpha:'+str(alpha)\n",
    "    coeff_df[colname] = coeff\n",
    "    coeff = coeff.sort_values(ascending = False)   \n",
    "    axs[rid].set_title(colname)\n",
    "    axs[rid].set_xlim(-5, 950)\n",
    "    sns.barplot(x=coeff.values, y=coeff.index, ax=axs[rid])\n",
    "\n",
    "plt.show()"
   ]
  },
  {
   "cell_type": "code",
   "execution_count": null,
   "id": "32621f18",
   "metadata": {},
   "outputs": [],
   "source": []
  },
  {
   "cell_type": "code",
   "execution_count": 41,
   "id": "07b69985",
   "metadata": {},
   "outputs": [
    {
     "data": {
      "image/png": "[encoded data removed]",
      "text/plain": [
       "<Figure size 1296x432 with 5 Axes>"
      ]
     },
     "metadata": {
      "needs_background": "light"
     },
     "output_type": "display_data"
    }
   ],
   "source": [
    "# 시각화\n",
    "import matplotlib.pyplot as plt\n",
    "import seaborn as sns\n",
    "\n",
    "fig, axs = plt.subplots(figsize=(18,6), nrows=1, ncols=5)\n",
    "coeff_df = pd.DataFrame()\n",
    "\n",
    "for rid, alpha in enumerate(alphas):\n",
    "    ridge = Ridge(alpha = alpha)\n",
    "    ridge.fit(X, y)\n",
    "    coeff = pd.Series(data=ridge.coef_, index= ['temp', 'rain_per_day', 'accum_rain', 'wind', 'humidity', 'sunshine'])\n",
    "    colname = 'alpha:'+str(alpha)\n",
    "    coeff_df[colname] = coeff\n",
    "    coeff = coeff.sort_values(ascending = False)   \n",
    "    axs[rid].set_title(colname)\n",
    "    axs[rid].set_xlim(-80, 5)\n",
    "    sns.barplot(x=coeff.values, y=coeff.index, ax=axs[rid])\n",
    "\n",
    "plt.show()"
   ]
  },
  {
   "cell_type": "code",
   "execution_count": 37,
   "id": "d3ce1b5f",
   "metadata": {},
   "outputs": [
    {
     "data": {
      "text/html": [
       "<div>\n",
       "<style scoped>\n",
       "    .dataframe tbody tr th:only-of-type {\n",
       "        vertical-align: middle;\n",
       "    }\n",
       "\n",
       "    .dataframe tbody tr th {\n",
       "        vertical-align: top;\n",
       "    }\n",
       "\n",
       "    .dataframe thead th {\n",
       "        text-align: right;\n",
       "    }\n",
       "</style>\n",
       "<table border=\"1\" class=\"dataframe\">\n",
       "  <thead>\n",
       "    <tr style=\"text-align: right;\">\n",
       "      <th></th>\n",
       "      <th>alpha:0</th>\n",
       "      <th>alpha:0.1</th>\n",
       "      <th>alpha:1</th>\n",
       "      <th>alpha:10</th>\n",
       "      <th>alpha:100</th>\n",
       "    </tr>\n",
       "  </thead>\n",
       "  <tbody>\n",
       "    <tr>\n",
       "      <th>wind</th>\n",
       "      <td>921.346668</td>\n",
       "      <td>920.957745</td>\n",
       "      <td>917.472053</td>\n",
       "      <td>884.003679</td>\n",
       "      <td>647.201526</td>\n",
       "    </tr>\n",
       "    <tr>\n",
       "      <th>temp</th>\n",
       "      <td>290.595004</td>\n",
       "      <td>290.584649</td>\n",
       "      <td>290.491783</td>\n",
       "      <td>289.594254</td>\n",
       "      <td>282.817637</td>\n",
       "    </tr>\n",
       "    <tr>\n",
       "      <th>accum_rain</th>\n",
       "      <td>3.696509</td>\n",
       "      <td>3.696266</td>\n",
       "      <td>3.694086</td>\n",
       "      <td>3.673099</td>\n",
       "      <td>3.520593</td>\n",
       "    </tr>\n",
       "    <tr>\n",
       "      <th>humidity</th>\n",
       "      <td>3.096010</td>\n",
       "      <td>3.096685</td>\n",
       "      <td>3.102755</td>\n",
       "      <td>3.162941</td>\n",
       "      <td>3.726950</td>\n",
       "    </tr>\n",
       "    <tr>\n",
       "      <th>sunshine</th>\n",
       "      <td>-37.746767</td>\n",
       "      <td>-37.741607</td>\n",
       "      <td>-37.695329</td>\n",
       "      <td>-37.247251</td>\n",
       "      <td>-33.807538</td>\n",
       "    </tr>\n",
       "    <tr>\n",
       "      <th>rain_per_day</th>\n",
       "      <td>-72.081868</td>\n",
       "      <td>-72.077815</td>\n",
       "      <td>-72.041477</td>\n",
       "      <td>-71.691930</td>\n",
       "      <td>-69.171505</td>\n",
       "    </tr>\n",
       "  </tbody>\n",
       "</table>\n",
       "</div>"
      ],
      "text/plain": [
       "                 alpha:0   alpha:0.1     alpha:1    alpha:10   alpha:100\n",
       "wind          921.346668  920.957745  917.472053  884.003679  647.201526\n",
       "temp          290.595004  290.584649  290.491783  289.594254  282.817637\n",
       "accum_rain      3.696509    3.696266    3.694086    3.673099    3.520593\n",
       "humidity        3.096010    3.096685    3.102755    3.162941    3.726950\n",
       "sunshine      -37.746767  -37.741607  -37.695329  -37.247251  -33.807538\n",
       "rain_per_day  -72.081868  -72.077815  -72.041477  -71.691930  -69.171505"
      ]
     },
     "execution_count": 37,
     "metadata": {},
     "output_type": "execute_result"
    }
   ],
   "source": [
    "ridge_alphas = [0, 0.1, 1, 10, 100]\n",
    "sort_column = 'alpha:'+str(ridge_alphas[0])\n",
    "coeff_df.sort_values(by = sort_column, ascending = False)"
   ]
  },
  {
   "cell_type": "code",
   "execution_count": null,
   "id": "9c4e564b",
   "metadata": {},
   "outputs": [],
   "source": []
  },
  {
   "cell_type": "code",
   "execution_count": null,
   "id": "b0469f06",
   "metadata": {},
   "outputs": [],
   "source": []
  }
 ],
 "metadata": {
  "kernelspec": {
   "display_name": "Python 3",
   "language": "python",
   "name": "python3"
  },
  "language_info": {
   "codemirror_mode": {
    "name": "ipython",
    "version": 3
   },
   "file_extension": ".py",
   "mimetype": "text/x-python",
   "name": "python",
   "nbconvert_exporter": "python",
   "pygments_lexer": "ipython3",
   "version": "3.8.3"
  }
 },
 "nbformat": 4,
 "nbformat_minor": 5
}
