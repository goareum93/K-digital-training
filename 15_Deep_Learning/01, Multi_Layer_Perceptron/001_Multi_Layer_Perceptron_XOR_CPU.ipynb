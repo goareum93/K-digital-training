{
  "nbformat": 4,
  "nbformat_minor": 0,
  "metadata": {
    "colab": {
      "name": "001_Multi_Layer_Perceptron_XOR_CPU.ipynb",
      "provenance": [],
      "collapsed_sections": []
    },
    "kernelspec": {
      "name": "python3",
      "display_name": "Python 3"
    }
  },
  "cells": [
    {
      "cell_type": "markdown",
      "metadata": {
        "id": "6aLTiwMEU6dN"
      },
      "source": [
        "# I. 수치미분(Numerical Derivative)"
      ]
    },
    {
      "cell_type": "code",
      "metadata": {
        "id": "RbPgODpVzdHI"
      },
      "source": [
        "import warnings\n",
        "warnings.filterwarnings('ignore')"
      ],
      "execution_count": 1,
      "outputs": []
    },
    {
      "cell_type": "markdown",
      "metadata": {
        "id": "3UugARcKaldr"
      },
      "source": [
        "> ## 1) Import numpy"
      ]
    },
    {
      "cell_type": "code",
      "metadata": {
        "id": "O0NUWP2IRnZj"
      },
      "source": [
        "import numpy as np "
      ],
      "execution_count": 2,
      "outputs": []
    },
    {
      "cell_type": "markdown",
      "metadata": {
        "id": "RWi7oYzwavvl"
      },
      "source": [
        "> ## 2) gradient( ) 함수 정의\n",
        "\n",
        "* 다변수 함수의 수치미분"
      ]
    },
    {
      "cell_type": "code",
      "metadata": {
        "id": "5Y19zci4Rsca"
      },
      "source": [
        "def gradient(machine, param):\n",
        "\n",
        "    if param.ndim == 1:\n",
        "        temp_param = param\n",
        "        delta = 0.00005\n",
        "        learned_param = np.zeros(param.shape)\n",
        "        \n",
        "        for index in range(len(param)):\n",
        "            target_param = float(temp_param[index])\n",
        "            temp_param[index] = target_param + delta            \n",
        "            param_plus_delta = machine(temp_param)\n",
        "            temp_param[index] = target_param - delta  \n",
        "            param_minus_delta = machine(temp_param)\n",
        "            learned_param[index] = (param_plus_delta - param_minus_delta ) / (2 * delta)\n",
        "            temp_param[index] = target_param\n",
        "\n",
        "        return learned_param\n",
        "        \n",
        "\n",
        "    elif param.ndim == 2:\n",
        "        temp_param = param\n",
        "        delta = 0.00005\n",
        "        learned_param = np.zeros(param.shape)\n",
        "    \n",
        "        rows = param.shape[0]\n",
        "        columns = param.shape[1]\n",
        "    \n",
        "        for row in range(rows):\n",
        "            for column in range(columns):\n",
        "                target_param = float(temp_param[row, column])\n",
        "                temp_param[row, column] = target_param + delta            \n",
        "                param_plus_delta = machine(temp_param)\n",
        "                temp_param[row, column] = target_param - delta            \n",
        "                param_minus_delta = machine(temp_param)\n",
        "                learned_param[row, column] = (param_plus_delta - param_minus_delta) / (2 * delta)\n",
        "                temp_param[row, column] = target_param\n",
        "\n",
        "        return learned_param"
      ],
      "execution_count": 3,
      "outputs": []
    },
    {
      "cell_type": "markdown",
      "metadata": {
        "id": "7kyyj7OuVR96"
      },
      "source": [
        "# II. Logic Gate( ) - 'AND', 'OR', 'NAND'"
      ]
    },
    {
      "cell_type": "markdown",
      "metadata": {
        "id": "1-nfRPT_bZLY"
      },
      "source": [
        "> ## 1) sigmoid( ) 함수 정의"
      ]
    },
    {
      "cell_type": "code",
      "metadata": {
        "id": "O3pPJzd9Vmgg"
      },
      "source": [
        "import numpy as np \n",
        "\n",
        "def sigmoid(x):\n",
        "    y_hat = 1 / (1 + np.exp(-x))\n",
        "    return y_hat"
      ],
      "execution_count": 4,
      "outputs": []
    },
    {
      "cell_type": "markdown",
      "metadata": {
        "id": "p7rTKDZKbfhb"
      },
      "source": [
        "> ## 2) LogicGate 클래스 선언"
      ]
    },
    {
      "cell_type": "code",
      "metadata": {
        "id": "AcH3S-1xWUWi"
      },
      "source": [
        "class LogicGate:\n",
        "    \n",
        "    def __init__(self, gate_Type, X_input, y_output):  \n",
        "\n",
        "# gate_Type 문자열 지정 Member      \n",
        "        self.Type = gate_Type\n",
        "        \n",
        "# X_input, y_output Member 초기화\n",
        "        self.X_input = X_input.reshape(4, 2)\n",
        "        self.y_output = y_output.reshape(4, 1)\n",
        "        \n",
        "# W, b Member 초기화\n",
        "        self.W = np.random.rand(2, 1)  \n",
        "        self.b = np.random.rand(1)\n",
        "                        \n",
        "# learning_rate Member 지정\n",
        "        self.learning_rate = 0.01\n",
        "\n",
        "# Cost_Function(CEE) Method\n",
        "    def cost_func(self):\n",
        "        z = np.dot(self.X_input, self.W) + self.b\n",
        "        y_hat = sigmoid(z)\n",
        "        delta = 0.00001\n",
        "        return -np.sum(self.y_output * np.log(y_hat + delta) + (1 - self.y_output) * np.log((1 - y_hat) + delta))      \n",
        "\n",
        "# Learning Method\n",
        "    def learn(self):\n",
        "        machine = lambda x : self.cost_func()\n",
        "        print('Initial Cost = ', self.cost_func())\n",
        "        \n",
        "        for step in  range(10001):\n",
        "            self.W = self.W - self.learning_rate * gradient(machine, self.W)\n",
        "            self.b = self.b - self.learning_rate * gradient(machine, self.b)\n",
        "    \n",
        "            if (step % 1000 == 0):\n",
        "                print('Step = ', step, 'Cost = ', self.cost_func())\n",
        "                \n",
        "# Predict Method\n",
        "    def predict(self, input_data):\n",
        "        \n",
        "        z = np.dot(input_data, self.W) + self.b\n",
        "        y_prob = sigmoid(z)\n",
        "    \n",
        "        if y_prob > 0.5:\n",
        "            result = 1\n",
        "        else:\n",
        "            result = 0\n",
        "    \n",
        "        return y_prob, result"
      ],
      "execution_count": 5,
      "outputs": []
    },
    {
      "cell_type": "markdown",
      "metadata": {
        "id": "9zdafbjmd0t2"
      },
      "source": [
        "> ## 3) AND_Gate\n",
        "\n",
        "* X_input, y_output 지정"
      ]
    },
    {
      "cell_type": "code",
      "metadata": {
        "id": "bDGAxT7UXVEP"
      },
      "source": [
        "X_input  = np.array([[0, 0], [0, 1], [1, 0], [1, 1]])\n",
        "y_output = np.array([0, 0, 0, 1])"
      ],
      "execution_count": 6,
      "outputs": []
    },
    {
      "cell_type": "markdown",
      "metadata": {
        "id": "UG2U0plZlR_L"
      },
      "source": [
        "* AND_Gate 객체 생성 및 학습"
      ]
    },
    {
      "cell_type": "code",
      "metadata": {
        "id": "4pJp_noreWmV",
        "colab": {
          "base_uri": "https://localhost:8080/"
        },
        "outputId": "63cc6115-82c4-40e2-9d14-26994406c54c"
      },
      "source": [
        "AND_Gate = LogicGate('AND_GATE', X_input, y_output)\n",
        "\n",
        "AND_Gate.learn()"
      ],
      "execution_count": 7,
      "outputs": [
        {
          "output_type": "stream",
          "text": [
            "Initial Cost =  3.2605319547208214\n",
            "Step =  0 Cost =  3.230707987730142\n",
            "Step =  1000 Cost =  1.0050812242851201\n",
            "Step =  2000 Cost =  0.6594155713637624\n",
            "Step =  3000 Cost =  0.4909216016177781\n",
            "Step =  4000 Cost =  0.38994498251824306\n",
            "Step =  5000 Cost =  0.3226672693792494\n",
            "Step =  6000 Cost =  0.27471876008263946\n",
            "Step =  7000 Cost =  0.2388822577170473\n",
            "Step =  8000 Cost =  0.2111259844520076\n",
            "Step =  9000 Cost =  0.18902113456407993\n",
            "Step =  10000 Cost =  0.17101860152682113\n"
          ],
          "name": "stdout"
        }
      ]
    },
    {
      "cell_type": "markdown",
      "metadata": {
        "id": "hEAcasYalbLy"
      },
      "source": [
        "* AND_Gate 테스트"
      ]
    },
    {
      "cell_type": "code",
      "metadata": {
        "id": "oj9Rueh2ezxd",
        "colab": {
          "base_uri": "https://localhost:8080/"
        },
        "outputId": "12759f5d-1648-4007-e1b0-1aa664fb717b"
      },
      "source": [
        "print(AND_Gate.Type, '\\n')\n",
        "\n",
        "test_data = np.array([[0, 0], [0, 1], [1, 0], [1, 1]])\n",
        "\n",
        "for input_data in test_data:\n",
        "    (sigmoid_val, logical_val) = AND_Gate.predict(input_data) \n",
        "    print(input_data, ' = ', logical_val)  "
      ],
      "execution_count": 8,
      "outputs": [
        {
          "output_type": "stream",
          "text": [
            "AND_GATE \n",
            "\n",
            "[0 0]  =  0\n",
            "[0 1]  =  0\n",
            "[1 0]  =  0\n",
            "[1 1]  =  1\n"
          ],
          "name": "stdout"
        }
      ]
    },
    {
      "cell_type": "markdown",
      "metadata": {
        "id": "dCwDjzmWfOMH"
      },
      "source": [
        "> ## 4) OR_Gate\n",
        "\n",
        "* X_input, y_output"
      ]
    },
    {
      "cell_type": "code",
      "metadata": {
        "id": "yWzMgGHUfcPZ"
      },
      "source": [
        "X_input  = np.array([[0, 0], [0, 1], [1, 0], [1, 1]])\n",
        "y_output = np.array([0, 1, 1, 1])"
      ],
      "execution_count": 9,
      "outputs": []
    },
    {
      "cell_type": "markdown",
      "metadata": {
        "id": "BUZGv2PQlqTb"
      },
      "source": [
        "* OR_Gate 객체 생성 및 학습"
      ]
    },
    {
      "cell_type": "code",
      "metadata": {
        "id": "fHMZWyWffwzJ",
        "colab": {
          "base_uri": "https://localhost:8080/"
        },
        "outputId": "0315bfc1-0b0d-474c-c71e-fb21500d906f"
      },
      "source": [
        "OR_Gate = LogicGate('OR_GATE', X_input, y_output)\n",
        "\n",
        "OR_Gate.learn() "
      ],
      "execution_count": 10,
      "outputs": [
        {
          "output_type": "stream",
          "text": [
            "Initial Cost =  1.5183094409065268\n",
            "Step =  0 Cost =  1.5165321604027304\n",
            "Step =  1000 Cost =  0.6615734407198434\n",
            "Step =  2000 Cost =  0.40878432663842235\n",
            "Step =  3000 Cost =  0.29176558457628743\n",
            "Step =  4000 Cost =  0.2253686119607413\n",
            "Step =  5000 Cost =  0.18295479331235856\n",
            "Step =  6000 Cost =  0.15366331142066394\n",
            "Step =  7000 Cost =  0.13228576562929326\n",
            "Step =  8000 Cost =  0.11602926823685258\n",
            "Step =  9000 Cost =  0.10326814749834133\n",
            "Step =  10000 Cost =  0.09299465941509635\n"
          ],
          "name": "stdout"
        }
      ]
    },
    {
      "cell_type": "markdown",
      "metadata": {
        "id": "JsokT4WFl3Xa"
      },
      "source": [
        "* OR_Gate 테스트"
      ]
    },
    {
      "cell_type": "code",
      "metadata": {
        "id": "BCGWz7REfyHo",
        "colab": {
          "base_uri": "https://localhost:8080/"
        },
        "outputId": "70bc4767-676b-4e8b-c12c-19c2827c3fa9"
      },
      "source": [
        "print(OR_Gate.Type, '\\n')\n",
        "\n",
        "test_data = np.array([[0, 0], [0, 1], [1, 0], [1, 1]])\n",
        "\n",
        "for input_data in test_data:\n",
        "    (sigmoid_val, logical_val) = OR_Gate.predict(input_data) \n",
        "    print(input_data, ' = ', logical_val)  "
      ],
      "execution_count": 11,
      "outputs": [
        {
          "output_type": "stream",
          "text": [
            "OR_GATE \n",
            "\n",
            "[0 0]  =  0\n",
            "[0 1]  =  1\n",
            "[1 0]  =  1\n",
            "[1 1]  =  1\n"
          ],
          "name": "stdout"
        }
      ]
    },
    {
      "cell_type": "markdown",
      "metadata": {
        "id": "lp8KycaqfTk_"
      },
      "source": [
        "> ## 5) NAND_Gate\n",
        "\n",
        "* X_input, y_output"
      ]
    },
    {
      "cell_type": "code",
      "metadata": {
        "id": "F_4wxCkrfdBh"
      },
      "source": [
        "X_input  = np.array([[0, 0], [0, 1], [1, 0], [1, 1]])\n",
        "y_output = np.array([1, 1, 1, 0])"
      ],
      "execution_count": 12,
      "outputs": []
    },
    {
      "cell_type": "markdown",
      "metadata": {
        "id": "FcWUPdI4ltaJ"
      },
      "source": [
        "* NAND_Gate 객체 생성 및 학습"
      ]
    },
    {
      "cell_type": "code",
      "metadata": {
        "id": "dLrdFDHzglGo",
        "colab": {
          "base_uri": "https://localhost:8080/"
        },
        "outputId": "09f0ce37-e38c-43fa-ae20-39cc3ecdca76"
      },
      "source": [
        "NAND_Gate = LogicGate('NAND_GATE', X_input, y_output)\n",
        "\n",
        "NAND_Gate.learn()"
      ],
      "execution_count": 13,
      "outputs": [
        {
          "output_type": "stream",
          "text": [
            "Initial Cost =  2.878844297511759\n",
            "Step =  0 Cost =  2.872442992968624\n",
            "Step =  1000 Cost =  1.0619855261314848\n",
            "Step =  2000 Cost =  0.6826183913022672\n",
            "Step =  3000 Cost =  0.5037945741140478\n",
            "Step =  4000 Cost =  0.39814183902240663\n",
            "Step =  5000 Cost =  0.32833252079479697\n",
            "Step =  6000 Cost =  0.27885891643177346\n",
            "Step =  7000 Cost =  0.24203410676235318\n",
            "Step =  8000 Cost =  0.21360197217853966\n",
            "Step =  9000 Cost =  0.1910152792406966\n",
            "Step =  10000 Cost =  0.17265759160379118\n"
          ],
          "name": "stdout"
        }
      ]
    },
    {
      "cell_type": "markdown",
      "metadata": {
        "id": "AX3f5qfBl62B"
      },
      "source": [
        "* NAND_Gate 테스트"
      ]
    },
    {
      "cell_type": "code",
      "metadata": {
        "id": "O18S4Ox-gs8X",
        "colab": {
          "base_uri": "https://localhost:8080/"
        },
        "outputId": "ebbecc9b-6fe4-4118-d573-306f711550ff"
      },
      "source": [
        "print(NAND_Gate.Type, '\\n')\n",
        "\n",
        "test_data = np.array([[0, 0], [0, 1], [1, 0], [1, 1]])\n",
        "\n",
        "for input_data in test_data:\n",
        "    (sigmoid_val, logical_val) = NAND_Gate.predict(input_data) \n",
        "    print(input_data, ' = ', logical_val)  "
      ],
      "execution_count": 14,
      "outputs": [
        {
          "output_type": "stream",
          "text": [
            "NAND_GATE \n",
            "\n",
            "[0 0]  =  1\n",
            "[0 1]  =  1\n",
            "[1 0]  =  1\n",
            "[1 1]  =  0\n"
          ],
          "name": "stdout"
        }
      ]
    },
    {
      "cell_type": "markdown",
      "metadata": {
        "id": "KfzunHXAfWyl"
      },
      "source": [
        "# III. XOR_Gate Issue"
      ]
    },
    {
      "cell_type": "markdown",
      "metadata": {
        "id": "BnFmJld2kY8I"
      },
      "source": [
        "> ## 1) XOR_Gate Failure\n",
        "\n",
        "* X_input, y_output"
      ]
    },
    {
      "cell_type": "code",
      "metadata": {
        "id": "RHbjtJh6fduB"
      },
      "source": [
        "X_input  = np.array([[0, 0], [0, 1], [1, 0], [1, 1]])\n",
        "y_output = np.array([0, 1, 1, 0])"
      ],
      "execution_count": 15,
      "outputs": []
    },
    {
      "cell_type": "markdown",
      "metadata": {
        "id": "MwH1C0AUlv5P"
      },
      "source": [
        "* XOR_Gate 객체 생성 및 학습"
      ]
    },
    {
      "cell_type": "code",
      "metadata": {
        "id": "9FF1q21ahATG",
        "colab": {
          "base_uri": "https://localhost:8080/"
        },
        "outputId": "12384a52-ec1d-4fd4-f998-bb8bbaf6b97b"
      },
      "source": [
        "XOR_Gate = LogicGate('XOR_GATE', X_input, y_output)\n",
        "\n",
        "XOR_Gate.learn()"
      ],
      "execution_count": 16,
      "outputs": [
        {
          "output_type": "stream",
          "text": [
            "Initial Cost =  3.6615224491165614\n",
            "Step =  0 Cost =  3.64047897517594\n",
            "Step =  1000 Cost =  2.772901548563322\n",
            "Step =  2000 Cost =  2.7725156765511794\n",
            "Step =  3000 Cost =  2.772508954476356\n",
            "Step =  4000 Cost =  2.7725087324965223\n",
            "Step =  5000 Cost =  2.7725087234412777\n",
            "Step =  6000 Cost =  2.772508723056923\n",
            "Step =  7000 Cost =  2.7725087230405046\n",
            "Step =  8000 Cost =  2.7725087230398024\n",
            "Step =  9000 Cost =  2.7725087230397722\n",
            "Step =  10000 Cost =  2.772508723039771\n"
          ],
          "name": "stdout"
        }
      ]
    },
    {
      "cell_type": "markdown",
      "metadata": {
        "id": "r2hDj20rl9NR"
      },
      "source": [
        "* XOR_Gate 테스트"
      ]
    },
    {
      "cell_type": "code",
      "metadata": {
        "id": "gn5Su92GhQY-",
        "colab": {
          "base_uri": "https://localhost:8080/"
        },
        "outputId": "71694893-f65c-4498-9c0b-f8524e159c2f"
      },
      "source": [
        "print(XOR_Gate.Type, '\\n')\n",
        "\n",
        "test_data = np.array([[0, 0], [0, 1], [1, 0], [1, 1]])\n",
        "\n",
        "for input_data in test_data:\n",
        "    (sigmoid_val, logical_val) = XOR_Gate.predict(input_data) \n",
        "    print(input_data, ' = ', logical_val)  "
      ],
      "execution_count": 17,
      "outputs": [
        {
          "output_type": "stream",
          "text": [
            "XOR_GATE \n",
            "\n",
            "[0 0]  =  1\n",
            "[0 1]  =  1\n",
            "[1 0]  =  1\n",
            "[1 1]  =  0\n"
          ],
          "name": "stdout"
        }
      ]
    },
    {
      "cell_type": "markdown",
      "metadata": {
        "id": "cT2piTfAiMze"
      },
      "source": [
        "> ## 2) XOR_Gate Succeed\n",
        "\n",
        "* XOR를 (NAND + OR) 계층 및 AND 계층의 조합으로 연산\n",
        "* 이전 학습된 Parametrer로 XOR 수행"
      ]
    },
    {
      "cell_type": "code",
      "metadata": {
        "id": "o93-rsvliQrT"
      },
      "source": [
        "input_data = np.array([[0, 0], [0, 1], [1, 0], [1, 1]])\n",
        "\n",
        "HL1_1 = []    # NAND 출력\n",
        "HL1_2 = []    # OR   출력\n",
        "\n",
        "new_input_data = []  # AND      입력\n",
        "final_output = []    # AND(XOR) 출력\n",
        "\n",
        "for index in range(len(input_data)):\n",
        "\n",
        "    HL1_1 = NAND_Gate.predict(input_data[index])  # NAND 출력\n",
        "    HL1_2 = OR_Gate.predict(input_data[index])    # OR   출력\n",
        "    \n",
        "    new_input_data.append(HL1_1[-1])    # AND 입력\n",
        "    new_input_data.append(HL1_2[-1])    # AND 입력\n",
        "    \n",
        "    (sigmoid_val, logical_val) = AND_Gate.predict(np.array(new_input_data))\n",
        "    \n",
        "    final_output.append(logical_val)    # AND(XOR) 출력    \n",
        "    new_input_data = []                 # AND 입력 초기화"
      ],
      "execution_count": 18,
      "outputs": []
    },
    {
      "cell_type": "code",
      "metadata": {
        "id": "H8wZ7HS4mhsx",
        "colab": {
          "base_uri": "https://localhost:8080/"
        },
        "outputId": "f88e2160-7104-4981-9bcc-5f13c2c9e607"
      },
      "source": [
        "print(XOR_Gate.Type, '\\n')\n",
        "\n",
        "for index in range(len(input_data)):    \n",
        "    print(input_data[index], ' = ', final_output[index])"
      ],
      "execution_count": 19,
      "outputs": [
        {
          "output_type": "stream",
          "text": [
            "XOR_GATE \n",
            "\n",
            "[0 0]  =  0\n",
            "[0 1]  =  1\n",
            "[1 0]  =  1\n",
            "[1 1]  =  0\n"
          ],
          "name": "stdout"
        }
      ]
    },
    {
      "cell_type": "markdown",
      "metadata": {
        "id": "XiAhFISVnkkm"
      },
      "source": [
        "# \n",
        "# \n",
        "# \n",
        "# THE END\n",
        "# \n",
        "# \n",
        "# "
      ]
    }
  ]
}