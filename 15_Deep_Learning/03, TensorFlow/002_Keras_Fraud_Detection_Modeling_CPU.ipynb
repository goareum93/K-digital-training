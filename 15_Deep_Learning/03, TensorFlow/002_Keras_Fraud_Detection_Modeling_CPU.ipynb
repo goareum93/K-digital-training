{
  "nbformat": 4,
  "nbformat_minor": 0,
  "metadata": {
    "colab": {
      "name": "002_Keras_Fraud_Detection_Modeling_CPU.ipynb",
      "provenance": [],
      "toc_visible": true
    },
    "kernelspec": {
      "name": "python3",
      "display_name": "Python 3"
    },
    "language_info": {
      "name": "python"
    }
  },
  "cells": [
    {
      "cell_type": "markdown",
      "metadata": {
        "id": "dnH85JuS_Unb"
      },
      "source": [
        "## Kaggle 신용카드 사기 검출 (Google Drive Mount)"
      ]
    },
    {
      "cell_type": "markdown",
      "metadata": {
        "id": "8qq4utRU_ari"
      },
      "source": [
        "https://www.kaggle.com/mlg-ulb/creditcardfraud\n"
      ]
    },
    {
      "cell_type": "markdown",
      "metadata": {
        "id": "ReETQGyi_hXk"
      },
      "source": [
        "**Credit Card Fraud Detection**\n",
        "\n",
        "- creditcard.csv (284,807 * 31)\n",
        "- Class : 0 (정상), 1 (사기)\n",
        "- 사기 검출(Fraud Detection), 이상 탐지(Anomaly Detection)"
      ]
    },
    {
      "cell_type": "code",
      "metadata": {
        "id": "QZe7XpvU_OuM"
      },
      "source": [
        "import warnings\n",
        "warnings.filterwarnings('ignore')"
      ],
      "execution_count": 1,
      "outputs": []
    },
    {
      "cell_type": "markdown",
      "metadata": {
        "id": "sfY3ggUK_w0g"
      },
      "source": [
        "### I. Google Drive Mount\n",
        "\n",
        "- 'creditCardFraoud zip'파일을 구글 드라이브에 업로드 후 진행"
      ]
    },
    {
      "cell_type": "code",
      "metadata": {
        "colab": {
          "base_uri": "https://localhost:8080/"
        },
        "id": "CcsbeOlH_v3t",
        "outputId": "7ea6550b-8c68-4cd4-cfe9-b35cfb997fa4"
      },
      "source": [
        "from google.colab import drive\n",
        "drive.mount('/content/drive')"
      ],
      "execution_count": 2,
      "outputs": [
        {
          "output_type": "stream",
          "text": [
            "Drive already mounted at /content/drive; to attempt to forcibly remount, call drive.mount(\"/content/drive\", force_remount=True).\n"
          ],
          "name": "stdout"
        }
      ]
    },
    {
      "cell_type": "markdown",
      "metadata": {
        "id": "GyQ6Db2RADfM"
      },
      "source": [
        "- 마운트 결과 확인"
      ]
    },
    {
      "cell_type": "code",
      "metadata": {
        "colab": {
          "base_uri": "https://localhost:8080/"
        },
        "id": "0WA985j9ABdV",
        "outputId": "4b10f924-cb69-4b3f-bc77-aac88c629a1e"
      },
      "source": [
        "!ls -l '/content/drive/MyDrive/Colab Notebooks/datasets/creditCardFraud.zip'"
      ],
      "execution_count": 3,
      "outputs": [
        {
          "output_type": "stream",
          "text": [
            "-rw------- 1 root root 69155672 Aug  2 09:52 '/content/drive/MyDrive/Colab Notebooks/datasets/creditCardFraud.zip'\n"
          ],
          "name": "stdout"
        }
      ]
    },
    {
      "cell_type": "markdown",
      "metadata": {
        "id": "-PD7dPXvAQ71"
      },
      "source": [
        "### II. Data Preprocessing"
      ]
    },
    {
      "cell_type": "markdown",
      "metadata": {
        "id": "p0w5TjCNAUQA"
      },
      "source": [
        "#### 1) Unzip 'creditCardFraud.zip'\n",
        "- colab 파일 시스템에 'creditcard.csv' 파일 생성"
      ]
    },
    {
      "cell_type": "code",
      "metadata": {
        "colab": {
          "base_uri": "https://localhost:8080/"
        },
        "id": "KiKwp3mCDTqS",
        "outputId": "7a0a1811-609c-4416-e09e-94215023eb5d"
      },
      "source": [
        "!unzip /content/drive/My\\ Drive/Colab\\ Notebooks/datasets/creditCardFraud.zip"
      ],
      "execution_count": 4,
      "outputs": [
        {
          "output_type": "stream",
          "text": [
            "Archive:  /content/drive/My Drive/Colab Notebooks/datasets/creditCardFraud.zip\n",
            "  inflating: creditcard.csv          \n"
          ],
          "name": "stdout"
        }
      ]
    },
    {
      "cell_type": "code",
      "metadata": {
        "colab": {
          "base_uri": "https://localhost:8080/"
        },
        "id": "gt76I5vDCwbB",
        "outputId": "d9f0043b-5a36-4e34-b020-8e30e6240a55"
      },
      "source": [
        "!ls -l"
      ],
      "execution_count": 5,
      "outputs": [
        {
          "output_type": "stream",
          "text": [
            "total 147304\n",
            "-rw-r--r-- 1 root root 150828752 Sep 20  2019 creditcard.csv\n",
            "drwx------ 6 root root      4096 Aug  5 06:08 drive\n",
            "drwxr-xr-x 1 root root      4096 Jul 16 13:20 sample_data\n"
          ],
          "name": "stdout"
        }
      ]
    },
    {
      "cell_type": "markdown",
      "metadata": {
        "id": "TcRxaBYEhCe_"
      },
      "source": [
        "#### 2) 데이터 읽어오기\n",
        "- pandas DataFrame"
      ]
    },
    {
      "cell_type": "code",
      "metadata": {
        "colab": {
          "base_uri": "https://localhost:8080/"
        },
        "id": "SLmaAvczCxsf",
        "outputId": "d7a3c9b5-2e67-4c76-cd0a-c603fb894f52"
      },
      "source": [
        "import pandas as pd\n",
        "\n",
        "DF = pd.read_csv('creditcard.csv')\n",
        "\n",
        "DF.info()"
      ],
      "execution_count": 6,
      "outputs": [
        {
          "output_type": "stream",
          "text": [
            "<class 'pandas.core.frame.DataFrame'>\n",
            "RangeIndex: 284807 entries, 0 to 284806\n",
            "Data columns (total 31 columns):\n",
            " #   Column  Non-Null Count   Dtype  \n",
            "---  ------  --------------   -----  \n",
            " 0   Time    284807 non-null  float64\n",
            " 1   V1      284807 non-null  float64\n",
            " 2   V2      284807 non-null  float64\n",
            " 3   V3      284807 non-null  float64\n",
            " 4   V4      284807 non-null  float64\n",
            " 5   V5      284807 non-null  float64\n",
            " 6   V6      284807 non-null  float64\n",
            " 7   V7      284807 non-null  float64\n",
            " 8   V8      284807 non-null  float64\n",
            " 9   V9      284807 non-null  float64\n",
            " 10  V10     284807 non-null  float64\n",
            " 11  V11     284807 non-null  float64\n",
            " 12  V12     284807 non-null  float64\n",
            " 13  V13     284807 non-null  float64\n",
            " 14  V14     284807 non-null  float64\n",
            " 15  V15     284807 non-null  float64\n",
            " 16  V16     284807 non-null  float64\n",
            " 17  V17     284807 non-null  float64\n",
            " 18  V18     284807 non-null  float64\n",
            " 19  V19     284807 non-null  float64\n",
            " 20  V20     284807 non-null  float64\n",
            " 21  V21     284807 non-null  float64\n",
            " 22  V22     284807 non-null  float64\n",
            " 23  V23     284807 non-null  float64\n",
            " 24  V24     284807 non-null  float64\n",
            " 25  V25     284807 non-null  float64\n",
            " 26  V26     284807 non-null  float64\n",
            " 27  V27     284807 non-null  float64\n",
            " 28  V28     284807 non-null  float64\n",
            " 29  Amount  284807 non-null  float64\n",
            " 30  Class   284807 non-null  int64  \n",
            "dtypes: float64(30), int64(1)\n",
            "memory usage: 67.4 MB\n"
          ],
          "name": "stdout"
        }
      ]
    },
    {
      "cell_type": "code",
      "metadata": {
        "colab": {
          "base_uri": "https://localhost:8080/",
          "height": 224
        },
        "id": "rbLEA-DihKqk",
        "outputId": "870bb248-1b45-48e4-c10b-b8c2f892392c"
      },
      "source": [
        "DF.head()"
      ],
      "execution_count": 7,
      "outputs": [
        {
          "output_type": "execute_result",
          "data": {
            "text/html": [
              "<div>\n",
              "<style scoped>\n",
              "    .dataframe tbody tr th:only-of-type {\n",
              "        vertical-align: middle;\n",
              "    }\n",
              "\n",
              "    .dataframe tbody tr th {\n",
              "        vertical-align: top;\n",
              "    }\n",
              "\n",
              "    .dataframe thead th {\n",
              "        text-align: right;\n",
              "    }\n",
              "</style>\n",
              "<table border=\"1\" class=\"dataframe\">\n",
              "  <thead>\n",
              "    <tr style=\"text-align: right;\">\n",
              "      <th></th>\n",
              "      <th>Time</th>\n",
              "      <th>V1</th>\n",
              "      <th>V2</th>\n",
              "      <th>V3</th>\n",
              "      <th>V4</th>\n",
              "      <th>V5</th>\n",
              "      <th>V6</th>\n",
              "      <th>V7</th>\n",
              "      <th>V8</th>\n",
              "      <th>V9</th>\n",
              "      <th>V10</th>\n",
              "      <th>V11</th>\n",
              "      <th>V12</th>\n",
              "      <th>V13</th>\n",
              "      <th>V14</th>\n",
              "      <th>V15</th>\n",
              "      <th>V16</th>\n",
              "      <th>V17</th>\n",
              "      <th>V18</th>\n",
              "      <th>V19</th>\n",
              "      <th>V20</th>\n",
              "      <th>V21</th>\n",
              "      <th>V22</th>\n",
              "      <th>V23</th>\n",
              "      <th>V24</th>\n",
              "      <th>V25</th>\n",
              "      <th>V26</th>\n",
              "      <th>V27</th>\n",
              "      <th>V28</th>\n",
              "      <th>Amount</th>\n",
              "      <th>Class</th>\n",
              "    </tr>\n",
              "  </thead>\n",
              "  <tbody>\n",
              "    <tr>\n",
              "      <th>0</th>\n",
              "      <td>0.0</td>\n",
              "      <td>-1.359807</td>\n",
              "      <td>-0.072781</td>\n",
              "      <td>2.536347</td>\n",
              "      <td>1.378155</td>\n",
              "      <td>-0.338321</td>\n",
              "      <td>0.462388</td>\n",
              "      <td>0.239599</td>\n",
              "      <td>0.098698</td>\n",
              "      <td>0.363787</td>\n",
              "      <td>0.090794</td>\n",
              "      <td>-0.551600</td>\n",
              "      <td>-0.617801</td>\n",
              "      <td>-0.991390</td>\n",
              "      <td>-0.311169</td>\n",
              "      <td>1.468177</td>\n",
              "      <td>-0.470401</td>\n",
              "      <td>0.207971</td>\n",
              "      <td>0.025791</td>\n",
              "      <td>0.403993</td>\n",
              "      <td>0.251412</td>\n",
              "      <td>-0.018307</td>\n",
              "      <td>0.277838</td>\n",
              "      <td>-0.110474</td>\n",
              "      <td>0.066928</td>\n",
              "      <td>0.128539</td>\n",
              "      <td>-0.189115</td>\n",
              "      <td>0.133558</td>\n",
              "      <td>-0.021053</td>\n",
              "      <td>149.62</td>\n",
              "      <td>0</td>\n",
              "    </tr>\n",
              "    <tr>\n",
              "      <th>1</th>\n",
              "      <td>0.0</td>\n",
              "      <td>1.191857</td>\n",
              "      <td>0.266151</td>\n",
              "      <td>0.166480</td>\n",
              "      <td>0.448154</td>\n",
              "      <td>0.060018</td>\n",
              "      <td>-0.082361</td>\n",
              "      <td>-0.078803</td>\n",
              "      <td>0.085102</td>\n",
              "      <td>-0.255425</td>\n",
              "      <td>-0.166974</td>\n",
              "      <td>1.612727</td>\n",
              "      <td>1.065235</td>\n",
              "      <td>0.489095</td>\n",
              "      <td>-0.143772</td>\n",
              "      <td>0.635558</td>\n",
              "      <td>0.463917</td>\n",
              "      <td>-0.114805</td>\n",
              "      <td>-0.183361</td>\n",
              "      <td>-0.145783</td>\n",
              "      <td>-0.069083</td>\n",
              "      <td>-0.225775</td>\n",
              "      <td>-0.638672</td>\n",
              "      <td>0.101288</td>\n",
              "      <td>-0.339846</td>\n",
              "      <td>0.167170</td>\n",
              "      <td>0.125895</td>\n",
              "      <td>-0.008983</td>\n",
              "      <td>0.014724</td>\n",
              "      <td>2.69</td>\n",
              "      <td>0</td>\n",
              "    </tr>\n",
              "    <tr>\n",
              "      <th>2</th>\n",
              "      <td>1.0</td>\n",
              "      <td>-1.358354</td>\n",
              "      <td>-1.340163</td>\n",
              "      <td>1.773209</td>\n",
              "      <td>0.379780</td>\n",
              "      <td>-0.503198</td>\n",
              "      <td>1.800499</td>\n",
              "      <td>0.791461</td>\n",
              "      <td>0.247676</td>\n",
              "      <td>-1.514654</td>\n",
              "      <td>0.207643</td>\n",
              "      <td>0.624501</td>\n",
              "      <td>0.066084</td>\n",
              "      <td>0.717293</td>\n",
              "      <td>-0.165946</td>\n",
              "      <td>2.345865</td>\n",
              "      <td>-2.890083</td>\n",
              "      <td>1.109969</td>\n",
              "      <td>-0.121359</td>\n",
              "      <td>-2.261857</td>\n",
              "      <td>0.524980</td>\n",
              "      <td>0.247998</td>\n",
              "      <td>0.771679</td>\n",
              "      <td>0.909412</td>\n",
              "      <td>-0.689281</td>\n",
              "      <td>-0.327642</td>\n",
              "      <td>-0.139097</td>\n",
              "      <td>-0.055353</td>\n",
              "      <td>-0.059752</td>\n",
              "      <td>378.66</td>\n",
              "      <td>0</td>\n",
              "    </tr>\n",
              "    <tr>\n",
              "      <th>3</th>\n",
              "      <td>1.0</td>\n",
              "      <td>-0.966272</td>\n",
              "      <td>-0.185226</td>\n",
              "      <td>1.792993</td>\n",
              "      <td>-0.863291</td>\n",
              "      <td>-0.010309</td>\n",
              "      <td>1.247203</td>\n",
              "      <td>0.237609</td>\n",
              "      <td>0.377436</td>\n",
              "      <td>-1.387024</td>\n",
              "      <td>-0.054952</td>\n",
              "      <td>-0.226487</td>\n",
              "      <td>0.178228</td>\n",
              "      <td>0.507757</td>\n",
              "      <td>-0.287924</td>\n",
              "      <td>-0.631418</td>\n",
              "      <td>-1.059647</td>\n",
              "      <td>-0.684093</td>\n",
              "      <td>1.965775</td>\n",
              "      <td>-1.232622</td>\n",
              "      <td>-0.208038</td>\n",
              "      <td>-0.108300</td>\n",
              "      <td>0.005274</td>\n",
              "      <td>-0.190321</td>\n",
              "      <td>-1.175575</td>\n",
              "      <td>0.647376</td>\n",
              "      <td>-0.221929</td>\n",
              "      <td>0.062723</td>\n",
              "      <td>0.061458</td>\n",
              "      <td>123.50</td>\n",
              "      <td>0</td>\n",
              "    </tr>\n",
              "    <tr>\n",
              "      <th>4</th>\n",
              "      <td>2.0</td>\n",
              "      <td>-1.158233</td>\n",
              "      <td>0.877737</td>\n",
              "      <td>1.548718</td>\n",
              "      <td>0.403034</td>\n",
              "      <td>-0.407193</td>\n",
              "      <td>0.095921</td>\n",
              "      <td>0.592941</td>\n",
              "      <td>-0.270533</td>\n",
              "      <td>0.817739</td>\n",
              "      <td>0.753074</td>\n",
              "      <td>-0.822843</td>\n",
              "      <td>0.538196</td>\n",
              "      <td>1.345852</td>\n",
              "      <td>-1.119670</td>\n",
              "      <td>0.175121</td>\n",
              "      <td>-0.451449</td>\n",
              "      <td>-0.237033</td>\n",
              "      <td>-0.038195</td>\n",
              "      <td>0.803487</td>\n",
              "      <td>0.408542</td>\n",
              "      <td>-0.009431</td>\n",
              "      <td>0.798278</td>\n",
              "      <td>-0.137458</td>\n",
              "      <td>0.141267</td>\n",
              "      <td>-0.206010</td>\n",
              "      <td>0.502292</td>\n",
              "      <td>0.219422</td>\n",
              "      <td>0.215153</td>\n",
              "      <td>69.99</td>\n",
              "      <td>0</td>\n",
              "    </tr>\n",
              "  </tbody>\n",
              "</table>\n",
              "</div>"
            ],
            "text/plain": [
              "   Time        V1        V2        V3  ...       V27       V28  Amount  Class\n",
              "0   0.0 -1.359807 -0.072781  2.536347  ...  0.133558 -0.021053  149.62      0\n",
              "1   0.0  1.191857  0.266151  0.166480  ... -0.008983  0.014724    2.69      0\n",
              "2   1.0 -1.358354 -1.340163  1.773209  ... -0.055353 -0.059752  378.66      0\n",
              "3   1.0 -0.966272 -0.185226  1.792993  ...  0.062723  0.061458  123.50      0\n",
              "4   2.0 -1.158233  0.877737  1.548718  ...  0.219422  0.215153   69.99      0\n",
              "\n",
              "[5 rows x 31 columns]"
            ]
          },
          "metadata": {
            "tags": []
          },
          "execution_count": 7
        }
      ]
    },
    {
      "cell_type": "markdown",
      "metadata": {
        "id": "ZqvG6YE0huZj"
      },
      "source": [
        "- 0(정상) Class와 1(사기) Class 개수"
      ]
    },
    {
      "cell_type": "code",
      "metadata": {
        "colab": {
          "base_uri": "https://localhost:8080/"
        },
        "id": "x0dtG4R2hsUn",
        "outputId": "59a81b9d-7327-4b3d-815e-2253a655c16c"
      },
      "source": [
        "DF.Class.value_counts()"
      ],
      "execution_count": 8,
      "outputs": [
        {
          "output_type": "execute_result",
          "data": {
            "text/plain": [
              "0    284315\n",
              "1       492\n",
              "Name: Class, dtype: int64"
            ]
          },
          "metadata": {
            "tags": []
          },
          "execution_count": 8
        }
      ]
    },
    {
      "cell_type": "markdown",
      "metadata": {
        "id": "URSYbO-hh1-O"
      },
      "source": [
        "- 0 (정상) Class와 1(사기) Class 비율"
      ]
    },
    {
      "cell_type": "code",
      "metadata": {
        "colab": {
          "base_uri": "https://localhost:8080/"
        },
        "id": "82IIq79Oh0dc",
        "outputId": "0b18b7c1-7309-45dd-9dce-c532d29c440d"
      },
      "source": [
        "(DF.Class.value_counts()/ DF.shape[0] ) * 100 "
      ],
      "execution_count": 9,
      "outputs": [
        {
          "output_type": "execute_result",
          "data": {
            "text/plain": [
              "0    99.827251\n",
              "1     0.172749\n",
              "Name: Class, dtype: float64"
            ]
          },
          "metadata": {
            "tags": []
          },
          "execution_count": 9
        }
      ]
    },
    {
      "cell_type": "markdown",
      "metadata": {
        "id": "rmfdfxVqiWvp"
      },
      "source": [
        "#### 3) Time 열(Column) 삭제"
      ]
    },
    {
      "cell_type": "code",
      "metadata": {
        "colab": {
          "base_uri": "https://localhost:8080/",
          "height": 100
        },
        "id": "F3_ID1X0iG7c",
        "outputId": "15a02d0d-f3d1-4b5b-f58b-1d020c2ed9db"
      },
      "source": [
        "DF.drop('Time', axis = 1, inplace = True)\n",
        "\n",
        "DF.head(1)"
      ],
      "execution_count": 10,
      "outputs": [
        {
          "output_type": "execute_result",
          "data": {
            "text/html": [
              "<div>\n",
              "<style scoped>\n",
              "    .dataframe tbody tr th:only-of-type {\n",
              "        vertical-align: middle;\n",
              "    }\n",
              "\n",
              "    .dataframe tbody tr th {\n",
              "        vertical-align: top;\n",
              "    }\n",
              "\n",
              "    .dataframe thead th {\n",
              "        text-align: right;\n",
              "    }\n",
              "</style>\n",
              "<table border=\"1\" class=\"dataframe\">\n",
              "  <thead>\n",
              "    <tr style=\"text-align: right;\">\n",
              "      <th></th>\n",
              "      <th>V1</th>\n",
              "      <th>V2</th>\n",
              "      <th>V3</th>\n",
              "      <th>V4</th>\n",
              "      <th>V5</th>\n",
              "      <th>V6</th>\n",
              "      <th>V7</th>\n",
              "      <th>V8</th>\n",
              "      <th>V9</th>\n",
              "      <th>V10</th>\n",
              "      <th>V11</th>\n",
              "      <th>V12</th>\n",
              "      <th>V13</th>\n",
              "      <th>V14</th>\n",
              "      <th>V15</th>\n",
              "      <th>V16</th>\n",
              "      <th>V17</th>\n",
              "      <th>V18</th>\n",
              "      <th>V19</th>\n",
              "      <th>V20</th>\n",
              "      <th>V21</th>\n",
              "      <th>V22</th>\n",
              "      <th>V23</th>\n",
              "      <th>V24</th>\n",
              "      <th>V25</th>\n",
              "      <th>V26</th>\n",
              "      <th>V27</th>\n",
              "      <th>V28</th>\n",
              "      <th>Amount</th>\n",
              "      <th>Class</th>\n",
              "    </tr>\n",
              "  </thead>\n",
              "  <tbody>\n",
              "    <tr>\n",
              "      <th>0</th>\n",
              "      <td>-1.359807</td>\n",
              "      <td>-0.072781</td>\n",
              "      <td>2.536347</td>\n",
              "      <td>1.378155</td>\n",
              "      <td>-0.338321</td>\n",
              "      <td>0.462388</td>\n",
              "      <td>0.239599</td>\n",
              "      <td>0.098698</td>\n",
              "      <td>0.363787</td>\n",
              "      <td>0.090794</td>\n",
              "      <td>-0.5516</td>\n",
              "      <td>-0.617801</td>\n",
              "      <td>-0.99139</td>\n",
              "      <td>-0.311169</td>\n",
              "      <td>1.468177</td>\n",
              "      <td>-0.470401</td>\n",
              "      <td>0.207971</td>\n",
              "      <td>0.025791</td>\n",
              "      <td>0.403993</td>\n",
              "      <td>0.251412</td>\n",
              "      <td>-0.018307</td>\n",
              "      <td>0.277838</td>\n",
              "      <td>-0.110474</td>\n",
              "      <td>0.066928</td>\n",
              "      <td>0.128539</td>\n",
              "      <td>-0.189115</td>\n",
              "      <td>0.133558</td>\n",
              "      <td>-0.021053</td>\n",
              "      <td>149.62</td>\n",
              "      <td>0</td>\n",
              "    </tr>\n",
              "  </tbody>\n",
              "</table>\n",
              "</div>"
            ],
            "text/plain": [
              "         V1        V2        V3        V4  ...       V27       V28  Amount  Class\n",
              "0 -1.359807 -0.072781  2.536347  1.378155  ...  0.133558 -0.021053  149.62      0\n",
              "\n",
              "[1 rows x 30 columns]"
            ]
          },
          "metadata": {
            "tags": []
          },
          "execution_count": 10
        }
      ]
    },
    {
      "cell_type": "markdown",
      "metadata": {
        "id": "6eh59zz_in4e"
      },
      "source": [
        "#### 4) train_test_split()\n",
        "- X(Input), y(Output) 지정"
      ]
    },
    {
      "cell_type": "code",
      "metadata": {
        "colab": {
          "base_uri": "https://localhost:8080/"
        },
        "id": "Q8jdepToilju",
        "outputId": "07f3c0a8-6d81-4a61-b3c6-8e546fe6d6d4"
      },
      "source": [
        "X = DF.iloc[:,:-1]\n",
        "y = DF.iloc[:,  1]\n",
        "\n",
        "X.shape, y.shape"
      ],
      "execution_count": 11,
      "outputs": [
        {
          "output_type": "execute_result",
          "data": {
            "text/plain": [
              "((284807, 29), (284807,))"
            ]
          },
          "metadata": {
            "tags": []
          },
          "execution_count": 11
        }
      ]
    },
    {
      "cell_type": "markdown",
      "metadata": {
        "id": "phsRBn660WzH"
      },
      "source": [
        "- With 'Stratify'"
      ]
    },
    {
      "cell_type": "code",
      "metadata": {
        "colab": {
          "base_uri": "https://localhost:8080/"
        },
        "id": "SGe1V6xLi5lq",
        "outputId": "cb48bec5-103c-4ae9-f3d7-f0627e296edf"
      },
      "source": [
        "from sklearn.model_selection import train_test_split\n",
        "\n",
        "X_train, X_test, y_train, y_test = train_test_split(X, y,\n",
        "                                                    test_size = 0.3,\n",
        "                                                    random_state = 2045)\n",
        "                                                    # stratify = y)\n",
        "\n",
        "X_train.shape, y_train.shape, X_test.shape, y_test.shape"
      ],
      "execution_count": 13,
      "outputs": [
        {
          "output_type": "execute_result",
          "data": {
            "text/plain": [
              "((199364, 29), (199364,), (85443, 29), (85443,))"
            ]
          },
          "metadata": {
            "tags": []
          },
          "execution_count": 13
        }
      ]
    },
    {
      "cell_type": "markdown",
      "metadata": {
        "id": "Uzag8RZT2eYp"
      },
      "source": [
        "- Train_Data와 Test_Data의 1(부정) 비율이 균형 "
      ]
    },
    {
      "cell_type": "code",
      "metadata": {
        "colab": {
          "base_uri": "https://localhost:8080/"
        },
        "id": "_bKaaz7H20E7",
        "outputId": "d4320ad3-2914-4c8e-9009-aa64c629f186"
      },
      "source": [
        "print('Train_Data :','\\n', (y_train.value_counts() / y_train.shape[0]) * 100)\n",
        "print('Test_Data :','\\n', (y_test.value_counts() / y_test.shape[0]) * 100)"
      ],
      "execution_count": 14,
      "outputs": [
        {
          "output_type": "stream",
          "text": [
            "Train_Data : \n",
            "  0.166975    0.028089\n",
            "-0.326668    0.026585\n",
            "-0.606529    0.020565\n",
            " 0.089735    0.020064\n",
            " 0.393051    0.018057\n",
            "               ...   \n",
            "-0.303645    0.000502\n",
            "-0.234827    0.000502\n",
            "-0.954063    0.000502\n",
            " 1.618075    0.000502\n",
            "-0.259239    0.000502\n",
            "Name: V2, Length: 194088, dtype: float64\n",
            "Test_Data : \n",
            " -0.326668    0.028089\n",
            " 0.089735    0.025748\n",
            " 0.166975    0.024578\n",
            "-0.606529    0.022237\n",
            "-0.146975    0.021067\n",
            "               ...   \n",
            " 1.233940    0.001170\n",
            " 0.811803    0.001170\n",
            " 0.278860    0.001170\n",
            " 0.074694    0.001170\n",
            " 1.126051    0.001170\n",
            "Name: V2, Length: 84100, dtype: float64\n"
          ],
          "name": "stdout"
        }
      ]
    },
    {
      "cell_type": "markdown",
      "metadata": {
        "id": "lSfZr6Ni3eq5"
      },
      "source": [
        "### III. Keras Modeling"
      ]
    },
    {
      "cell_type": "markdown",
      "metadata": {
        "id": "qiXWfmBS3hyb"
      },
      "source": [
        "#### 1) Import Tensorflow"
      ]
    },
    {
      "cell_type": "markdown",
      "metadata": {
        "id": "VanKQZZL3kd6"
      },
      "source": [
        "- Tensorflow Version 확인"
      ]
    },
    {
      "cell_type": "code",
      "metadata": {
        "colab": {
          "base_uri": "https://localhost:8080/",
          "height": 35
        },
        "id": "1xAxyqWw26g_",
        "outputId": "0d1aae4e-cbea-4b69-ae89-895cc28cec81"
      },
      "source": [
        "import tensorflow\n",
        "\n",
        "tensorflow.__version__"
      ],
      "execution_count": 15,
      "outputs": [
        {
          "output_type": "execute_result",
          "data": {
            "application/vnd.google.colaboratory.intrinsic+json": {
              "type": "string"
            },
            "text/plain": [
              "'2.5.0'"
            ]
          },
          "metadata": {
            "tags": []
          },
          "execution_count": 15
        }
      ]
    },
    {
      "cell_type": "markdown",
      "metadata": {
        "id": "CH58x8tI3rjU"
      },
      "source": [
        "#### 2) Model Define"
      ]
    },
    {
      "cell_type": "markdown",
      "metadata": {
        "id": "Gk7-YM703uHd"
      },
      "source": [
        "- 모델 신경망 구조 정의"
      ]
    },
    {
      "cell_type": "code",
      "metadata": {
        "id": "cfMkS3ds3qGi"
      },
      "source": [
        "from tensorflow.keras import models\n",
        "from tensorflow.keras import layers\n",
        "\n",
        "ccfd = models.Sequential()"
      ],
      "execution_count": 16,
      "outputs": []
    },
    {
      "cell_type": "code",
      "metadata": {
        "id": "Ke7h99n832tb"
      },
      "source": [
        "ccfd.add(layers.Dense(128, activation='relu', input_shape = (29,)))\n",
        "ccfd.add(layers.Dense(62, activation='relu'))\n",
        "ccfd.add(layers.Dense(32, activation='relu'))\n",
        "ccfd.add(layers.Dense(1, activation='sigmoid'))"
      ],
      "execution_count": 17,
      "outputs": []
    },
    {
      "cell_type": "markdown",
      "metadata": {
        "id": "K9tqipM44Ipu"
      },
      "source": [
        "- 모델 구조 확인"
      ]
    },
    {
      "cell_type": "code",
      "metadata": {
        "colab": {
          "base_uri": "https://localhost:8080/"
        },
        "id": "X84y0qbC4Hy7",
        "outputId": "ba28d962-78ad-452a-9de0-83aae74ccadd"
      },
      "source": [
        "ccfd.summary()"
      ],
      "execution_count": 18,
      "outputs": [
        {
          "output_type": "stream",
          "text": [
            "Model: \"sequential\"\n",
            "_________________________________________________________________\n",
            "Layer (type)                 Output Shape              Param #   \n",
            "=================================================================\n",
            "dense (Dense)                (None, 128)               3840      \n",
            "_________________________________________________________________\n",
            "dense_1 (Dense)              (None, 62)                7998      \n",
            "_________________________________________________________________\n",
            "dense_2 (Dense)              (None, 32)                2016      \n",
            "_________________________________________________________________\n",
            "dense_3 (Dense)              (None, 1)                 33        \n",
            "=================================================================\n",
            "Total params: 13,887\n",
            "Trainable params: 13,887\n",
            "Non-trainable params: 0\n",
            "_________________________________________________________________\n"
          ],
          "name": "stdout"
        }
      ]
    },
    {
      "cell_type": "markdown",
      "metadata": {
        "id": "ZMucNt414P5K"
      },
      "source": [
        "#### 3) Model Compile"
      ]
    },
    {
      "cell_type": "markdown",
      "metadata": {
        "id": "htkNtMix4WXK"
      },
      "source": [
        "- 모델 학습방법 설정"
      ]
    },
    {
      "cell_type": "code",
      "metadata": {
        "id": "FsA6CB5d4M_d"
      },
      "source": [
        "ccfd.compile(loss = 'binary_crossentropy',\n",
        "             optimizer = 'adam',\n",
        "             metrics = ['Recall'])"
      ],
      "execution_count": 19,
      "outputs": []
    },
    {
      "cell_type": "markdown",
      "metadata": {
        "id": "H7jjw_pn4qWn"
      },
      "source": [
        "#### 4) Model Fit"
      ]
    },
    {
      "cell_type": "markdown",
      "metadata": {
        "id": "Axkkkjz74vIY"
      },
      "source": [
        "- 모델 학습 수행"
      ]
    },
    {
      "cell_type": "code",
      "metadata": {
        "colab": {
          "base_uri": "https://localhost:8080/"
        },
        "id": "bxbKbfhs4lSa",
        "outputId": "3758268d-31f2-48b4-94d9-e05ae08395a0"
      },
      "source": [
        "%%time\n",
        "Hist_ccfd = ccfd.fit(X_train, y_train,\n",
        "                     epochs = 50,\n",
        "                     batch_size = 1024,\n",
        "                     validation_data = (X_test, y_test))"
      ],
      "execution_count": 20,
      "outputs": [
        {
          "output_type": "stream",
          "text": [
            "Epoch 1/50\n",
            "195/195 [==============================] - 3s 9ms/step - loss: -16345.2412 - recall: 0.1167 - val_loss: -93389.6484 - val_recall: 0.1206\n",
            "Epoch 2/50\n",
            "195/195 [==============================] - 1s 6ms/step - loss: -954519.8125 - recall: 0.1079 - val_loss: -2646245.2500 - val_recall: 0.1045\n",
            "Epoch 3/50\n",
            "195/195 [==============================] - 1s 7ms/step - loss: -7994921.5000 - recall: 0.1046 - val_loss: -15710854.0000 - val_recall: 0.1017\n",
            "Epoch 4/50\n",
            "195/195 [==============================] - 1s 6ms/step - loss: -29100474.0000 - recall: 0.1046 - val_loss: -46681640.0000 - val_recall: 0.1054\n",
            "Epoch 5/50\n",
            "195/195 [==============================] - 1s 7ms/step - loss: -79820880.0000 - recall: 0.1052 - val_loss: -116993928.0000 - val_recall: 0.1034\n",
            "Epoch 6/50\n",
            "195/195 [==============================] - 1s 7ms/step - loss: -174255568.0000 - recall: 0.1049 - val_loss: -235909136.0000 - val_recall: 0.1033\n",
            "Epoch 7/50\n",
            "195/195 [==============================] - 1s 7ms/step - loss: -330910112.0000 - recall: 0.1049 - val_loss: -427285056.0000 - val_recall: 0.1023\n",
            "Epoch 8/50\n",
            "195/195 [==============================] - 1s 7ms/step - loss: -562905728.0000 - recall: 0.1036 - val_loss: -697273600.0000 - val_recall: 0.1027\n",
            "Epoch 9/50\n",
            "195/195 [==============================] - 1s 7ms/step - loss: -880073664.0000 - recall: 0.1039 - val_loss: -1058306432.0000 - val_recall: 0.1031\n",
            "Epoch 10/50\n",
            "195/195 [==============================] - 1s 6ms/step - loss: -1304944128.0000 - recall: 0.1043 - val_loss: -1532713728.0000 - val_recall: 0.1033\n",
            "Epoch 11/50\n",
            "195/195 [==============================] - 1s 7ms/step - loss: -1863570176.0000 - recall: 0.1044 - val_loss: -2155570944.0000 - val_recall: 0.1030\n",
            "Epoch 12/50\n",
            "195/195 [==============================] - 1s 7ms/step - loss: -2572195328.0000 - recall: 0.1043 - val_loss: -2920621312.0000 - val_recall: 0.1029\n",
            "Epoch 13/50\n",
            "195/195 [==============================] - 1s 6ms/step - loss: -3442852352.0000 - recall: 0.1041 - val_loss: -3855982080.0000 - val_recall: 0.1028\n",
            "Epoch 14/50\n",
            "195/195 [==============================] - 1s 7ms/step - loss: -4479437312.0000 - recall: 0.1037 - val_loss: -4983267328.0000 - val_recall: 0.1027\n",
            "Epoch 15/50\n",
            "195/195 [==============================] - 1s 6ms/step - loss: -5694429184.0000 - recall: 0.1039 - val_loss: -6247168000.0000 - val_recall: 0.1029\n",
            "Epoch 16/50\n",
            "195/195 [==============================] - 1s 7ms/step - loss: -7114031616.0000 - recall: 0.1042 - val_loss: -7766367744.0000 - val_recall: 0.1029\n",
            "Epoch 17/50\n",
            "195/195 [==============================] - 1s 6ms/step - loss: -8765358080.0000 - recall: 0.1039 - val_loss: -9483778048.0000 - val_recall: 0.1029\n",
            "Epoch 18/50\n",
            "195/195 [==============================] - 1s 6ms/step - loss: -10649574400.0000 - recall: 0.1040 - val_loss: -11427424256.0000 - val_recall: 0.1029\n",
            "Epoch 19/50\n",
            "195/195 [==============================] - 1s 6ms/step - loss: -12771981312.0000 - recall: 0.1041 - val_loss: -13666050048.0000 - val_recall: 0.1028\n",
            "Epoch 20/50\n",
            "195/195 [==============================] - 1s 7ms/step - loss: -15155883008.0000 - recall: 0.1041 - val_loss: -16115907584.0000 - val_recall: 0.1029\n",
            "Epoch 21/50\n",
            "195/195 [==============================] - 1s 7ms/step - loss: -17783629824.0000 - recall: 0.1040 - val_loss: -18857943040.0000 - val_recall: 0.1029\n",
            "Epoch 22/50\n",
            "195/195 [==============================] - 1s 6ms/step - loss: -20701677568.0000 - recall: 0.1043 - val_loss: -21854615552.0000 - val_recall: 0.1030\n",
            "Epoch 23/50\n",
            "195/195 [==============================] - 1s 7ms/step - loss: -23923257344.0000 - recall: 0.1042 - val_loss: -25188505600.0000 - val_recall: 0.1030\n",
            "Epoch 24/50\n",
            "195/195 [==============================] - 1s 7ms/step - loss: -27472629760.0000 - recall: 0.1043 - val_loss: -28808060928.0000 - val_recall: 0.1031\n",
            "Epoch 25/50\n",
            "195/195 [==============================] - 1s 8ms/step - loss: -31333089280.0000 - recall: 0.1041 - val_loss: -32799961088.0000 - val_recall: 0.1031\n",
            "Epoch 26/50\n",
            "195/195 [==============================] - 1s 7ms/step - loss: -35548483584.0000 - recall: 0.1045 - val_loss: -37083262976.0000 - val_recall: 0.1032\n",
            "Epoch 27/50\n",
            "195/195 [==============================] - 1s 7ms/step - loss: -40116178944.0000 - recall: 0.1044 - val_loss: -41766866944.0000 - val_recall: 0.1032\n",
            "Epoch 28/50\n",
            "195/195 [==============================] - 1s 7ms/step - loss: -45091123200.0000 - recall: 0.1045 - val_loss: -46829445120.0000 - val_recall: 0.1032\n",
            "Epoch 29/50\n",
            "195/195 [==============================] - 1s 7ms/step - loss: -50487205888.0000 - recall: 0.1045 - val_loss: -52316680192.0000 - val_recall: 0.1032\n",
            "Epoch 30/50\n",
            "195/195 [==============================] - 1s 7ms/step - loss: -56142057472.0000 - recall: 0.1043 - val_loss: -58062585856.0000 - val_recall: 0.1033\n",
            "Epoch 31/50\n",
            "195/195 [==============================] - 1s 7ms/step - loss: -62204375040.0000 - recall: 0.1046 - val_loss: -64222994432.0000 - val_recall: 0.1034\n",
            "Epoch 32/50\n",
            "195/195 [==============================] - 1s 7ms/step - loss: -68795899904.0000 - recall: 0.1046 - val_loss: -70988120064.0000 - val_recall: 0.1034\n",
            "Epoch 33/50\n",
            "195/195 [==============================] - 1s 7ms/step - loss: -75883765760.0000 - recall: 0.1046 - val_loss: -78134722560.0000 - val_recall: 0.1034\n",
            "Epoch 34/50\n",
            "195/195 [==============================] - 1s 6ms/step - loss: -83473416192.0000 - recall: 0.1046 - val_loss: -85870608384.0000 - val_recall: 0.1033\n",
            "Epoch 35/50\n",
            "195/195 [==============================] - 1s 6ms/step - loss: -91560042496.0000 - recall: 0.1047 - val_loss: -94068760576.0000 - val_recall: 0.1033\n",
            "Epoch 36/50\n",
            "195/195 [==============================] - 1s 6ms/step - loss: -100144291840.0000 - recall: 0.1046 - val_loss: -102645997568.0000 - val_recall: 0.1033\n",
            "Epoch 37/50\n",
            "195/195 [==============================] - 1s 7ms/step - loss: -109339131904.0000 - recall: 0.1047 - val_loss: -112021241856.0000 - val_recall: 0.1033\n",
            "Epoch 38/50\n",
            "195/195 [==============================] - 1s 6ms/step - loss: -119091036160.0000 - recall: 0.1046 - val_loss: -121860079616.0000 - val_recall: 0.1033\n",
            "Epoch 39/50\n",
            "195/195 [==============================] - 1s 7ms/step - loss: -129310916608.0000 - recall: 0.1047 - val_loss: -132099751936.0000 - val_recall: 0.1033\n",
            "Epoch 40/50\n",
            "195/195 [==============================] - 1s 7ms/step - loss: -140083822592.0000 - recall: 0.1046 - val_loss: -142986526720.0000 - val_recall: 0.1033\n",
            "Epoch 41/50\n",
            "195/195 [==============================] - 1s 7ms/step - loss: -151432560640.0000 - recall: 0.1047 - val_loss: -154419527680.0000 - val_recall: 0.1033\n",
            "Epoch 42/50\n",
            "195/195 [==============================] - 1s 7ms/step - loss: -163367518208.0000 - recall: 0.1047 - val_loss: -166399213568.0000 - val_recall: 0.1033\n",
            "Epoch 43/50\n",
            "195/195 [==============================] - 1s 7ms/step - loss: -175887958016.0000 - recall: 0.1047 - val_loss: -178966315008.0000 - val_recall: 0.1034\n",
            "Epoch 44/50\n",
            "195/195 [==============================] - 1s 6ms/step - loss: -189052911616.0000 - recall: 0.1047 - val_loss: -192363085824.0000 - val_recall: 0.1034\n",
            "Epoch 45/50\n",
            "195/195 [==============================] - 1s 7ms/step - loss: -202926243840.0000 - recall: 0.1048 - val_loss: -206166982656.0000 - val_recall: 0.1034\n",
            "Epoch 46/50\n",
            "195/195 [==============================] - 1s 7ms/step - loss: -217496944640.0000 - recall: 0.1049 - val_loss: -220905750528.0000 - val_recall: 0.1034\n",
            "Epoch 47/50\n",
            "195/195 [==============================] - 1s 6ms/step - loss: -232814739456.0000 - recall: 0.1049 - val_loss: -236253265920.0000 - val_recall: 0.1034\n",
            "Epoch 48/50\n",
            "195/195 [==============================] - 1s 7ms/step - loss: -248859410432.0000 - recall: 0.1048 - val_loss: -252297904128.0000 - val_recall: 0.1035\n",
            "Epoch 49/50\n",
            "195/195 [==============================] - 1s 7ms/step - loss: -265567813632.0000 - recall: 0.1048 - val_loss: -269194035200.0000 - val_recall: 0.1035\n",
            "Epoch 50/50\n",
            "195/195 [==============================] - 1s 6ms/step - loss: -283181809664.0000 - recall: 0.1049 - val_loss: -286501896192.0000 - val_recall: 0.1035\n",
            "CPU times: user 1min 28s, sys: 5.63 s, total: 1min 33s\n",
            "Wall time: 1min 9s\n"
          ],
          "name": "stdout"
        }
      ]
    },
    {
      "cell_type": "markdown",
      "metadata": {
        "id": "7LXAdjq447G0"
      },
      "source": [
        "#### 5) 학습결과 시각화"
      ]
    },
    {
      "cell_type": "markdown",
      "metadata": {
        "id": "bvRHlD6e5A5k"
      },
      "source": [
        "- Loss Visualization"
      ]
    },
    {
      "cell_type": "code",
      "metadata": {
        "colab": {
          "base_uri": "https://localhost:8080/",
          "height": 404
        },
        "id": "Viu0mN7K45E1",
        "outputId": "728afe34-6a97-4579-fc83-c811a7c658fb"
      },
      "source": [
        "import matplotlib.pyplot as plt\n",
        "\n",
        "epochs = range(1, len(Hist_ccfd.history['loss'])+1)\n",
        "\n",
        "plt.figure(figsize = (9,6))\n",
        "plt.plot(epochs, Hist_ccfd.history['loss'])\n",
        "plt.plot(epochs, Hist_ccfd.history['val_loss'])\n",
        "plt.title('Training & Validation Loss')\n",
        "plt.xlabel('Epochs')\n",
        "plt.ylabel('Loss')\n",
        "plt.legend(['Training Loss', 'Validation Loss'])\n",
        "plt.grid()\n",
        "plt.show()"
      ],
      "execution_count": 21,
      "outputs": [
        {
          "output_type": "display_data",
          "data": {
            "image/png": "[encoded data removed]",
            "text/plain": [
              "<Figure size 648x432 with 1 Axes>"
            ]
          },
          "metadata": {
            "tags": [],
            "needs_background": "light"
          }
        }
      ]
    },
    {
      "cell_type": "markdown",
      "metadata": {
        "id": "Rkfb1B415u_r"
      },
      "source": [
        "- Recall Visualization"
      ]
    },
    {
      "cell_type": "code",
      "metadata": {
        "colab": {
          "base_uri": "https://localhost:8080/",
          "height": 404
        },
        "id": "-bz2mdLd5yMk",
        "outputId": "c679bc2f-069a-4db4-df74-7db2518d4bfd"
      },
      "source": [
        "import matplotlib.pyplot as plt\n",
        "\n",
        "epochs = range(1, len(Hist_ccfd.history['recall'])+1)\n",
        "\n",
        "plt.figure(figsize = (9,6))\n",
        "plt.plot(epochs, Hist_ccfd.history['recall'])\n",
        "plt.plot(epochs, Hist_ccfd.history['val_recall'])\n",
        "plt.title('Training & Validation Recall')\n",
        "plt.xlabel('Epochs')\n",
        "plt.ylabel('Recall')\n",
        "plt.legend(['Training Recall', 'Validation Recall'])\n",
        "plt.grid()\n",
        "plt.show()"
      ],
      "execution_count": 22,
      "outputs": [
        {
          "output_type": "display_data",
          "data": {
            "image/png": "[encoded data removed]",
            "text/plain": [
              "<Figure size 648x432 with 1 Axes>"
            ]
          },
          "metadata": {
            "tags": [],
            "needs_background": "light"
          }
        }
      ]
    },
    {
      "cell_type": "markdown",
      "metadata": {
        "id": "6GTeRy_P5mur"
      },
      "source": [
        "#### 6) Model Evaluate"
      ]
    },
    {
      "cell_type": "markdown",
      "metadata": {
        "id": "YJ-c0DKy5pmY"
      },
      "source": [
        "- Loss & Accuracy"
      ]
    },
    {
      "cell_type": "code",
      "metadata": {
        "colab": {
          "base_uri": "https://localhost:8080/"
        },
        "id": "j3zqdNgw5hQj",
        "outputId": "e2789c77-72fa-4de6-92b1-87b0e19cd90c"
      },
      "source": [
        "loss, recall = ccfd.evaluate(X_test, y_test)\n",
        "\n",
        "print('Loss = {:.5f}'.format(loss))\n",
        "print('Recall = {:.5f}'.format(recall))"
      ],
      "execution_count": 23,
      "outputs": [
        {
          "output_type": "stream",
          "text": [
            "2671/2671 [==============================] - 3s 1ms/step - loss: -286501797888.0000 - recall: 0.1035\n",
            "Loss = -286501797888.00000\n",
            "Recall = 0.10348\n"
          ],
          "name": "stdout"
        }
      ]
    },
    {
      "cell_type": "markdown",
      "metadata": {
        "id": "NiJj_8i66fLa"
      },
      "source": [
        "#### 7) Model Predict"
      ]
    },
    {
      "cell_type": "code",
      "metadata": {
        "id": "Wx8AApcc6cNB"
      },
      "source": [
        "y_hat = ccfd.predict_classes(X_test)"
      ],
      "execution_count": 24,
      "outputs": []
    },
    {
      "cell_type": "code",
      "metadata": {
        "colab": {
          "base_uri": "https://localhost:8080/",
          "height": 358
        },
        "id": "EO4maXRq6k1c",
        "outputId": "a6ceceaa-dd89-4927-b034-0a2c6d110efa"
      },
      "source": [
        "from sklearn.metrics import confusion_matrix\n",
        "confusion_matrix(y_test, y_hat)"
      ],
      "execution_count": 25,
      "outputs": [
        {
          "output_type": "error",
          "ename": "ValueError",
          "evalue": "ignored",
          "traceback": [
            "\u001b[0;31m---------------------------------------------------------------------------\u001b[0m",
            "\u001b[0;31mValueError\u001b[0m                                Traceback (most recent call last)",
            "\u001b[0;32m<ipython-input-25-273114e8ef39>\u001b[0m in \u001b[0;36m<module>\u001b[0;34m()\u001b[0m\n\u001b[1;32m      1\u001b[0m \u001b[0;32mfrom\u001b[0m \u001b[0msklearn\u001b[0m\u001b[0;34m.\u001b[0m\u001b[0mmetrics\u001b[0m \u001b[0;32mimport\u001b[0m \u001b[0mconfusion_matrix\u001b[0m\u001b[0;34m\u001b[0m\u001b[0;34m\u001b[0m\u001b[0m\n\u001b[0;32m----> 2\u001b[0;31m \u001b[0mconfusion_matrix\u001b[0m\u001b[0;34m(\u001b[0m\u001b[0my_test\u001b[0m\u001b[0;34m,\u001b[0m \u001b[0my_hat\u001b[0m\u001b[0;34m)\u001b[0m\u001b[0;34m\u001b[0m\u001b[0;34m\u001b[0m\u001b[0m\n\u001b[0m",
            "\u001b[0;32m/usr/local/lib/python3.7/dist-packages/sklearn/metrics/_classification.py\u001b[0m in \u001b[0;36mconfusion_matrix\u001b[0;34m(y_true, y_pred, labels, sample_weight, normalize)\u001b[0m\n\u001b[1;32m    266\u001b[0m \u001b[0;34m\u001b[0m\u001b[0m\n\u001b[1;32m    267\u001b[0m     \"\"\"\n\u001b[0;32m--> 268\u001b[0;31m     \u001b[0my_type\u001b[0m\u001b[0;34m,\u001b[0m \u001b[0my_true\u001b[0m\u001b[0;34m,\u001b[0m \u001b[0my_pred\u001b[0m \u001b[0;34m=\u001b[0m \u001b[0m_check_targets\u001b[0m\u001b[0;34m(\u001b[0m\u001b[0my_true\u001b[0m\u001b[0;34m,\u001b[0m \u001b[0my_pred\u001b[0m\u001b[0;34m)\u001b[0m\u001b[0;34m\u001b[0m\u001b[0;34m\u001b[0m\u001b[0m\n\u001b[0m\u001b[1;32m    269\u001b[0m     \u001b[0;32mif\u001b[0m \u001b[0my_type\u001b[0m \u001b[0;32mnot\u001b[0m \u001b[0;32min\u001b[0m \u001b[0;34m(\u001b[0m\u001b[0;34m\"binary\"\u001b[0m\u001b[0;34m,\u001b[0m \u001b[0;34m\"multiclass\"\u001b[0m\u001b[0;34m)\u001b[0m\u001b[0;34m:\u001b[0m\u001b[0;34m\u001b[0m\u001b[0;34m\u001b[0m\u001b[0m\n\u001b[1;32m    270\u001b[0m         \u001b[0;32mraise\u001b[0m \u001b[0mValueError\u001b[0m\u001b[0;34m(\u001b[0m\u001b[0;34m\"%s is not supported\"\u001b[0m \u001b[0;34m%\u001b[0m \u001b[0my_type\u001b[0m\u001b[0;34m)\u001b[0m\u001b[0;34m\u001b[0m\u001b[0;34m\u001b[0m\u001b[0m\n",
            "\u001b[0;32m/usr/local/lib/python3.7/dist-packages/sklearn/metrics/_classification.py\u001b[0m in \u001b[0;36m_check_targets\u001b[0;34m(y_true, y_pred)\u001b[0m\n\u001b[1;32m     88\u001b[0m     \u001b[0;32mif\u001b[0m \u001b[0mlen\u001b[0m\u001b[0;34m(\u001b[0m\u001b[0my_type\u001b[0m\u001b[0;34m)\u001b[0m \u001b[0;34m>\u001b[0m \u001b[0;36m1\u001b[0m\u001b[0;34m:\u001b[0m\u001b[0;34m\u001b[0m\u001b[0;34m\u001b[0m\u001b[0m\n\u001b[1;32m     89\u001b[0m         raise ValueError(\"Classification metrics can't handle a mix of {0} \"\n\u001b[0;32m---> 90\u001b[0;31m                          \"and {1} targets\".format(type_true, type_pred))\n\u001b[0m\u001b[1;32m     91\u001b[0m \u001b[0;34m\u001b[0m\u001b[0m\n\u001b[1;32m     92\u001b[0m     \u001b[0;31m# We can't have more than one value on y_type => The set is no more needed\u001b[0m\u001b[0;34m\u001b[0m\u001b[0;34m\u001b[0m\u001b[0;34m\u001b[0m\u001b[0m\n",
            "\u001b[0;31mValueError\u001b[0m: Classification metrics can't handle a mix of continuous and binary targets"
          ]
        }
      ]
    },
    {
      "cell_type": "code",
      "metadata": {
        "colab": {
          "base_uri": "https://localhost:8080/",
          "height": 412
        },
        "id": "aD_EVnqC6prn",
        "outputId": "339ed7c8-40aa-4c2d-b8a8-b68c21a2d815"
      },
      "source": [
        "from sklearn.metrics import accuracy_score, precision_score, recall_score\n",
        "\n",
        "print(accuracy_score(y_test, y_hat))\n",
        "print(precision_score(y_test, y_hat, pos_label = 1))\n",
        "print(recall_score(y_test, y_hat, pos_label = 1))"
      ],
      "execution_count": 26,
      "outputs": [
        {
          "output_type": "error",
          "ename": "ValueError",
          "evalue": "ignored",
          "traceback": [
            "\u001b[0;31m---------------------------------------------------------------------------\u001b[0m",
            "\u001b[0;31mValueError\u001b[0m                                Traceback (most recent call last)",
            "\u001b[0;32m<ipython-input-26-ba60ae3d9a96>\u001b[0m in \u001b[0;36m<module>\u001b[0;34m()\u001b[0m\n\u001b[1;32m      1\u001b[0m \u001b[0;32mfrom\u001b[0m \u001b[0msklearn\u001b[0m\u001b[0;34m.\u001b[0m\u001b[0mmetrics\u001b[0m \u001b[0;32mimport\u001b[0m \u001b[0maccuracy_score\u001b[0m\u001b[0;34m,\u001b[0m \u001b[0mprecision_score\u001b[0m\u001b[0;34m,\u001b[0m \u001b[0mrecall_score\u001b[0m\u001b[0;34m\u001b[0m\u001b[0;34m\u001b[0m\u001b[0m\n\u001b[1;32m      2\u001b[0m \u001b[0;34m\u001b[0m\u001b[0m\n\u001b[0;32m----> 3\u001b[0;31m \u001b[0mprint\u001b[0m\u001b[0;34m(\u001b[0m\u001b[0maccuracy_score\u001b[0m\u001b[0;34m(\u001b[0m\u001b[0my_test\u001b[0m\u001b[0;34m,\u001b[0m \u001b[0my_hat\u001b[0m\u001b[0;34m)\u001b[0m\u001b[0;34m)\u001b[0m\u001b[0;34m\u001b[0m\u001b[0;34m\u001b[0m\u001b[0m\n\u001b[0m\u001b[1;32m      4\u001b[0m \u001b[0mprint\u001b[0m\u001b[0;34m(\u001b[0m\u001b[0mprecision_score\u001b[0m\u001b[0;34m(\u001b[0m\u001b[0my_test\u001b[0m\u001b[0;34m,\u001b[0m \u001b[0my_hat\u001b[0m\u001b[0;34m,\u001b[0m \u001b[0mpos_label\u001b[0m \u001b[0;34m=\u001b[0m \u001b[0;36m1\u001b[0m\u001b[0;34m)\u001b[0m\u001b[0;34m)\u001b[0m\u001b[0;34m\u001b[0m\u001b[0;34m\u001b[0m\u001b[0m\n\u001b[1;32m      5\u001b[0m \u001b[0mprint\u001b[0m\u001b[0;34m(\u001b[0m\u001b[0mrecall_score\u001b[0m\u001b[0;34m(\u001b[0m\u001b[0my_test\u001b[0m\u001b[0;34m,\u001b[0m \u001b[0my_hat\u001b[0m\u001b[0;34m,\u001b[0m \u001b[0mpos_label\u001b[0m \u001b[0;34m=\u001b[0m \u001b[0;36m1\u001b[0m\u001b[0;34m)\u001b[0m\u001b[0;34m)\u001b[0m\u001b[0;34m\u001b[0m\u001b[0;34m\u001b[0m\u001b[0m\n",
            "\u001b[0;32m/usr/local/lib/python3.7/dist-packages/sklearn/metrics/_classification.py\u001b[0m in \u001b[0;36maccuracy_score\u001b[0;34m(y_true, y_pred, normalize, sample_weight)\u001b[0m\n\u001b[1;32m    183\u001b[0m \u001b[0;34m\u001b[0m\u001b[0m\n\u001b[1;32m    184\u001b[0m     \u001b[0;31m# Compute accuracy for each possible representation\u001b[0m\u001b[0;34m\u001b[0m\u001b[0;34m\u001b[0m\u001b[0;34m\u001b[0m\u001b[0m\n\u001b[0;32m--> 185\u001b[0;31m     \u001b[0my_type\u001b[0m\u001b[0;34m,\u001b[0m \u001b[0my_true\u001b[0m\u001b[0;34m,\u001b[0m \u001b[0my_pred\u001b[0m \u001b[0;34m=\u001b[0m \u001b[0m_check_targets\u001b[0m\u001b[0;34m(\u001b[0m\u001b[0my_true\u001b[0m\u001b[0;34m,\u001b[0m \u001b[0my_pred\u001b[0m\u001b[0;34m)\u001b[0m\u001b[0;34m\u001b[0m\u001b[0;34m\u001b[0m\u001b[0m\n\u001b[0m\u001b[1;32m    186\u001b[0m     \u001b[0mcheck_consistent_length\u001b[0m\u001b[0;34m(\u001b[0m\u001b[0my_true\u001b[0m\u001b[0;34m,\u001b[0m \u001b[0my_pred\u001b[0m\u001b[0;34m,\u001b[0m \u001b[0msample_weight\u001b[0m\u001b[0;34m)\u001b[0m\u001b[0;34m\u001b[0m\u001b[0;34m\u001b[0m\u001b[0m\n\u001b[1;32m    187\u001b[0m     \u001b[0;32mif\u001b[0m \u001b[0my_type\u001b[0m\u001b[0;34m.\u001b[0m\u001b[0mstartswith\u001b[0m\u001b[0;34m(\u001b[0m\u001b[0;34m'multilabel'\u001b[0m\u001b[0;34m)\u001b[0m\u001b[0;34m:\u001b[0m\u001b[0;34m\u001b[0m\u001b[0;34m\u001b[0m\u001b[0m\n",
            "\u001b[0;32m/usr/local/lib/python3.7/dist-packages/sklearn/metrics/_classification.py\u001b[0m in \u001b[0;36m_check_targets\u001b[0;34m(y_true, y_pred)\u001b[0m\n\u001b[1;32m     88\u001b[0m     \u001b[0;32mif\u001b[0m \u001b[0mlen\u001b[0m\u001b[0;34m(\u001b[0m\u001b[0my_type\u001b[0m\u001b[0;34m)\u001b[0m \u001b[0;34m>\u001b[0m \u001b[0;36m1\u001b[0m\u001b[0;34m:\u001b[0m\u001b[0;34m\u001b[0m\u001b[0;34m\u001b[0m\u001b[0m\n\u001b[1;32m     89\u001b[0m         raise ValueError(\"Classification metrics can't handle a mix of {0} \"\n\u001b[0;32m---> 90\u001b[0;31m                          \"and {1} targets\".format(type_true, type_pred))\n\u001b[0m\u001b[1;32m     91\u001b[0m \u001b[0;34m\u001b[0m\u001b[0m\n\u001b[1;32m     92\u001b[0m     \u001b[0;31m# We can't have more than one value on y_type => The set is no more needed\u001b[0m\u001b[0;34m\u001b[0m\u001b[0;34m\u001b[0m\u001b[0;34m\u001b[0m\u001b[0m\n",
            "\u001b[0;31mValueError\u001b[0m: Classification metrics can't handle a mix of continuous and binary targets"
          ]
        }
      ]
    }
  ]
}