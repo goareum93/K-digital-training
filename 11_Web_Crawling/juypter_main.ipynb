{
 "cells": [
  {
   "cell_type": "markdown",
   "metadata": {},
   "source": [
    "<h3>Google Image Scrapper for Juypter Notebook</h3>"
   ]
  },
  {
   "cell_type": "code",
   "execution_count": 1,
   "metadata": {},
   "outputs": [
    {
     "name": "stdout",
     "output_type": "stream",
     "text": [
      "Requirement already satisfied: selenium==4.0.0a6 in c:\\users\\admin\\anaconda3\\lib\\site-packages (4.0.0a6)\n",
      "Requirement already satisfied: urllib3[secure] in c:\\users\\admin\\anaconda3\\lib\\site-packages (from selenium==4.0.0a6) (1.26.4)\n",
      "Requirement already satisfied: certifi in c:\\users\\admin\\anaconda3\\lib\\site-packages (from urllib3[secure]->selenium==4.0.0a6) (2020.12.5)\n",
      "Requirement already satisfied: cryptography>=1.3.4 in c:\\users\\admin\\anaconda3\\lib\\site-packages (from urllib3[secure]->selenium==4.0.0a6) (3.4.7)\n",
      "Requirement already satisfied: pyOpenSSL>=0.14 in c:\\users\\admin\\anaconda3\\lib\\site-packages (from urllib3[secure]->selenium==4.0.0a6) (20.0.1)\n",
      "Requirement already satisfied: idna>=2.0.0 in c:\\users\\admin\\anaconda3\\lib\\site-packages (from urllib3[secure]->selenium==4.0.0a6) (2.10)\n",
      "Requirement already satisfied: cffi>=1.12 in c:\\users\\admin\\anaconda3\\lib\\site-packages (from cryptography>=1.3.4->urllib3[secure]->selenium==4.0.0a6) (1.14.5)\n",
      "Requirement already satisfied: pycparser in c:\\users\\admin\\anaconda3\\lib\\site-packages (from cffi>=1.12->cryptography>=1.3.4->urllib3[secure]->selenium==4.0.0a6) (2.20)\n",
      "Requirement already satisfied: six>=1.5.2 in c:\\users\\admin\\anaconda3\\lib\\site-packages (from pyOpenSSL>=0.14->urllib3[secure]->selenium==4.0.0a6) (1.15.0)\n"
     ]
    }
   ],
   "source": [
    "!pip install selenium==4.0.0a6"
   ]
  },
  {
   "cell_type": "code",
   "execution_count": 2,
   "metadata": {},
   "outputs": [],
   "source": [
    "from GoogleImageScrapper import GoogleImageScraper"
   ]
  },
  {
   "cell_type": "code",
   "execution_count": 3,
   "metadata": {},
   "outputs": [],
   "source": [
    "from GoogleImageScrapper import GoogleImageScraper\n",
    "import os\n",
    "import time\n",
    "\n",
    "sleep_between_interactions = 1\n",
    "webdriver_path = os.getcwd()+\".\\\\webdriver\\\\chromedriver.exe\"\n",
    "image_path = os.getcwd()+\".\\\\animal\""
   ]
  },
  {
   "cell_type": "code",
   "execution_count": 4,
   "metadata": {},
   "outputs": [
    {
     "name": "stdout",
     "output_type": "stream",
     "text": [
      "GoogleImageScraper Notification: Scraping for image link... Please wait.\n"
     ]
    },
    {
     "name": "stderr",
     "output_type": "stream",
     "text": [
      "C:\\Users\\admin\\anaconda3\\lib\\site-packages\\selenium\\webdriver\\remote\\webdriver.py:430: UserWarning: find_element_by_* commands are deprecated. Please use find_element() instead\n",
      "  warnings.warn(\"find_element_by_* commands are deprecated. Please use find_element() instead\")\n",
      "C:\\Users\\admin\\anaconda3\\lib\\site-packages\\selenium\\webdriver\\remote\\webdriver.py:649: UserWarning: find_elements_by_* commands are deprecated. Please use find_elements() instead\n",
      "  warnings.warn(\"find_elements_by_* commands are deprecated. Please use find_elements() instead\")\n"
     ]
    },
    {
     "name": "stdout",
     "output_type": "stream",
     "text": [
      "0. https://upload.wikimedia.org/wikipedia/commons/thumb/4/43/07._Camel_Profile%2C_near_Silverton%2C_NSW%2C_07.07.2007.jpg/1200px-07._Camel_Profile%2C_near_Silverton%2C_NSW%2C_07.07.2007.jpg\n",
      "1. https://www.sciencenewsforstudents.org/wp-content/uploads/2021/01/1030_improving_the_camel.jpg\n",
      "2. https://foodtank.com/wp-content/uploads/2020/12/Food-Tank-Camel-Milk-National-Food-Institute-FAO-Haramaya-University.jpg\n",
      "3. https://cdn.britannica.com/94/152294-050-92FE0C83/Arabian-dromedary-camel.jpg\n",
      "4. https://i0.wp.com/see.news/wp-content/uploads/2019/07/Camel.jpg\n",
      "5. https://www.anthropocenemagazine.org/wp-content/uploads/2020/11/camel2.jpg\n",
      "6. https://cdn.britannica.com/71/118771-050-C1CFADBA/Dromedary-rider.jpg\n",
      "7. https://res.cloudinary.com/dk-find-out/image/upload/q_80,w_1920,f_auto/MA_00108144_m2gljt.jpg\n",
      "8. http://4.bp.blogspot.com/-uvWr3WgX5dI/Vo9gc9j8hwI/AAAAAAAAAC0/1pccN7UwExE/s1600/kamela.jpg\n",
      "GoogleImageScraper Notification: Saving Image... Please wait.\n",
      "0 .Image saved at: C:\\Users\\admin\\Desktop\\2021-K-Digital-Training-main2\\2021-K-Digital-Training-main\\Web_Crawling.\\animal\\camel0.jpg\n",
      "1 .Image saved at: C:\\Users\\admin\\Desktop\\2021-K-Digital-Training-main2\\2021-K-Digital-Training-main\\Web_Crawling.\\animal\\camel1.jpg\n",
      "2 .Image saved at: C:\\Users\\admin\\Desktop\\2021-K-Digital-Training-main2\\2021-K-Digital-Training-main\\Web_Crawling.\\animal\\camel2.jpg\n",
      "3 .Image saved at: C:\\Users\\admin\\Desktop\\2021-K-Digital-Training-main2\\2021-K-Digital-Training-main\\Web_Crawling.\\animal\\camel3.jpg\n",
      "4 .Image saved at: C:\\Users\\admin\\Desktop\\2021-K-Digital-Training-main2\\2021-K-Digital-Training-main\\Web_Crawling.\\animal\\camel4.jpg\n",
      "5 .Image saved at: C:\\Users\\admin\\Desktop\\2021-K-Digital-Training-main2\\2021-K-Digital-Training-main\\Web_Crawling.\\animal\\camel5.jpg\n",
      "6 .Image saved at: C:\\Users\\admin\\Desktop\\2021-K-Digital-Training-main2\\2021-K-Digital-Training-main\\Web_Crawling.\\animal\\camel6.jpg\n",
      "7 .Image saved at: C:\\Users\\admin\\Desktop\\2021-K-Digital-Training-main2\\2021-K-Digital-Training-main\\Web_Crawling.\\animal\\camel7.jpg\n",
      "8 .Image saved at: C:\\Users\\admin\\Desktop\\2021-K-Digital-Training-main2\\2021-K-Digital-Training-main\\Web_Crawling.\\animal\\camel8.jpg\n",
      "GoogleImageScraper Notification: Download Completed.\n"
     ]
    }
   ],
   "source": [
    "#image_path = os.getcwd()+\"\\\\photos\"\n",
    "#add new search key into array [\"cat\",\"t-shirt\",\"apple\",\"orange\",\"pear\",\"fish\"]\n",
    "#search_keys= [\"woodpecker\",\"owl\"]\n",
    "# search_keys= [\"raccoon\"]\n",
    "search_keys= [\"camel\"]\n",
    "number_of_images = 10\n",
    "headless = False\n",
    "#min_resolution = (width,height)\n",
    "min_resolution=(0,0)\n",
    "#max_resolution = (width,height)\n",
    "max_resolution=(2000,2000)\n",
    "for search_key in search_keys:\n",
    "    image_scrapper = GoogleImageScraper(webdriver_path,image_path,search_key,number_of_images,headless,min_resolution,max_resolution)\n",
    "    image_urls = image_scrapper.find_image_urls()\n",
    "    image_scrapper.save_images(image_urls)\n",
    "    time.sleep(sleep_between_interactions)"
   ]
  },
  {
   "cell_type": "code",
   "execution_count": null,
   "metadata": {},
   "outputs": [],
   "source": []
  }
 ],
 "metadata": {
  "kernelspec": {
   "display_name": "Python 3",
   "language": "python",
   "name": "python3"
  },
  "language_info": {
   "codemirror_mode": {
    "name": "ipython",
    "version": 3
   },
   "file_extension": ".py",
   "mimetype": "text/x-python",
   "name": "python",
   "nbconvert_exporter": "python",
   "pygments_lexer": "ipython3",
   "version": "3.8.8"
  }
 },
 "nbformat": 4,
 "nbformat_minor": 4
}
