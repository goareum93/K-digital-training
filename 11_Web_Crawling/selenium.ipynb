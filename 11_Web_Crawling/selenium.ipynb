{
 "cells": [
  {
   "cell_type": "code",
   "execution_count": 1,
   "metadata": {},
   "outputs": [],
   "source": [
    "#!pip install selenium==4.0.0a6"
   ]
  },
  {
   "cell_type": "code",
   "execution_count": 5,
   "metadata": {},
   "outputs": [
    {
     "ename": "ModuleNotFoundError",
     "evalue": "No module named 'google_images_download'",
     "output_type": "error",
     "traceback": [
      "\u001b[1;31m---------------------------------------------------------------------------\u001b[0m",
      "\u001b[1;31mModuleNotFoundError\u001b[0m                       Traceback (most recent call last)",
      "\u001b[1;32m<ipython-input-5-46d2d5356dc2>\u001b[0m in \u001b[0;36m<module>\u001b[1;34m\u001b[0m\n\u001b[0;32m      1\u001b[0m \u001b[1;31m# 위에는 구 버전 / 아래에는 새롭게 개발한 버전\u001b[0m\u001b[1;33m\u001b[0m\u001b[1;33m\u001b[0m\u001b[1;33m\u001b[0m\u001b[0m\n\u001b[0;32m      2\u001b[0m \u001b[1;33m\u001b[0m\u001b[0m\n\u001b[1;32m----> 3\u001b[1;33m \u001b[1;32mfrom\u001b[0m \u001b[0mgoogle_images_download\u001b[0m \u001b[1;32mimport\u001b[0m \u001b[0mgoogle_images_download\u001b[0m \u001b[1;32mas\u001b[0m \u001b[0mgid\u001b[0m\u001b[1;33m\u001b[0m\u001b[1;33m\u001b[0m\u001b[0m\n\u001b[0m",
      "\u001b[1;31mModuleNotFoundError\u001b[0m: No module named 'google_images_download'"
     ]
    }
   ],
   "source": [
    "# 위에는 구 버전 / 아래에는 새롭게 개발한 버전\n",
    "\n",
    "from google_images_download import google_images_download as gid"
   ]
  },
  {
   "cell_type": "code",
   "execution_count": 6,
   "metadata": {},
   "outputs": [
    {
     "ename": "ModuleNotFoundError",
     "evalue": "No module named 'selenium'",
     "output_type": "error",
     "traceback": [
      "\u001b[1;31m---------------------------------------------------------------------------\u001b[0m",
      "\u001b[1;31mModuleNotFoundError\u001b[0m                       Traceback (most recent call last)",
      "\u001b[1;32m<ipython-input-6-f8ee1d2a7226>\u001b[0m in \u001b[0;36m<module>\u001b[1;34m\u001b[0m\n\u001b[0;32m      7\u001b[0m \u001b[1;33m\u001b[0m\u001b[0m\n\u001b[0;32m      8\u001b[0m \u001b[1;33m\u001b[0m\u001b[0m\n\u001b[1;32m----> 9\u001b[1;33m \u001b[1;32mfrom\u001b[0m \u001b[0mselenium\u001b[0m \u001b[1;32mimport\u001b[0m \u001b[0mwebdriver\u001b[0m\u001b[1;33m\u001b[0m\u001b[1;33m\u001b[0m\u001b[0m\n\u001b[0m\u001b[0;32m     10\u001b[0m \u001b[1;32mfrom\u001b[0m \u001b[0mbs4\u001b[0m \u001b[1;32mimport\u001b[0m \u001b[0mBeautifulSoup\u001b[0m \u001b[1;32mas\u001b[0m \u001b[0msoups\u001b[0m\u001b[1;33m\u001b[0m\u001b[1;33m\u001b[0m\u001b[0m\n",
      "\u001b[1;31mModuleNotFoundError\u001b[0m: No module named 'selenium'"
     ]
    }
   ],
   "source": [
    "# def search_maybe(search_name, search_limit, search_path) :\n",
    "#     res = gid.googleimagesdownload()\n",
    "#     keyword_map = { \"keywords\" : search_name, \"limit\" : 2, \"print_urls\" : True, \"output_directory\" : search_path }\n",
    "\n",
    "#     keyword_map_print = res.download( keyword_map )\n",
    "#     print( keyword_map_print )\n",
    "\n",
    "\n",
    "from selenium import webdriver\n",
    "from bs4 import BeautifulSoup as soups"
   ]
  },
  {
   "cell_type": "code",
   "execution_count": 4,
   "metadata": {},
   "outputs": [],
   "source": [
    "def search_selenium(search_name, search_path, search_limit) :\n",
    "    search_url = \"https://www.google.com/search?q=\" + str(search_name) + \"&hl=ko&tbm=isch\"\n",
    "    \n",
    "    browser = webdriver.Chrome(\".\\\\webdriver\\\\chromedriver.exe\")\n",
    "    browser.get(search_url)\n",
    "    \n",
    "    image_count = len(browser.find_elements_by_tag_name(\"img\"))\n",
    "    \n",
    "    print(\"로드된 이미지 개수 : \", image_count)\n",
    "\n",
    "    browser.implicitly_wait(2)\n",
    "\n",
    "    for i in range( search_limit ) :\n",
    "        image = browser.find_elements_by_tag_name(\"img\")[i]\n",
    "        image.screenshot(\".\\\\animal\\\\\" + str(i) + \".png\")\n",
    "\n",
    "    browser.close()"
   ]
  },
  {
   "cell_type": "code",
   "execution_count": null,
   "metadata": {},
   "outputs": [],
   "source": [
    "if __name__ == \"__main__\" :\n",
    "\n",
    "    search_name = input(\"검색하고 싶은 키워드 : \")\n",
    "    search_limit = int(input(\"원하는 이미지 수집 개수 : \"))\n",
    "    search_path = \"Your Path\"\n",
    "    # search_maybe(search_name, search_limit, search_path)\n",
    "    search_selenium(search_name, search_path, search_limit)"
   ]
  },
  {
   "cell_type": "code",
   "execution_count": null,
   "metadata": {},
   "outputs": [],
   "source": []
  }
 ],
 "metadata": {
  "kernelspec": {
   "display_name": "Python 3",
   "language": "python",
   "name": "python3"
  },
  "language_info": {
   "codemirror_mode": {
    "name": "ipython",
    "version": 3
   },
   "file_extension": ".py",
   "mimetype": "text/x-python",
   "name": "python",
   "nbconvert_exporter": "python",
   "pygments_lexer": "ipython3",
   "version": "3.8.8"
  }
 },
 "nbformat": 4,
 "nbformat_minor": 4
}
