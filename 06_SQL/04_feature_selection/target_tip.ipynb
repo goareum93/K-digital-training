{
 "cells": [
  {
   "cell_type": "markdown",
   "id": "da1c9ced-ab0b-4928-bc09-6d7f5e605754",
   "metadata": {},
   "source": [
    "## Target variable : tip"
   ]
  },
  {
   "cell_type": "code",
   "execution_count": 1,
   "id": "59644cd6-60b4-4e27-baa8-ba5185ec7abf",
   "metadata": {},
   "outputs": [
    {
     "name": "stdout",
     "output_type": "stream",
     "text": [
      "C:\\Users\\admin\\Desktop\\2021-K-Digital-Training-main\\SQL\n"
     ]
    }
   ],
   "source": [
    "!cd"
   ]
  },
  {
   "cell_type": "code",
   "execution_count": 2,
   "id": "rough-monte",
   "metadata": {},
   "outputs": [],
   "source": [
    "import pymysql.cursors\n",
    "import pandas as pd\n",
    "import numpy as np"
   ]
  },
  {
   "cell_type": "code",
   "execution_count": 3,
   "id": "polished-somerset",
   "metadata": {},
   "outputs": [
    {
     "data": {
      "text/html": [
       "<div>\n",
       "<style scoped>\n",
       "    .dataframe tbody tr th:only-of-type {\n",
       "        vertical-align: middle;\n",
       "    }\n",
       "\n",
       "    .dataframe tbody tr th {\n",
       "        vertical-align: top;\n",
       "    }\n",
       "\n",
       "    .dataframe thead th {\n",
       "        text-align: right;\n",
       "    }\n",
       "</style>\n",
       "<table border=\"1\" class=\"dataframe\">\n",
       "  <thead>\n",
       "    <tr style=\"text-align: right;\">\n",
       "      <th></th>\n",
       "      <th>total_bill</th>\n",
       "      <th>tip</th>\n",
       "      <th>sex</th>\n",
       "      <th>smoker</th>\n",
       "      <th>day</th>\n",
       "      <th>time</th>\n",
       "      <th>size</th>\n",
       "    </tr>\n",
       "  </thead>\n",
       "  <tbody>\n",
       "    <tr>\n",
       "      <th>274</th>\n",
       "      <td>20.65</td>\n",
       "      <td>3.35</td>\n",
       "      <td>Male</td>\n",
       "      <td>No</td>\n",
       "      <td></td>\n",
       "      <td>Dinner</td>\n",
       "      <td>4.0</td>\n",
       "    </tr>\n",
       "    <tr>\n",
       "      <th>275</th>\n",
       "      <td>20.65</td>\n",
       "      <td>3.35</td>\n",
       "      <td>None</td>\n",
       "      <td>No</td>\n",
       "      <td></td>\n",
       "      <td>Dinner</td>\n",
       "      <td>5.0</td>\n",
       "    </tr>\n",
       "    <tr>\n",
       "      <th>276</th>\n",
       "      <td>10.34</td>\n",
       "      <td>1.66</td>\n",
       "      <td>None</td>\n",
       "      <td>No</td>\n",
       "      <td>Sun</td>\n",
       "      <td>Dinner</td>\n",
       "      <td>NaN</td>\n",
       "    </tr>\n",
       "  </tbody>\n",
       "</table>\n",
       "</div>"
      ],
      "text/plain": [
       "     total_bill   tip   sex smoker  day    time  size\n",
       "274       20.65  3.35  Male     No       Dinner   4.0\n",
       "275       20.65  3.35  None     No       Dinner   5.0\n",
       "276       10.34  1.66  None     No  Sun  Dinner   NaN"
      ]
     },
     "execution_count": 3,
     "metadata": {},
     "output_type": "execute_result"
    }
   ],
   "source": [
    "# MySQL DB에서 데이터 받아와서 DataFrame에 저장\n",
    "\n",
    "conn = pymysql.connect(host='localhost', user='root', \n",
    "                       password='1281', db='tip', charset='utf8',\n",
    "                       autocommit=True, cursorclass=pymysql.cursors.DictCursor)\n",
    "try:\n",
    "\n",
    "    with conn.cursor() as curs:\n",
    "      sql = \"SELECT * FROM tips;\"\n",
    "      curs.execute(sql)\n",
    "      rs = curs.fetchall()\n",
    "\n",
    "      # DB에서 받아온 값을 DataFrame에 넣음\n",
    "\n",
    "      tips = pd.DataFrame(rs)\n",
    "\n",
    "finally:\n",
    "   conn.close()\n",
    "\n",
    "tips.tail(3)"
   ]
  },
  {
   "cell_type": "code",
   "execution_count": 4,
   "id": "abf60f6b-199f-4f33-889a-55e43f99fc66",
   "metadata": {},
   "outputs": [
    {
     "data": {
      "text/plain": [
       "total_bill    0\n",
       "tip           0\n",
       "sex           7\n",
       "smoker        0\n",
       "day           0\n",
       "time          0\n",
       "size          2\n",
       "dtype: int64"
      ]
     },
     "execution_count": 4,
     "metadata": {},
     "output_type": "execute_result"
    }
   ],
   "source": [
    "tips.isnull().sum() "
   ]
  },
  {
   "cell_type": "code",
   "execution_count": 5,
   "id": "5fa29a4d-7464-435f-96cb-d548bcde4c97",
   "metadata": {},
   "outputs": [],
   "source": [
    "tips.replace('',np.nan,inplace=True) # '' -> np.nan"
   ]
  },
  {
   "cell_type": "code",
   "execution_count": 6,
   "id": "b63ad8c5-59c7-4ddb-b444-55c71ce41110",
   "metadata": {},
   "outputs": [
    {
     "data": {
      "text/html": [
       "<div>\n",
       "<style scoped>\n",
       "    .dataframe tbody tr th:only-of-type {\n",
       "        vertical-align: middle;\n",
       "    }\n",
       "\n",
       "    .dataframe tbody tr th {\n",
       "        vertical-align: top;\n",
       "    }\n",
       "\n",
       "    .dataframe thead th {\n",
       "        text-align: right;\n",
       "    }\n",
       "</style>\n",
       "<table border=\"1\" class=\"dataframe\">\n",
       "  <thead>\n",
       "    <tr style=\"text-align: right;\">\n",
       "      <th></th>\n",
       "      <th>total_bill</th>\n",
       "      <th>tip</th>\n",
       "      <th>sex</th>\n",
       "      <th>smoker</th>\n",
       "      <th>day</th>\n",
       "      <th>time</th>\n",
       "      <th>size</th>\n",
       "    </tr>\n",
       "  </thead>\n",
       "  <tbody>\n",
       "    <tr>\n",
       "      <th>274</th>\n",
       "      <td>20.65</td>\n",
       "      <td>3.35</td>\n",
       "      <td>Male</td>\n",
       "      <td>No</td>\n",
       "      <td>NaN</td>\n",
       "      <td>Dinner</td>\n",
       "      <td>4.0</td>\n",
       "    </tr>\n",
       "    <tr>\n",
       "      <th>275</th>\n",
       "      <td>20.65</td>\n",
       "      <td>3.35</td>\n",
       "      <td>None</td>\n",
       "      <td>No</td>\n",
       "      <td>NaN</td>\n",
       "      <td>Dinner</td>\n",
       "      <td>5.0</td>\n",
       "    </tr>\n",
       "    <tr>\n",
       "      <th>276</th>\n",
       "      <td>10.34</td>\n",
       "      <td>1.66</td>\n",
       "      <td>None</td>\n",
       "      <td>No</td>\n",
       "      <td>Sun</td>\n",
       "      <td>Dinner</td>\n",
       "      <td>NaN</td>\n",
       "    </tr>\n",
       "  </tbody>\n",
       "</table>\n",
       "</div>"
      ],
      "text/plain": [
       "     total_bill   tip   sex smoker  day    time  size\n",
       "274       20.65  3.35  Male     No  NaN  Dinner   4.0\n",
       "275       20.65  3.35  None     No  NaN  Dinner   5.0\n",
       "276       10.34  1.66  None     No  Sun  Dinner   NaN"
      ]
     },
     "execution_count": 6,
     "metadata": {},
     "output_type": "execute_result"
    }
   ],
   "source": [
    "tips.tail(3)"
   ]
  },
  {
   "cell_type": "code",
   "execution_count": 7,
   "id": "c4bad115-8c7f-48e5-bbae-983e8e3f6b30",
   "metadata": {},
   "outputs": [
    {
     "data": {
      "text/plain": [
       "total_bill     0\n",
       "tip            0\n",
       "sex            7\n",
       "smoker         0\n",
       "day           17\n",
       "time           0\n",
       "size           2\n",
       "dtype: int64"
      ]
     },
     "execution_count": 7,
     "metadata": {},
     "output_type": "execute_result"
    }
   ],
   "source": [
    "tips.isnull().sum() "
   ]
  },
  {
   "cell_type": "markdown",
   "id": "27699188-2ab1-411d-83ec-271b3d306c4a",
   "metadata": {},
   "source": [
    "## Encoding"
   ]
  },
  {
   "cell_type": "code",
   "execution_count": 8,
   "id": "725b4043-5099-4647-b874-2c26faf92db0",
   "metadata": {},
   "outputs": [],
   "source": [
    "tips['sex'].replace({'Female':0, 'Male':1}, inplace=True) # 바이너리인코딩 -> 원핫인코딩\n",
    "tips[\"smoker\"].replace({\"No\" : 0, \"Yes\" : 1}, inplace=True)  # 바이너리인코딩\n",
    "tips[\"day\"].replace({\"Thur\" : 0, \"Fri\" : 1, \"Sat\" : 2, \"Sun\" : 3}, inplace=True) #라벨인코딩\n",
    "tips[\"time\"].replace({\"Lunch\" : 0, \"Dinner\" : 1}, inplace=True) # 바이너리인코딩"
   ]
  },
  {
   "cell_type": "code",
   "execution_count": 9,
   "id": "1d4d8784-f5b7-4709-8a67-9a3c0020daab",
   "metadata": {},
   "outputs": [
    {
     "name": "stdout",
     "output_type": "stream",
     "text": [
      "<class 'pandas.core.frame.DataFrame'>\n",
      "RangeIndex: 277 entries, 0 to 276\n",
      "Data columns (total 7 columns):\n",
      " #   Column      Non-Null Count  Dtype  \n",
      "---  ------      --------------  -----  \n",
      " 0   total_bill  277 non-null    float64\n",
      " 1   tip         277 non-null    float64\n",
      " 2   sex         270 non-null    float64\n",
      " 3   smoker      277 non-null    int64  \n",
      " 4   day         260 non-null    float64\n",
      " 5   time        277 non-null    int64  \n",
      " 6   size        275 non-null    float64\n",
      "dtypes: float64(5), int64(2)\n",
      "memory usage: 15.3 KB\n"
     ]
    }
   ],
   "source": [
    "tips.info() #모든 타입이 object가 아니어야함"
   ]
  },
  {
   "cell_type": "markdown",
   "id": "ec640f0a-9428-4527-bb8f-16a119678813",
   "metadata": {},
   "source": [
    "## SimpleImputer\n",
    "NaN <- median"
   ]
  },
  {
   "cell_type": "code",
   "execution_count": 10,
   "id": "c8a09b18-05c4-4571-a135-3dc9691072b5",
   "metadata": {},
   "outputs": [],
   "source": [
    "from sklearn.impute import SimpleImputer"
   ]
  },
  {
   "cell_type": "code",
   "execution_count": 11,
   "id": "71cda625-90a7-490d-9aa6-1eafd2989be7",
   "metadata": {},
   "outputs": [
    {
     "data": {
      "text/plain": [
       "array([[20.65,  3.35,  1.  ,  0.  ,   nan,  1.  ,  4.  ],\n",
       "       [20.65,  3.35,   nan,  0.  ,   nan,  1.  ,  5.  ],\n",
       "       [10.34,  1.66,   nan,  0.  ,  3.  ,  1.  ,   nan]])"
      ]
     },
     "execution_count": 11,
     "metadata": {},
     "output_type": "execute_result"
    }
   ],
   "source": [
    "data = tips.values\n",
    "data[-3:, :]"
   ]
  },
  {
   "cell_type": "code",
   "execution_count": 12,
   "id": "3fd0f8a4-2ee9-4875-9f48-f012fad7ef4d",
   "metadata": {},
   "outputs": [],
   "source": [
    "# 카테고리형 변수이므로 중앙값 또는 최빈값 주기\n",
    "imputer = SimpleImputer(strategy='median') # 최빈값은 strategy='most_frequent\n",
    "imputer.fit(data)\n",
    "data_trans = imputer.transform(data) # Imputed data set (nan값 없는 data set)"
   ]
  },
  {
   "cell_type": "code",
   "execution_count": 13,
   "id": "d909b848-63e3-42c0-84a2-3dc7eadb79e2",
   "metadata": {},
   "outputs": [],
   "source": [
    "tips = pd.DataFrame(data_trans, columns=tips.columns)"
   ]
  },
  {
   "cell_type": "code",
   "execution_count": 14,
   "id": "c9c1027f-34ca-418c-9ff9-e99ad47a0049",
   "metadata": {},
   "outputs": [
    {
     "data": {
      "text/html": [
       "<div>\n",
       "<style scoped>\n",
       "    .dataframe tbody tr th:only-of-type {\n",
       "        vertical-align: middle;\n",
       "    }\n",
       "\n",
       "    .dataframe tbody tr th {\n",
       "        vertical-align: top;\n",
       "    }\n",
       "\n",
       "    .dataframe thead th {\n",
       "        text-align: right;\n",
       "    }\n",
       "</style>\n",
       "<table border=\"1\" class=\"dataframe\">\n",
       "  <thead>\n",
       "    <tr style=\"text-align: right;\">\n",
       "      <th></th>\n",
       "      <th>total_bill</th>\n",
       "      <th>tip</th>\n",
       "      <th>sex</th>\n",
       "      <th>smoker</th>\n",
       "      <th>day</th>\n",
       "      <th>time</th>\n",
       "      <th>size</th>\n",
       "    </tr>\n",
       "  </thead>\n",
       "  <tbody>\n",
       "    <tr>\n",
       "      <th>274</th>\n",
       "      <td>20.65</td>\n",
       "      <td>3.35</td>\n",
       "      <td>1.0</td>\n",
       "      <td>0.0</td>\n",
       "      <td>2.0</td>\n",
       "      <td>1.0</td>\n",
       "      <td>4.0</td>\n",
       "    </tr>\n",
       "    <tr>\n",
       "      <th>275</th>\n",
       "      <td>20.65</td>\n",
       "      <td>3.35</td>\n",
       "      <td>1.0</td>\n",
       "      <td>0.0</td>\n",
       "      <td>2.0</td>\n",
       "      <td>1.0</td>\n",
       "      <td>5.0</td>\n",
       "    </tr>\n",
       "    <tr>\n",
       "      <th>276</th>\n",
       "      <td>10.34</td>\n",
       "      <td>1.66</td>\n",
       "      <td>1.0</td>\n",
       "      <td>0.0</td>\n",
       "      <td>3.0</td>\n",
       "      <td>1.0</td>\n",
       "      <td>2.0</td>\n",
       "    </tr>\n",
       "  </tbody>\n",
       "</table>\n",
       "</div>"
      ],
      "text/plain": [
       "     total_bill   tip  sex  smoker  day  time  size\n",
       "274       20.65  3.35  1.0     0.0  2.0   1.0   4.0\n",
       "275       20.65  3.35  1.0     0.0  2.0   1.0   5.0\n",
       "276       10.34  1.66  1.0     0.0  3.0   1.0   2.0"
      ]
     },
     "execution_count": 14,
     "metadata": {},
     "output_type": "execute_result"
    }
   ],
   "source": [
    "tips.tail(3)"
   ]
  },
  {
   "cell_type": "markdown",
   "id": "2cb64527-17c9-4de6-a488-45fc96e253a4",
   "metadata": {},
   "source": [
    "### tip_rate라는 파생변수 생성"
   ]
  },
  {
   "cell_type": "code",
   "execution_count": 15,
   "id": "ad03a6b9-83fa-4475-b6e1-e9ee414a9181",
   "metadata": {},
   "outputs": [
    {
     "data": {
      "text/html": [
       "<div>\n",
       "<style scoped>\n",
       "    .dataframe tbody tr th:only-of-type {\n",
       "        vertical-align: middle;\n",
       "    }\n",
       "\n",
       "    .dataframe tbody tr th {\n",
       "        vertical-align: top;\n",
       "    }\n",
       "\n",
       "    .dataframe thead th {\n",
       "        text-align: right;\n",
       "    }\n",
       "</style>\n",
       "<table border=\"1\" class=\"dataframe\">\n",
       "  <thead>\n",
       "    <tr style=\"text-align: right;\">\n",
       "      <th></th>\n",
       "      <th>total_bill</th>\n",
       "      <th>tip</th>\n",
       "      <th>sex</th>\n",
       "      <th>smoker</th>\n",
       "      <th>day</th>\n",
       "      <th>time</th>\n",
       "      <th>size</th>\n",
       "      <th>tip_rate</th>\n",
       "    </tr>\n",
       "  </thead>\n",
       "  <tbody>\n",
       "    <tr>\n",
       "      <th>274</th>\n",
       "      <td>20.65</td>\n",
       "      <td>3.35</td>\n",
       "      <td>1.0</td>\n",
       "      <td>0.0</td>\n",
       "      <td>2.0</td>\n",
       "      <td>1.0</td>\n",
       "      <td>4.0</td>\n",
       "      <td>0.162228</td>\n",
       "    </tr>\n",
       "    <tr>\n",
       "      <th>275</th>\n",
       "      <td>20.65</td>\n",
       "      <td>3.35</td>\n",
       "      <td>1.0</td>\n",
       "      <td>0.0</td>\n",
       "      <td>2.0</td>\n",
       "      <td>1.0</td>\n",
       "      <td>5.0</td>\n",
       "      <td>0.162228</td>\n",
       "    </tr>\n",
       "    <tr>\n",
       "      <th>276</th>\n",
       "      <td>10.34</td>\n",
       "      <td>1.66</td>\n",
       "      <td>1.0</td>\n",
       "      <td>0.0</td>\n",
       "      <td>3.0</td>\n",
       "      <td>1.0</td>\n",
       "      <td>2.0</td>\n",
       "      <td>0.160542</td>\n",
       "    </tr>\n",
       "  </tbody>\n",
       "</table>\n",
       "</div>"
      ],
      "text/plain": [
       "     total_bill   tip  sex  smoker  day  time  size  tip_rate\n",
       "274       20.65  3.35  1.0     0.0  2.0   1.0   4.0  0.162228\n",
       "275       20.65  3.35  1.0     0.0  2.0   1.0   5.0  0.162228\n",
       "276       10.34  1.66  1.0     0.0  3.0   1.0   2.0  0.160542"
      ]
     },
     "execution_count": 15,
     "metadata": {},
     "output_type": "execute_result"
    }
   ],
   "source": [
    "tips['tip_rate'] = tips['tip'] / tips['total_bill'] #파생변수\n",
    "tips.tail(3)"
   ]
  },
  {
   "cell_type": "markdown",
   "id": "d08ef2f1-487d-4bac-8aa7-7d20da81bdf1",
   "metadata": {},
   "source": [
    "### 목표변수(y)를 tip으로 설정"
   ]
  },
  {
   "cell_type": "code",
   "execution_count": 16,
   "id": "02668bc9-5119-4001-8b12-5dc35e700c25",
   "metadata": {},
   "outputs": [],
   "source": [
    "y=tips['tip'] # Target variable -> Tip"
   ]
  },
  {
   "cell_type": "code",
   "execution_count": 17,
   "id": "aa82c231-ec3b-4b8c-a634-41fd01f89058",
   "metadata": {},
   "outputs": [],
   "source": [
    "X=tips.drop('tip',axis=1)"
   ]
  },
  {
   "cell_type": "code",
   "execution_count": 18,
   "id": "296d7a0c-010c-4b4f-a7fd-c5eb1b2b6278",
   "metadata": {},
   "outputs": [
    {
     "data": {
      "text/plain": [
       "Index(['total_bill', 'sex', 'smoker', 'day', 'time', 'size', 'tip_rate'], dtype='object')"
      ]
     },
     "execution_count": 18,
     "metadata": {},
     "output_type": "execute_result"
    }
   ],
   "source": [
    "X.columns"
   ]
  },
  {
   "cell_type": "code",
   "execution_count": 19,
   "id": "c189eda2-6454-40c0-adaf-b46172298bc4",
   "metadata": {},
   "outputs": [],
   "source": [
    "data = X.values # Train data"
   ]
  },
  {
   "cell_type": "code",
   "execution_count": 20,
   "id": "fb9e2b09-e45a-428b-a5f7-973d6bac97b1",
   "metadata": {},
   "outputs": [],
   "source": [
    "y = y.values"
   ]
  },
  {
   "cell_type": "markdown",
   "id": "f277e09f-f7ff-42ea-8de5-3c999927fed8",
   "metadata": {},
   "source": [
    "## 1. RFE (Report which features were selected)"
   ]
  },
  {
   "cell_type": "code",
   "execution_count": 21,
   "id": "735e923e-0844-4196-8d6a-303a56fd1f42",
   "metadata": {},
   "outputs": [],
   "source": [
    "from sklearn.feature_selection import RFE\n",
    "# from sklearn.tree import DecisionTreeClassifier  # 변수가 0, 1일 때 사용\n",
    "from sklearn.svm import SVR # regression은 SVR 사용"
   ]
  },
  {
   "cell_type": "code",
   "execution_count": 22,
   "id": "f0822913-3fc3-40b7-a2fa-4537602580b6",
   "metadata": {},
   "outputs": [],
   "source": [
    "estimator = SVR(kernel=\"linear\") # 목표변수(tip)가 regression이라서 SVR 사용"
   ]
  },
  {
   "cell_type": "code",
   "execution_count": 23,
   "id": "d8c51dfd-808e-4cf5-ab1a-9bc5c5ab8e54",
   "metadata": {},
   "outputs": [],
   "source": [
    "# define RFE\n",
    "rfe = RFE(estimator, n_features_to_select=4)"
   ]
  },
  {
   "cell_type": "code",
   "execution_count": 24,
   "id": "a7bcda0b-a283-4e57-87b8-29f330d436a9",
   "metadata": {},
   "outputs": [],
   "source": [
    "# fit RFE\n",
    "selector=rfe.fit(data, y)"
   ]
  },
  {
   "cell_type": "code",
   "execution_count": 25,
   "id": "07064601-fb0f-461f-9677-be3c00a94922",
   "metadata": {},
   "outputs": [
    {
     "data": {
      "text/plain": [
       "array([ True, False,  True, False, False,  True,  True])"
      ]
     },
     "execution_count": 25,
     "metadata": {},
     "output_type": "execute_result"
    }
   ],
   "source": [
    "selector.support_ "
   ]
  },
  {
   "cell_type": "code",
   "execution_count": 26,
   "id": "31e8e7fe-87bc-4ae4-9746-b4203e56584f",
   "metadata": {},
   "outputs": [
    {
     "name": "stdout",
     "output_type": "stream",
     "text": [
      "total_bill     \tRank: 1\n",
      "sex     \tRank: 2\n",
      "smoker     \tRank: 1\n",
      "day     \tRank: 4\n",
      "time     \tRank: 3\n",
      "size     \tRank: 1\n",
      "tip_rate     \tRank: 1\n"
     ]
    }
   ],
   "source": [
    "# summarize all features\n",
    "x = [name for name in tips.columns if name not in ['tip']]\n",
    "for i in range(data.shape[1]):\n",
    "  print(f'{x[i]}     \\tRank: {rfe.ranking_[i]}')"
   ]
  },
  {
   "cell_type": "markdown",
   "id": "6e580512-af11-4c58-b558-36d2f9fe9a00",
   "metadata": {},
   "source": [
    "## MinMaxScaler"
   ]
  },
  {
   "cell_type": "code",
   "execution_count": 27,
   "id": "fd10ebe7-1511-4967-87e8-4bb2cd3ac68d",
   "metadata": {},
   "outputs": [],
   "source": [
    "from sklearn.preprocessing import MinMaxScaler  #Nomalization 호출"
   ]
  },
  {
   "cell_type": "code",
   "execution_count": 28,
   "id": "af4035f6-7579-4646-a2ea-67c858114661",
   "metadata": {},
   "outputs": [],
   "source": [
    "trans=MinMaxScaler()"
   ]
  },
  {
   "cell_type": "code",
   "execution_count": 29,
   "id": "dffebd83-837c-4fcd-855d-2f65ec044384",
   "metadata": {},
   "outputs": [],
   "source": [
    "X_norm=trans.fit_transform(data)"
   ]
  },
  {
   "cell_type": "code",
   "execution_count": 30,
   "id": "0961fea6-2eae-4cef-a7c3-935d49bca1ea",
   "metadata": {},
   "outputs": [],
   "source": [
    "df_norm=pd.DataFrame(X_norm)"
   ]
  },
  {
   "cell_type": "code",
   "execution_count": 31,
   "id": "31d37887-45e8-403a-b761-7b1e75ceda57",
   "metadata": {},
   "outputs": [
    {
     "data": {
      "text/html": [
       "<div>\n",
       "<style scoped>\n",
       "    .dataframe tbody tr th:only-of-type {\n",
       "        vertical-align: middle;\n",
       "    }\n",
       "\n",
       "    .dataframe tbody tr th {\n",
       "        vertical-align: top;\n",
       "    }\n",
       "\n",
       "    .dataframe thead th {\n",
       "        text-align: right;\n",
       "    }\n",
       "</style>\n",
       "<table border=\"1\" class=\"dataframe\">\n",
       "  <thead>\n",
       "    <tr style=\"text-align: right;\">\n",
       "      <th></th>\n",
       "      <th>0</th>\n",
       "      <th>1</th>\n",
       "      <th>2</th>\n",
       "      <th>3</th>\n",
       "      <th>4</th>\n",
       "      <th>5</th>\n",
       "      <th>6</th>\n",
       "    </tr>\n",
       "  </thead>\n",
       "  <tbody>\n",
       "    <tr>\n",
       "      <th>count</th>\n",
       "      <td>277.000000</td>\n",
       "      <td>277.000000</td>\n",
       "      <td>277.000000</td>\n",
       "      <td>277.000000</td>\n",
       "      <td>277.000000</td>\n",
       "      <td>277.000000</td>\n",
       "      <td>277.000000</td>\n",
       "    </tr>\n",
       "    <tr>\n",
       "      <th>mean</th>\n",
       "      <td>0.343624</td>\n",
       "      <td>0.664260</td>\n",
       "      <td>0.335740</td>\n",
       "      <td>0.604091</td>\n",
       "      <td>0.754513</td>\n",
       "      <td>0.335740</td>\n",
       "      <td>0.182380</td>\n",
       "    </tr>\n",
       "    <tr>\n",
       "      <th>std</th>\n",
       "      <td>0.178734</td>\n",
       "      <td>0.473103</td>\n",
       "      <td>0.473103</td>\n",
       "      <td>0.374423</td>\n",
       "      <td>0.431155</td>\n",
       "      <td>0.203022</td>\n",
       "      <td>0.087719</td>\n",
       "    </tr>\n",
       "    <tr>\n",
       "      <th>min</th>\n",
       "      <td>0.000000</td>\n",
       "      <td>0.000000</td>\n",
       "      <td>0.000000</td>\n",
       "      <td>0.000000</td>\n",
       "      <td>0.000000</td>\n",
       "      <td>0.000000</td>\n",
       "      <td>0.000000</td>\n",
       "    </tr>\n",
       "    <tr>\n",
       "      <th>25%</th>\n",
       "      <td>0.213867</td>\n",
       "      <td>0.000000</td>\n",
       "      <td>0.000000</td>\n",
       "      <td>0.333333</td>\n",
       "      <td>1.000000</td>\n",
       "      <td>0.200000</td>\n",
       "      <td>0.140329</td>\n",
       "    </tr>\n",
       "    <tr>\n",
       "      <th>50%</th>\n",
       "      <td>0.308965</td>\n",
       "      <td>1.000000</td>\n",
       "      <td>0.000000</td>\n",
       "      <td>0.666667</td>\n",
       "      <td>1.000000</td>\n",
       "      <td>0.200000</td>\n",
       "      <td>0.182465</td>\n",
       "    </tr>\n",
       "    <tr>\n",
       "      <th>75%</th>\n",
       "      <td>0.413699</td>\n",
       "      <td>1.000000</td>\n",
       "      <td>1.000000</td>\n",
       "      <td>1.000000</td>\n",
       "      <td>1.000000</td>\n",
       "      <td>0.400000</td>\n",
       "      <td>0.221647</td>\n",
       "    </tr>\n",
       "    <tr>\n",
       "      <th>max</th>\n",
       "      <td>1.000000</td>\n",
       "      <td>1.000000</td>\n",
       "      <td>1.000000</td>\n",
       "      <td>1.000000</td>\n",
       "      <td>1.000000</td>\n",
       "      <td>1.000000</td>\n",
       "      <td>1.000000</td>\n",
       "    </tr>\n",
       "  </tbody>\n",
       "</table>\n",
       "</div>"
      ],
      "text/plain": [
       "                0           1           2           3           4           5  \\\n",
       "count  277.000000  277.000000  277.000000  277.000000  277.000000  277.000000   \n",
       "mean     0.343624    0.664260    0.335740    0.604091    0.754513    0.335740   \n",
       "std      0.178734    0.473103    0.473103    0.374423    0.431155    0.203022   \n",
       "min      0.000000    0.000000    0.000000    0.000000    0.000000    0.000000   \n",
       "25%      0.213867    0.000000    0.000000    0.333333    1.000000    0.200000   \n",
       "50%      0.308965    1.000000    0.000000    0.666667    1.000000    0.200000   \n",
       "75%      0.413699    1.000000    1.000000    1.000000    1.000000    0.400000   \n",
       "max      1.000000    1.000000    1.000000    1.000000    1.000000    1.000000   \n",
       "\n",
       "                6  \n",
       "count  277.000000  \n",
       "mean     0.182380  \n",
       "std      0.087719  \n",
       "min      0.000000  \n",
       "25%      0.140329  \n",
       "50%      0.182465  \n",
       "75%      0.221647  \n",
       "max      1.000000  "
      ]
     },
     "execution_count": 31,
     "metadata": {},
     "output_type": "execute_result"
    }
   ],
   "source": [
    "#Nomalization 확인\n",
    "df_norm.describe() #값이 min 0과 max 1"
   ]
  },
  {
   "cell_type": "markdown",
   "id": "95a69e4d-174a-4a6d-b577-a0a7014977c8",
   "metadata": {},
   "source": [
    "### StandardScaler"
   ]
  },
  {
   "cell_type": "code",
   "execution_count": 32,
   "id": "47fe7095-45b0-44f1-a8fe-1c8a2d0f0d3d",
   "metadata": {},
   "outputs": [],
   "source": [
    "from sklearn.preprocessing import StandardScaler #Standardization 호출"
   ]
  },
  {
   "cell_type": "code",
   "execution_count": 33,
   "id": "b04a2429-d037-4b6f-80f6-f936b99169bb",
   "metadata": {},
   "outputs": [],
   "source": [
    "sc = StandardScaler()"
   ]
  },
  {
   "cell_type": "code",
   "execution_count": 34,
   "id": "8f78b21d-85d1-4b20-b6d4-faeaec2f5576",
   "metadata": {},
   "outputs": [],
   "source": [
    "df_sc = sc.fit_transform(data)"
   ]
  },
  {
   "cell_type": "code",
   "execution_count": 35,
   "id": "cee4794a-8f72-499e-8346-db33d0457383",
   "metadata": {},
   "outputs": [],
   "source": [
    "df_transform_sc=pd.DataFrame(df_sc)"
   ]
  },
  {
   "cell_type": "code",
   "execution_count": 36,
   "id": "0230a12d-0ea3-4abf-9ee0-030cae75a2f2",
   "metadata": {},
   "outputs": [
    {
     "data": {
      "text/html": [
       "<div>\n",
       "<style scoped>\n",
       "    .dataframe tbody tr th:only-of-type {\n",
       "        vertical-align: middle;\n",
       "    }\n",
       "\n",
       "    .dataframe tbody tr th {\n",
       "        vertical-align: top;\n",
       "    }\n",
       "\n",
       "    .dataframe thead th {\n",
       "        text-align: right;\n",
       "    }\n",
       "</style>\n",
       "<table border=\"1\" class=\"dataframe\">\n",
       "  <thead>\n",
       "    <tr style=\"text-align: right;\">\n",
       "      <th></th>\n",
       "      <th>0</th>\n",
       "      <th>1</th>\n",
       "      <th>2</th>\n",
       "      <th>3</th>\n",
       "      <th>4</th>\n",
       "      <th>5</th>\n",
       "      <th>6</th>\n",
       "    </tr>\n",
       "  </thead>\n",
       "  <tbody>\n",
       "    <tr>\n",
       "      <th>count</th>\n",
       "      <td>277.0</td>\n",
       "      <td>277.0</td>\n",
       "      <td>277.0</td>\n",
       "      <td>277.0</td>\n",
       "      <td>277.0</td>\n",
       "      <td>277.0</td>\n",
       "      <td>277.0</td>\n",
       "    </tr>\n",
       "    <tr>\n",
       "      <th>mean</th>\n",
       "      <td>-0.0</td>\n",
       "      <td>0.0</td>\n",
       "      <td>-0.0</td>\n",
       "      <td>-0.0</td>\n",
       "      <td>0.0</td>\n",
       "      <td>0.0</td>\n",
       "      <td>0.0</td>\n",
       "    </tr>\n",
       "    <tr>\n",
       "      <th>std</th>\n",
       "      <td>1.0</td>\n",
       "      <td>1.0</td>\n",
       "      <td>1.0</td>\n",
       "      <td>1.0</td>\n",
       "      <td>1.0</td>\n",
       "      <td>1.0</td>\n",
       "      <td>1.0</td>\n",
       "    </tr>\n",
       "    <tr>\n",
       "      <th>min</th>\n",
       "      <td>-2.0</td>\n",
       "      <td>-1.0</td>\n",
       "      <td>-1.0</td>\n",
       "      <td>-2.0</td>\n",
       "      <td>-2.0</td>\n",
       "      <td>-2.0</td>\n",
       "      <td>-2.0</td>\n",
       "    </tr>\n",
       "    <tr>\n",
       "      <th>25%</th>\n",
       "      <td>-1.0</td>\n",
       "      <td>-1.0</td>\n",
       "      <td>-1.0</td>\n",
       "      <td>-1.0</td>\n",
       "      <td>1.0</td>\n",
       "      <td>-1.0</td>\n",
       "      <td>-0.0</td>\n",
       "    </tr>\n",
       "    <tr>\n",
       "      <th>50%</th>\n",
       "      <td>-0.0</td>\n",
       "      <td>1.0</td>\n",
       "      <td>-1.0</td>\n",
       "      <td>0.0</td>\n",
       "      <td>1.0</td>\n",
       "      <td>-1.0</td>\n",
       "      <td>0.0</td>\n",
       "    </tr>\n",
       "    <tr>\n",
       "      <th>75%</th>\n",
       "      <td>0.0</td>\n",
       "      <td>1.0</td>\n",
       "      <td>1.0</td>\n",
       "      <td>1.0</td>\n",
       "      <td>1.0</td>\n",
       "      <td>0.0</td>\n",
       "      <td>0.0</td>\n",
       "    </tr>\n",
       "    <tr>\n",
       "      <th>max</th>\n",
       "      <td>4.0</td>\n",
       "      <td>1.0</td>\n",
       "      <td>1.0</td>\n",
       "      <td>1.0</td>\n",
       "      <td>1.0</td>\n",
       "      <td>3.0</td>\n",
       "      <td>9.0</td>\n",
       "    </tr>\n",
       "  </tbody>\n",
       "</table>\n",
       "</div>"
      ],
      "text/plain": [
       "           0      1      2      3      4      5      6\n",
       "count  277.0  277.0  277.0  277.0  277.0  277.0  277.0\n",
       "mean    -0.0    0.0   -0.0   -0.0    0.0    0.0    0.0\n",
       "std      1.0    1.0    1.0    1.0    1.0    1.0    1.0\n",
       "min     -2.0   -1.0   -1.0   -2.0   -2.0   -2.0   -2.0\n",
       "25%     -1.0   -1.0   -1.0   -1.0    1.0   -1.0   -0.0\n",
       "50%     -0.0    1.0   -1.0    0.0    1.0   -1.0    0.0\n",
       "75%      0.0    1.0    1.0    1.0    1.0    0.0    0.0\n",
       "max      4.0    1.0    1.0    1.0    1.0    3.0    9.0"
      ]
     },
     "execution_count": 36,
     "metadata": {},
     "output_type": "execute_result"
    }
   ],
   "source": [
    "df_transform_sc.describe().round() #평균이 0, 분산이 1로 바뀜"
   ]
  },
  {
   "cell_type": "markdown",
   "id": "82710fe5-c8fb-4d08-b8d3-31290b709372",
   "metadata": {},
   "source": [
    "참고로 정규화하고 표준화 값은 아래 모델에 사용되지 않음"
   ]
  },
  {
   "cell_type": "markdown",
   "id": "e9af5808-1f32-4974-99fe-07cdefb6574a",
   "metadata": {},
   "source": [
    "## PCA (Principal Component Analysis)"
   ]
  },
  {
   "cell_type": "code",
   "execution_count": 37,
   "id": "62257d6e-c562-45ee-808b-3fc91f8a8469",
   "metadata": {},
   "outputs": [],
   "source": [
    "# PCA는 목표변수 설정이 필요하지 않음\n",
    "from sklearn.decomposition import PCA"
   ]
  },
  {
   "cell_type": "code",
   "execution_count": 38,
   "id": "facce3c6-e1f8-47aa-a055-65d3ac0d6f26",
   "metadata": {},
   "outputs": [
    {
     "data": {
      "text/plain": [
       "(277, 7)"
      ]
     },
     "execution_count": 38,
     "metadata": {},
     "output_type": "execute_result"
    }
   ],
   "source": [
    "data.shape"
   ]
  },
  {
   "cell_type": "code",
   "execution_count": 39,
   "id": "51c1d62a-7e45-431d-83b9-176f58cdad58",
   "metadata": {},
   "outputs": [],
   "source": [
    "# define the transform\n",
    "trans = PCA(n_components=4)"
   ]
  },
  {
   "cell_type": "code",
   "execution_count": 40,
   "id": "fe3b896a-1230-4db9-a585-4ba24cc7c884",
   "metadata": {},
   "outputs": [],
   "source": [
    "# transform the data\n",
    "X_dim = trans.fit_transform(data_trans)"
   ]
  },
  {
   "cell_type": "code",
   "execution_count": 41,
   "id": "6cb2be5f-6790-4861-bcfb-6d0125e77402",
   "metadata": {},
   "outputs": [
    {
     "data": {
      "text/plain": [
       "array([[-2.70197953, -1.13007487,  1.76847415, -0.07258704],\n",
       "       [-9.15736726, -1.5494515 , -0.08333977, -0.73286243],\n",
       "       [ 1.62589542, -1.23073393, -0.42041362,  0.10046241]])"
      ]
     },
     "execution_count": 41,
     "metadata": {},
     "output_type": "execute_result"
    }
   ],
   "source": [
    "# summarize data after the transform\n",
    "X_dim[:3, :]"
   ]
  },
  {
   "cell_type": "markdown",
   "id": "fcb421f0-3ca6-41f6-ae6a-75cf8b81dafd",
   "metadata": {},
   "source": [
    "## 2. Regression Feature Selection(Select-KBest)"
   ]
  },
  {
   "cell_type": "code",
   "execution_count": 42,
   "id": "3ab39e75-001d-43aa-9bc6-a71c081a1dab",
   "metadata": {},
   "outputs": [],
   "source": [
    "from sklearn.feature_selection import SelectKBest\n",
    "from sklearn.feature_selection import f_regression"
   ]
  },
  {
   "cell_type": "code",
   "execution_count": 43,
   "id": "a8be78d8-f32b-4300-80c9-b26f511b8e2a",
   "metadata": {},
   "outputs": [],
   "source": [
    "fs = SelectKBest(score_func=f_regression, k=4)"
   ]
  },
  {
   "cell_type": "code",
   "execution_count": 44,
   "id": "656e0374-72c6-4ba7-9d54-edfde89dc3f6",
   "metadata": {},
   "outputs": [
    {
     "data": {
      "text/plain": [
       "(277, 7)"
      ]
     },
     "execution_count": 44,
     "metadata": {},
     "output_type": "execute_result"
    }
   ],
   "source": [
    "data.shape"
   ]
  },
  {
   "cell_type": "code",
   "execution_count": 45,
   "id": "3419f561-d1ec-4e43-a1c3-af22adb7a97b",
   "metadata": {},
   "outputs": [
    {
     "data": {
      "text/plain": [
       "(277,)"
      ]
     },
     "execution_count": 45,
     "metadata": {},
     "output_type": "execute_result"
    }
   ],
   "source": [
    "y.shape"
   ]
  },
  {
   "cell_type": "code",
   "execution_count": 46,
   "id": "a1732033-8ca9-44e1-84c2-418381125a1f",
   "metadata": {},
   "outputs": [],
   "source": [
    "# apply feature selection\n",
    "X_selected = fs.fit_transform(data, y)"
   ]
  },
  {
   "cell_type": "code",
   "execution_count": 47,
   "id": "faef39db-3efc-4637-9657-4922219d31d9",
   "metadata": {},
   "outputs": [
    {
     "data": {
      "text/plain": [
       "(277, 4)"
      ]
     },
     "execution_count": 47,
     "metadata": {},
     "output_type": "execute_result"
    }
   ],
   "source": [
    "X_selected.shape"
   ]
  },
  {
   "cell_type": "code",
   "execution_count": 48,
   "id": "68d0c968-051f-4977-a3f9-581cc0f8c0ab",
   "metadata": {},
   "outputs": [
    {
     "name": "stdout",
     "output_type": "stream",
     "text": [
      "total_bill     \tScore: 237.0\n",
      "sex     \tScore: 3.69\n",
      "smoker     \tScore: 0.4186\n",
      "day     \tScore: 1.008\n",
      "time     \tScore: 2.104\n",
      "size     \tScore: 73.08\n",
      "tip_rate     \tScore: 43.98\n"
     ]
    }
   ],
   "source": [
    "x = [name for name in tips.columns if name not in ['tip']]\n",
    "for i in range(data.shape[1]):\n",
    "    print(f'{x[i]}     \\tScore: {fs.scores_[i]:.4}')"
   ]
  }
 ],
 "metadata": {
  "kernelspec": {
   "display_name": "Python Multi",
   "language": "python",
   "name": "multi"
  },
  "language_info": {
   "codemirror_mode": {
    "name": "ipython",
    "version": 3
   },
   "file_extension": ".py",
   "mimetype": "text/x-python",
   "name": "python",
   "nbconvert_exporter": "python",
   "pygments_lexer": "ipython3",
   "version": "3.7.6"
  }
 },
 "nbformat": 4,
 "nbformat_minor": 5
}
